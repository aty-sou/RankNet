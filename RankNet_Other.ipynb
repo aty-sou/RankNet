{
 "cells": [
  {
   "cell_type": "code",
   "execution_count": 1,
   "metadata": {},
   "outputs": [],
   "source": [
    "import torch\n",
    "import torch.nn as nn\n",
    "import torch.nn.functional as F\n",
    "import numpy as np\n",
    "import pandas as pd\n",
    "from collections import OrderedDict\n",
    "import matplotlib.pyplot as plt"
   ]
  },
  {
   "cell_type": "code",
   "execution_count": 2,
   "metadata": {},
   "outputs": [],
   "source": [
    "from ptranking.data.data_utils import LTRDataset, SPLIT_TYPE\n",
    "data_id = 'MQ2007_Super'\n",
    "#MQ2007内にあるもの\n",
    "s1 = LTRDataset(SPLIT_TYPE.Train, data_id=data_id, file='S1.txt', batch_size=1, shuffle=True, presort=True, data_dict=None, eval_dict=None, buffer=False)\n",
    "s2 = LTRDataset(SPLIT_TYPE.Train, data_id=data_id, file='S2.txt', batch_size=1, shuffle=True, presort=True, data_dict=None, eval_dict=None, buffer=False)\n",
    "s3 = LTRDataset(SPLIT_TYPE.Train, data_id=data_id, file='S3.txt', batch_size=1, shuffle=True, presort=True, data_dict=None, eval_dict=None, buffer=False)\n",
    "s4 = LTRDataset(SPLIT_TYPE.Train, data_id=data_id, file='S4.txt', batch_size=1, shuffle=True, presort=True, data_dict=None, eval_dict=None, buffer=False)\n",
    "s5 = LTRDataset(SPLIT_TYPE.Train, data_id=data_id, file='S5.txt', batch_size=1, shuffle=True, presort=True, data_dict=None, eval_dict=None, buffer=False)\n",
    "test_data = LTRDataset(SPLIT_TYPE.Train, data_id=data_id, file='test.txt', batch_size=1, shuffle=True, presort=True, data_dict=None, eval_dict=None, buffer=False)"
   ]
  },
  {
   "cell_type": "code",
   "execution_count": null,
   "metadata": {},
   "outputs": [],
   "source": [
    "s1[0][0]"
   ]
  },
  {
   "cell_type": "code",
   "execution_count": 3,
   "metadata": {},
   "outputs": [],
   "source": [
    "data_list = [s1, s2, s3, s4, s5]"
   ]
  },
  {
   "cell_type": "code",
   "execution_count": 4,
   "metadata": {},
   "outputs": [],
   "source": [
    "#s1-s5でranking scoreとlabelをlistに分割する\n",
    "ranking=[]\n",
    "label=[]\n",
    "for doc in range(len(data_list)):\n",
    "    ranking.append([])\n",
    "    label.append([])\n",
    "    for query in range(len(data_list[doc])):\n",
    "        _, batch_ranking, std_label = data_list[doc][query]\n",
    "        ranking[-1].append(batch_ranking)\n",
    "        label[-1].append(std_label)"
   ]
  },
  {
   "cell_type": "code",
   "execution_count": 5,
   "metadata": {},
   "outputs": [
    {
     "data": {
      "text/plain": [
       "tensor([[1., 1., 1., 1., 1., 1., 1., 1., 1., 1., 1., 1., 1., 1., 1., 1., 0., 0.,\n",
       "         0., 0., 0., 0., 0., 0., 0., 0., 0., 0., 0., 0., 0., 0., 0., 0., 0., 0.,\n",
       "         0., 0., 0., 0.]])"
      ]
     },
     "execution_count": 5,
     "metadata": {},
     "output_type": "execute_result"
    }
   ],
   "source": [
    "label[0][0]"
   ]
  },
  {
   "cell_type": "code",
   "execution_count": 6,
   "metadata": {},
   "outputs": [],
   "source": [
    "layers = [nn.Linear(46, 128),\n",
    "          nn.ReLU(),\n",
    "          nn.Linear(128, 64),\n",
    "          nn.ReLU(),\n",
    "          nn.Linear(64, 32),\n",
    "          nn.ReLU(),\n",
    "          nn.Linear(32, 1)]"
   ]
  },
  {
   "cell_type": "code",
   "execution_count": 7,
   "metadata": {},
   "outputs": [],
   "source": [
    "class RankNet(nn.Module):\n",
    "    def __init__(self, layers):\n",
    "        super(RankNet, self).__init__()\n",
    "        self.model = nn.Sequential(*layers)\n",
    "        \n",
    "    def forward(self, batch_ranking, label):\n",
    "        batch_pred = self.model(batch_ranking) # [1, 40, 1]\n",
    "        batch_sij = torch.squeeze(batch_pred, 0) - torch.squeeze(batch_pred, 2) # [40, 40]\n",
    "\n",
    "        label_dim = torch.squeeze(label)\n",
    "        label_diffs = torch.unsqueeze(label_dim, 1) - label # [40,40]\n",
    "        batch_Sij = torch.clamp(label_diffs, -1, 1)\n",
    "                \n",
    "        # computes p_ij\n",
    "        batch_pij = 1 / (1 + torch.exp(-batch_sij)) # [40, 40]\n",
    "                \n",
    "        # computes loss\n",
    "        batch_loss = 0.5 * (1-batch_Sij) * batch_sij + torch.log(1+torch.exp(-batch_sij)) #[40, 40]\n",
    "                \n",
    "        # make upper triangular matrix\n",
    "        batch_loss_triu = torch.triu(batch_loss, diagonal=1)\n",
    "\n",
    "        # computes the mean value of a\n",
    "        num_elements = (batch_loss_triu.size(1)*batch_loss_triu.size(1)-batch_loss_triu.size(1))/2\n",
    "        batch_loss_mean = torch.sum(batch_loss_triu)/num_elements\n",
    "        \n",
    "        #loss_list.append(batch_loss_mean)\n",
    "                \n",
    "        #print(\"batch_loss_mean\", batch_loss_mean)\n",
    "        \n",
    "        return batch_loss_mean\n",
    "    \n",
    "    def predict(self, x):\n",
    "        return self.model(x)"
   ]
  },
  {
   "cell_type": "code",
   "execution_count": 8,
   "metadata": {},
   "outputs": [],
   "source": [
    "def DCG(sorted_labels, cutoff):\n",
    "    denoms = torch.log2(torch.arange(2, cutoff+2))\n",
    "    nums = torch.pow(2, sorted_labels[0:cutoff])-1\n",
    "    dcg = sum(nums / denoms)\n",
    "    return dcg"
   ]
  },
  {
   "cell_type": "code",
   "execution_count": 9,
   "metadata": {},
   "outputs": [],
   "source": [
    "def nDCG(ideal, pred, k):\n",
    "    dcg_f = DCG(pred, k)\n",
    "    dcg = DCG(ideal, k)\n",
    "    nDCG = dcg_f / dcg\n",
    "    return nDCG"
   ]
  },
  {
   "cell_type": "code",
   "execution_count": 10,
   "metadata": {},
   "outputs": [],
   "source": [
    "def compute_ndcg(rank,label,cutoff):     \n",
    "    t = model.predict(rank)\n",
    "    r = torch.argsort(t,dim=1,descending = True)\n",
    "    ideal,_ = torch.sort(label,1,descending = True)\n",
    "    ideal = torch.unsqueeze(ideal,2).reshape(-1)\n",
    "    pred = torch.gather(label.unsqueeze(2),1,r).reshape(-1)\n",
    "    ndcg = torch.nan_to_num(nDCG(ideal,pred,cutoff))\n",
    "    return ndcg"
   ]
  },
  {
   "cell_type": "code",
   "execution_count": 18,
   "metadata": {},
   "outputs": [],
   "source": [
    "def training_loop(n_epochs,optimizer,model,ranking_score,std_label):\n",
    "    count = 0\n",
    "    best_ndcg = 0\n",
    "    \n",
    "    while count < 5:\n",
    "        \n",
    "        print(\"fold:{0}\".format(count+1))\n",
    "        # 最初の3つをtrainに\n",
    "        train = 2\n",
    "        # 1つをvalidationに\n",
    "        val = 3\n",
    "        # 最後をtestに\n",
    "        test = 4\n",
    "    \n",
    "        # モデルの訓練\n",
    "        print(\"*train*\")\n",
    "        \n",
    "        for epoch in range(1, n_epochs + 1):\n",
    "        \n",
    "            # クエリごとの訓練\n",
    "            batch_loss = 0\n",
    "            batch_ndcg = 0\n",
    "            \n",
    "            train_ranking = ranking[count]+ranking[(count+1)%5]+ranking[(count+2)%5]\n",
    "            train_label = label[count]+label[(count+1)%5]+label[(count+2)%5]\n",
    "            \n",
    "            for train_query in range(len(train_ranking)):\n",
    "                batch_loss += model.forward(batch_ranking=train_ranking[train_query], label=train_label[train_query])\n",
    "                batch_ndcg += compute_ndcg(train_ranking[train_query],train_label[train_query],5)\n",
    "                    \n",
    "            fold_loss_mean = batch_loss / len(train_ranking)\n",
    "            fold_ndcg_mean = batch_ndcg / len(train_ranking)\n",
    "            \n",
    "            if epoch ==1 or epoch%10==0:\n",
    "                print('epoch:{0}, loss:{1}, ndcg:{2}'.format(epoch, fold_loss_mean, fold_ndcg_mean))\n",
    "            \n",
    "            # パラメータ選択\n",
    "            val_loss = 0\n",
    "            val_ndcg = 0\n",
    "            for val_query in range(len(ranking[(count+val)%5])):\n",
    "                val_loss += model.forward(batch_ranking=ranking[(count+val)%5][val_query], label=label[(count+val)%5][val_query])\n",
    "                val_ndcg += compute_ndcg(ranking[(count+val)%5][val_query],label[(count+val)%5][val_query],5)\n",
    "                \n",
    "            val_loss_mean = val_loss / len(ranking[(count+val)%5])\n",
    "            val_ndcg_mean = val_ndcg / len(ranking[(count+val)%5])\n",
    "            \n",
    "            \n",
    "            if val_ndcg_mean > best_ndcg:\n",
    "                best_ndcg = val_ndcg_mean\n",
    "                \n",
    "                #print('epoch:{0}, loss:{1}, ndcg:{2}'.format(epoch, val_loss_mean, val_ndcg_mean))\n",
    "            \n",
    "                # 訓練したモデルの保存\n",
    "                torch.save(model.state_dict(), 'weight.pth')\n",
    "            \n",
    "            optimizer.zero_grad()\n",
    "            fold_loss_mean.backward()\n",
    "            optimizer.step()\n",
    "            \n",
    "        # パラメータの読み込み\n",
    "        param = torch.load('weight.pth')\n",
    "        model.load_state_dict(param)\n",
    "        \n",
    "        \n",
    "        # test(関数を使わないバージョンだよーーーー)\n",
    "        print(\"*test*\")    \n",
    "        with torch.no_grad():\n",
    "            test_ndcg = 0\n",
    "            test_loss = 0\n",
    "            for test_query in range(len(ranking[(count+test)%5])):\n",
    "            #computes ndcg\n",
    "                test_loss += model.forward(batch_ranking=ranking[(count+test)%5][test_query], label=label[(count+test)%5][test_query])\n",
    "                test_ndcg += compute_ndcg(ranking[(count+test)%5][test_query],label[(count+test)%5][test_query],5)\n",
    "                  \n",
    "            test_ndcg_mean = test_ndcg / len((ranking[(count+test)%5]))\n",
    "        \n",
    "        print('loss:{0}, ndcg:{1}'.format(test_loss_mean, test_ndcg))\n",
    "        \n",
    "        count += 1\n",
    "        print(\"*****************************\")"
   ]
  },
  {
   "cell_type": "code",
   "execution_count": 19,
   "metadata": {},
   "outputs": [],
   "source": [
    "# クラスのインスタンス化\n",
    "model = RankNet(layers)"
   ]
  },
  {
   "cell_type": "code",
   "execution_count": 20,
   "metadata": {},
   "outputs": [
    {
     "name": "stdout",
     "output_type": "stream",
     "text": [
      "fold:1\n",
      "*train*\n",
      "epoch:1, loss:0.6932628154754639, ndcg:0.19019044935703278\n",
      "epoch:10, loss:0.6932562589645386, ndcg:0.19231191277503967\n",
      "epoch:20, loss:0.6932491660118103, ndcg:0.19418761134147644\n",
      "epoch:30, loss:0.6932414174079895, ndcg:0.19616520404815674\n",
      "epoch:40, loss:0.6932332515716553, ndcg:0.19821470975875854\n",
      "epoch:50, loss:0.6932259202003479, ndcg:0.1997835785150528\n",
      "epoch:60, loss:0.6932186484336853, ndcg:0.2020106315612793\n",
      "epoch:70, loss:0.6932104229927063, ndcg:0.20368671417236328\n",
      "epoch:80, loss:0.693202793598175, ndcg:0.20514008402824402\n",
      "epoch:90, loss:0.6931951642036438, ndcg:0.20755286514759064\n",
      "epoch:100, loss:0.6931875348091125, ndcg:0.2104966938495636\n",
      "*test*\n",
      "loss:0.6931732296943665, ndcg:0.20646017789840698\n",
      "*****************************\n",
      "fold:2\n",
      "*train*\n",
      "epoch:1, loss:0.6931903958320618, ndcg:0.2066461145877838\n",
      "epoch:10, loss:0.6931833624839783, ndcg:0.20945218205451965\n",
      "epoch:20, loss:0.6931757926940918, ndcg:0.21162128448486328\n",
      "epoch:30, loss:0.6931681632995605, ndcg:0.21349596977233887\n",
      "epoch:40, loss:0.6931596398353577, ndcg:0.21769267320632935\n",
      "epoch:50, loss:0.6931514739990234, ndcg:0.21902194619178772\n",
      "epoch:60, loss:0.6931435465812683, ndcg:0.22152264416217804\n",
      "epoch:70, loss:0.6931353807449341, ndcg:0.22416558861732483\n",
      "epoch:80, loss:0.6931275129318237, ndcg:0.2279082089662552\n",
      "epoch:90, loss:0.6931190490722656, ndcg:0.23016098141670227\n",
      "epoch:100, loss:0.6931110620498657, ndcg:0.23283392190933228\n",
      "*test*\n",
      "loss:0.6930985450744629, ndcg:0.26127180457115173\n",
      "*****************************\n",
      "fold:3\n",
      "*train*\n",
      "epoch:1, loss:0.6931048035621643, ndcg:0.24055811762809753\n",
      "epoch:10, loss:0.693098247051239, ndcg:0.24370476603507996\n",
      "epoch:20, loss:0.693090558052063, ndcg:0.2465018332004547\n",
      "epoch:30, loss:0.6930826306343079, ndcg:0.24959678947925568\n",
      "epoch:40, loss:0.6930745840072632, ndcg:0.2528870105743408\n",
      "epoch:50, loss:0.6930665373802185, ndcg:0.2554573118686676\n",
      "epoch:60, loss:0.6930580735206604, ndcg:0.2565213441848755\n",
      "epoch:70, loss:0.6930491924285889, ndcg:0.2587836682796478\n",
      "epoch:80, loss:0.6930407285690308, ndcg:0.2616836130619049\n",
      "epoch:90, loss:0.6930330991744995, ndcg:0.264395147562027\n",
      "epoch:100, loss:0.6930240988731384, ndcg:0.2680882513523102\n",
      "*test*\n",
      "loss:0.6930052042007446, ndcg:0.26283499598503113\n",
      "*****************************\n",
      "fold:4\n",
      "*train*\n",
      "epoch:1, loss:0.6930107474327087, ndcg:0.2734076678752899\n",
      "epoch:10, loss:0.6930025219917297, ndcg:0.27535685896873474\n",
      "epoch:20, loss:0.6929933428764343, ndcg:0.27751603722572327\n",
      "epoch:30, loss:0.6929840445518494, ndcg:0.28042539954185486\n",
      "epoch:40, loss:0.6929752230644226, ndcg:0.2824724614620209\n",
      "epoch:50, loss:0.6929658055305481, ndcg:0.28339022397994995\n",
      "epoch:60, loss:0.6929565668106079, ndcg:0.2845260202884674\n",
      "epoch:70, loss:0.6929465532302856, ndcg:0.2865879237651825\n",
      "epoch:80, loss:0.6929373145103455, ndcg:0.28822192549705505\n",
      "epoch:90, loss:0.6929274201393127, ndcg:0.2921639382839203\n",
      "epoch:100, loss:0.6929177045822144, ndcg:0.29452651739120483\n",
      "*test*\n",
      "loss:0.692929744720459, ndcg:0.28172847628593445\n",
      "*****************************\n",
      "fold:5\n",
      "*train*\n",
      "epoch:1, loss:0.6929214000701904, ndcg:0.29285380244255066\n",
      "epoch:10, loss:0.6929129958152771, ndcg:0.2941685616970062\n",
      "epoch:20, loss:0.6929022669792175, ndcg:0.2959279417991638\n",
      "epoch:30, loss:0.6928911209106445, ndcg:0.29847264289855957\n",
      "epoch:40, loss:0.6928808093070984, ndcg:0.3010399639606476\n",
      "epoch:50, loss:0.6928701996803284, ndcg:0.30376186966896057\n",
      "epoch:60, loss:0.6928587555885315, ndcg:0.30472424626350403\n",
      "epoch:70, loss:0.6928471326828003, ndcg:0.30731502175331116\n",
      "epoch:80, loss:0.692836344242096, ndcg:0.3099696636199951\n",
      "epoch:90, loss:0.6928250789642334, ndcg:0.31073376536369324\n",
      "epoch:100, loss:0.6928139925003052, ndcg:0.3125492334365845\n",
      "*test*\n",
      "loss:0.6928699016571045, ndcg:0.27718624472618103\n",
      "*****************************\n"
     ]
    }
   ],
   "source": [
    "training_loop(\n",
    "    n_epochs = 100,\n",
    "    optimizer = torch.optim.SGD(model.parameters(),lr = 0.01),\n",
    "    model = model,\n",
    "    ranking_score=ranking,\n",
    "    std_label=label,\n",
    "    )"
   ]
  },
  {
   "cell_type": "code",
   "execution_count": null,
   "metadata": {},
   "outputs": [],
   "source": []
  }
 ],
 "metadata": {
  "kernelspec": {
   "display_name": "Python 3",
   "language": "python",
   "name": "python3"
  },
  "language_info": {
   "codemirror_mode": {
    "name": "ipython",
    "version": 3
   },
   "file_extension": ".py",
   "mimetype": "text/x-python",
   "name": "python",
   "nbconvert_exporter": "python",
   "pygments_lexer": "ipython3",
   "version": "3.7.3"
  }
 },
 "nbformat": 4,
 "nbformat_minor": 4
}
