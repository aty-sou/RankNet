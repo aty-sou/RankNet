{
 "cells": [
  {
   "cell_type": "code",
   "execution_count": 1,
   "metadata": {},
   "outputs": [],
   "source": [
    "# 円の面積を求める関数\n",
    "def calc_area(r):\n",
    " return r ** 2 * 3.14"
   ]
  }
 ],
 "metadata": {
  "kernelspec": {
   "display_name": "Python 3.7.3 64-bit ('anaconda3-5.3.1': pyenv)",
   "metadata": {
    "interpreter": {
     "hash": "09f268b9583c4caa37fb44b5d5dae0beffb128ad40be38a640c92d77b82344b1"
    }
   },
   "name": "python3"
  },
  "language_info": {
   "name": "python",
   "nbconvert_exporter": "python",
   "version": "3.7.3-final"
  },
  "orig_nbformat": 2
 },
 "nbformat": 4,
 "nbformat_minor": 2
}