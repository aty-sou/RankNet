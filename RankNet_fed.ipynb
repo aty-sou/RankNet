{
 "cells": [
  {
   "cell_type": "code",
   "execution_count": 26,
   "metadata": {},
   "outputs": [],
   "source": [
    "import torch\n",
    "import torch.nn as nn\n",
    "import torch.nn.functional as F"
   ]
  },
  {
   "cell_type": "code",
   "execution_count": 27,
   "metadata": {},
   "outputs": [
    {
     "name": "stdout",
     "output_type": "stream",
     "text": [
      "/Users/kanazawaatsuya/imp/MQ2007/RankNet\n"
     ]
    }
   ],
   "source": [
    "# cd\n",
    "import os\n",
    "path = os.getcwd()\n",
    "print(path)"
   ]
  },
  {
   "cell_type": "code",
   "execution_count": 28,
   "metadata": {},
   "outputs": [],
   "source": [
    "from ptranking.data.data_utils import LTRDataset, SPLIT_TYPE\n",
    "data_id = 'MQ2007_Super'\n",
    "#MQ2007内にあるもの\n",
    "s1 = LTRDataset(SPLIT_TYPE.Train, data_id=data_id, file='S1.txt', batch_size=1, shuffle=True, presort=True, data_dict=None, eval_dict=None, buffer=False)\n",
    "s2 = LTRDataset(SPLIT_TYPE.Train, data_id=data_id, file='S2.txt', batch_size=1, shuffle=True, presort=True, data_dict=None, eval_dict=None, buffer=False)\n",
    "s3 = LTRDataset(SPLIT_TYPE.Train, data_id=data_id, file='S3.txt', batch_size=1, shuffle=True, presort=True, data_dict=None, eval_dict=None, buffer=False)\n",
    "s4 = LTRDataset(SPLIT_TYPE.Train, data_id=data_id, file='S4.txt', batch_size=1, shuffle=True, presort=True, data_dict=None, eval_dict=None, buffer=False)\n",
    "s5 = LTRDataset(SPLIT_TYPE.Train, data_id=data_id, file='S5.txt', batch_size=1, shuffle=True, presort=True, data_dict=None, eval_dict=None, buffer=False)"
   ]
  },
  {
   "cell_type": "code",
   "execution_count": 29,
   "metadata": {},
   "outputs": [],
   "source": [
    "layers = [nn.Linear(46, 128),\n",
    "          nn.ReLU(),\n",
    "          nn.Linear(128, 64),\n",
    "          nn.ReLU(),\n",
    "          nn.Linear(64, 32),\n",
    "          nn.ReLU(),\n",
    "          nn.Linear(32, 1)]"
   ]
  },
  {
   "cell_type": "code",
   "execution_count": 30,
   "metadata": {},
   "outputs": [],
   "source": [
    "class RankNet(nn.Module):\n",
    "    def __init__(self, layers):\n",
    "        super(RankNet, self).__init__()\n",
    "        self.model = nn.Sequential(*layers)\n",
    "        \n",
    "    def forward(self, batch_ranking, label):\n",
    "        batch_pred = self.model(batch_ranking) # [1, 40, 1]\n",
    "        batch_sij = torch.squeeze(batch_pred, 0) - torch.squeeze(batch_pred, 2) # [40, 40]\n",
    "        batch_pij = 1.0 / (1.0 + torch.exp(-batch_sij)) # [40, 40]\n",
    "\n",
    "        label_dim = torch.squeeze(label)\n",
    "        label_diffs = torch.unsqueeze(label_dim, 1) - label # [40,40]\n",
    "        batch_Sij = torch.clamp(label_diffs, -1, 1)\n",
    "        l_pij = 0.5 * (1.0 + batch_Sij)\n",
    "\n",
    "        batch_loss = F.binary_cross_entropy(input=torch.triu(batch_pij, diagonal=1), target=torch.triu(l_pij, diagonal=1), reduction='mean')    \n",
    "        \n",
    "        return batch_loss\n",
    "    \n",
    "    def predict(self, x):\n",
    "        return self.model(x)"
   ]
  },
  {
   "cell_type": "code",
   "execution_count": 31,
   "metadata": {},
   "outputs": [],
   "source": [
    "# ndcg\n",
    "def DCG(sorted_labels, cutoff):\n",
    "    denoms = torch.log2(torch.arange(2, cutoff+2))\n",
    "    nums = torch.pow(2, sorted_labels[0:cutoff])-1\n",
    "    dcg = sum(nums / denoms)\n",
    "    return dcg\n",
    "\n",
    "def nDCG(ideal, pred, k):\n",
    "    dcg_f = DCG(pred, k)\n",
    "    dcg = DCG(ideal, k)\n",
    "    nDCG = dcg_f / dcg\n",
    "    return nDCG\n",
    "\n",
    "def compute_ndcg(model, score, label, cutoff):\n",
    "    batch_pred = model.predict(score)\n",
    "    idx = torch.argsort(torch.squeeze(batch_pred),descending = True)\n",
    "    pred_sorted_labels = torch.squeeze(label)[idx]\n",
    "    ndcg = torch.nan_to_num(nDCG(torch.squeeze(label), pred_sorted_labels, cutoff))\n",
    "    \n",
    "    return ndcg"
   ]
  },
  {
   "cell_type": "code",
   "execution_count": 32,
   "metadata": {},
   "outputs": [],
   "source": [
    "def testing(model, data, cutoff):\n",
    "    with torch.no_grad():\n",
    "        ndcg_sum = 0\n",
    "        for _,batch_ranking,label in data:\n",
    "        #computes ndcg\n",
    "            ndcg = compute_ndcg(model,batch_ranking,label,cutoff)\n",
    "            ndcg_sum += ndcg  \n",
    "    ndcg_sum /= len(data)\n",
    "    return(ndcg_sum)"
   ]
  },
  {
   "cell_type": "code",
   "execution_count": 39,
   "metadata": {},
   "outputs": [],
   "source": [
    "def training_loop(n_epochs,optimizer,model,train):\n",
    "    \n",
    "    ndcg1=[]\n",
    "    ndcg5=[]\n",
    "    \n",
    "    # モデルの訓練\n",
    "    for epoch in range(1, n_epochs + 1):\n",
    "        \n",
    "        # クエリごとの訓練\n",
    "        batch_loss = 0\n",
    "        batch_ndcg1 = 0\n",
    "        batch_ndcg5 = 0\n",
    "        for _,batch_ranking,label in train:\n",
    "            batch_loss += model.forward(batch_ranking=batch_ranking, label=label)\n",
    "            #print(compute_ndcg(batch_ranking,label,5))\n",
    "            batch_ndcg1 += compute_ndcg(model,batch_ranking,label,1)\n",
    "            batch_ndcg5 += compute_ndcg(model,batch_ranking,label,5)\n",
    "                    \n",
    "        fold_loss_mean = batch_loss / len(train)\n",
    "        fold_ndcg1_mean = batch_ndcg1 / len(train)\n",
    "        fold_ndcg5_mean = batch_ndcg5 / len(train)\n",
    "        \n",
    "        ndcg1.append(fold_ndcg1_mean)\n",
    "        ndcg5.append(fold_ndcg5_mean)\n",
    "        \n",
    "        #if epoch == 1 or epoch % 100 ==0:\n",
    "        #    print('epoch:{0}, loss:{1}, ndcg@1:{2}, ndcg@5:{3}'.format(epoch, fold_loss_mean, fold_ndcg1_mean, fold_ndcg5_mean))\n",
    "            \n",
    "        print('epoch:{0}, loss:{1}, ndcg@1:{2}, ndcg@5:{3}'.format(epoch, fold_loss_mean, fold_ndcg1_mean, fold_ndcg5_mean))\n",
    "        \n",
    "        print(model.state_dict()['model.6.bias'])\n",
    "\n",
    "        optimizer.zero_grad()\n",
    "        fold_loss_mean.backward()\n",
    "        optimizer.step()\n",
    "    \n",
    "    return [ndcg1, ndcg5]"
   ]
  },
  {
   "cell_type": "code",
   "execution_count": 36,
   "metadata": {},
   "outputs": [],
   "source": [
    "model = RankNet(layers)"
   ]
  },
  {
   "cell_type": "code",
   "execution_count": 37,
   "metadata": {},
   "outputs": [
    {
     "data": {
      "text/plain": "<All keys matched successfully>"
     },
     "execution_count": 37,
     "metadata": {},
     "output_type": "execute_result"
    }
   ],
   "source": [
    "# 学習前のパラメータの保存\n",
    "torch.save(model.state_dict(), 'weight.pth')\n",
    "\n",
    "# 学習前のパラメータの読み込みを行うとき\n",
    "param = torch.load('weight.pth')\n",
    "model.load_state_dict(param)"
   ]
  },
  {
   "cell_type": "code",
   "execution_count": null,
   "metadata": {},
   "outputs": [],
   "source": [
    "# パラメータの中身を確認\n",
    "param = torch.load('param11.pth')\n",
    "param"
   ]
  },
  {
   "cell_type": "code",
   "execution_count": null,
   "metadata": {},
   "outputs": [],
   "source": [
    "# パラメータの中身を確認\n",
    "param = torch.load('param12.pth')\n",
    "param"
   ]
  },
  {
   "cell_type": "code",
   "execution_count": null,
   "metadata": {},
   "outputs": [],
   "source": [
    "# 学習前のパラメータ\n",
    "param"
   ]
  },
  {
   "cell_type": "code",
   "execution_count": 11,
   "metadata": {},
   "outputs": [],
   "source": [
    "data_list = [s1,s2,s3,s4,s5]"
   ]
  },
  {
   "cell_type": "code",
   "execution_count": 40,
   "metadata": {},
   "outputs": [
    {
     "name": "stdout",
     "output_type": "stream",
     "text": [
      "epoch:1, loss:0.3378232717514038, ndcg@1:0.3058014214038849, ndcg@5:0.3274371027946472\n",
      "tensor([-0.1423])\n",
      "epoch:2, loss:0.3378230035305023, ndcg@1:0.3058014214038849, ndcg@5:0.3274371027946472\n",
      "tensor([-0.1423])\n",
      "epoch:3, loss:0.33782270550727844, ndcg@1:0.3067847192287445, ndcg@5:0.3275601863861084\n",
      "tensor([-0.1423])\n",
      "epoch:4, loss:0.3378223776817322, ndcg@1:0.3067847192287445, ndcg@5:0.3273599147796631\n",
      "tensor([-0.1423])\n",
      "epoch:5, loss:0.3378221094608307, ndcg@1:0.3067847192287445, ndcg@5:0.3273599147796631\n",
      "tensor([-0.1423])\n",
      "epoch:6, loss:0.337821900844574, ndcg@1:0.3067847192287445, ndcg@5:0.3269728720188141\n",
      "tensor([-0.1423])\n",
      "epoch:7, loss:0.3378216624259949, ndcg@1:0.3067847192287445, ndcg@5:0.3270266652107239\n",
      "tensor([-0.1423])\n",
      "epoch:8, loss:0.337821364402771, ndcg@1:0.3067847192287445, ndcg@5:0.32722702622413635\n",
      "tensor([-0.1423])\n",
      "epoch:9, loss:0.3378211557865143, ndcg@1:0.3067847192287445, ndcg@5:0.32722702622413635\n",
      "tensor([-0.1423])\n",
      "epoch:10, loss:0.3378209173679352, ndcg@1:0.3067847192287445, ndcg@5:0.32675477862358093\n",
      "tensor([-0.1423])\n"
     ]
    },
    {
     "data": {
      "text/plain": "[[tensor(0.3058),\n  tensor(0.3058),\n  tensor(0.3068),\n  tensor(0.3068),\n  tensor(0.3068),\n  tensor(0.3068),\n  tensor(0.3068),\n  tensor(0.3068),\n  tensor(0.3068),\n  tensor(0.3068)],\n [tensor(0.3274),\n  tensor(0.3274),\n  tensor(0.3276),\n  tensor(0.3274),\n  tensor(0.3274),\n  tensor(0.3270),\n  tensor(0.3270),\n  tensor(0.3272),\n  tensor(0.3272),\n  tensor(0.3268)]]"
     },
     "execution_count": 40,
     "metadata": {},
     "output_type": "execute_result"
    }
   ],
   "source": [
    "# 1個だけのパターン\n",
    "training_loop(\n",
    "        # epoch\n",
    "        n_epochs = 10,\n",
    "        optimizer = torch.optim.SGD(model.parameters(),lr = 0.01),\n",
    "        model = baseline_model,\n",
    "        train = s1\n",
    "        )"
   ]
  },
  {
   "cell_type": "code",
   "execution_count": 22,
   "metadata": {},
   "outputs": [
    {
     "name": "stdout",
     "output_type": "stream",
     "text": [
      "tensor([0.0192])\n"
     ]
    }
   ],
   "source": [
    "print(model.state_dict()['model.6.bias'])"
   ]
  },
  {
   "cell_type": "code",
   "execution_count": 42,
   "metadata": {},
   "outputs": [
    {
     "data": {
      "text/plain": "OrderedDict([('model.0.weight',\n              tensor([[ 0.0007,  0.0365,  0.0924,  ..., -0.1464,  0.1256,  0.0040],\n                      [-0.0530,  0.0670,  0.1345,  ...,  0.0559,  0.1094,  0.0401],\n                      [-0.0208, -0.0788, -0.0493,  ..., -0.1434, -0.0369, -0.0895],\n                      ...,\n                      [ 0.0329, -0.0297,  0.1273,  ..., -0.1040, -0.1065,  0.1241],\n                      [-0.0624, -0.0016,  0.0991,  ..., -0.1244,  0.0580,  0.0249],\n                      [-0.0386, -0.0658, -0.1129,  ...,  0.0289,  0.0981,  0.0047]])),\n             ('model.0.bias',\n              tensor([-3.3656e-02, -8.5838e-02,  8.7210e-04, -4.2210e-02,  4.0286e-03,\n                       1.1044e-01, -1.2707e-01, -7.3269e-03,  7.1637e-02,  1.8378e-02,\n                      -3.6352e-02, -5.2930e-02,  1.1542e-01, -9.9581e-02,  3.0477e-02,\n                      -1.0373e-01, -1.6903e-02,  1.3838e-01,  8.1008e-02,  1.3095e-01,\n                       1.0138e-01,  1.2251e-01,  4.5806e-02,  1.1936e-01, -7.2779e-02,\n                      -7.3606e-02,  5.5666e-02, -8.8183e-02, -5.0305e-03, -8.8802e-02,\n                      -9.7100e-02, -9.7961e-02,  7.1773e-02, -4.3040e-02, -1.1999e-01,\n                      -6.0118e-02,  3.7194e-02, -1.0016e-01, -3.0804e-02,  3.8718e-03,\n                       2.9057e-02, -2.0155e-02,  6.6783e-02, -5.3897e-02, -1.4483e-01,\n                       9.4897e-02, -9.6054e-02, -8.1198e-02, -5.0886e-02, -1.3128e-01,\n                      -7.0445e-02,  6.0325e-03, -5.6068e-02,  1.3858e-01, -8.4487e-02,\n                      -1.0637e-01, -4.2317e-02,  7.4454e-02,  4.7496e-02, -7.2467e-02,\n                       1.3155e-01,  4.5714e-02,  1.1747e-01,  8.1829e-02, -1.1131e-01,\n                       4.3939e-02, -2.6229e-02, -4.1801e-02,  1.0725e-01,  1.1584e-01,\n                      -2.0504e-02, -1.2470e-01,  9.9713e-02,  7.0868e-02,  1.4231e-01,\n                      -3.4514e-02,  2.9565e-02,  8.1502e-02,  8.1839e-02,  1.3852e-04,\n                      -5.7255e-02, -1.7212e-02, -1.1045e-01,  9.4848e-02, -1.0415e-02,\n                      -3.3725e-02, -5.7938e-02, -1.3125e-01, -9.4630e-02,  1.1053e-01,\n                      -7.7823e-02, -2.9072e-02, -3.4483e-02,  1.1246e-01, -1.3160e-01,\n                       8.0864e-02, -4.9929e-02,  1.3250e-01, -5.1324e-02, -6.5274e-02,\n                       7.1995e-02, -4.2621e-03,  4.7348e-02, -1.0311e-01,  3.1782e-02,\n                      -9.7434e-02,  1.1758e-01, -1.2671e-01,  8.1081e-02, -1.3762e-01,\n                       4.4976e-02, -4.6455e-02,  1.1699e-01, -1.1590e-01,  1.3029e-02,\n                      -9.0847e-03, -1.2471e-01,  1.0910e-01, -3.8754e-02,  1.3771e-01,\n                      -6.1572e-02,  1.1493e-01,  1.3775e-01,  8.4338e-02,  1.1150e-01,\n                       1.4633e-01,  3.1835e-02,  8.9932e-02])),\n             ('model.2.weight',\n              tensor([[ 0.0460, -0.0587,  0.0631,  ..., -0.0464, -0.0521, -0.0412],\n                      [-0.0708,  0.0514,  0.0391,  ..., -0.0307,  0.0700, -0.0807],\n                      [-0.0108, -0.0875, -0.0356,  ...,  0.0342, -0.0758,  0.0704],\n                      ...,\n                      [ 0.0063, -0.0621,  0.0081,  ...,  0.0729, -0.0370,  0.0771],\n                      [-0.0271,  0.0308, -0.0497,  ...,  0.0443, -0.0561, -0.0773],\n                      [ 0.0407,  0.0301, -0.0208,  ...,  0.0171,  0.0703, -0.0357]])),\n             ('model.2.bias',\n              tensor([-0.0519,  0.0557,  0.0436, -0.0520,  0.0520,  0.0177,  0.0085,  0.0229,\n                      -0.0808,  0.0710, -0.0006,  0.0497, -0.0503, -0.0525, -0.0847,  0.0264,\n                      -0.0816,  0.0867,  0.0381, -0.0084,  0.0482, -0.0818, -0.0361,  0.0199,\n                      -0.0465,  0.0658, -0.0717, -0.0609,  0.0605,  0.0673,  0.0275, -0.0677,\n                       0.0522, -0.0120, -0.0410, -0.0771, -0.0437, -0.0283,  0.0211,  0.0781,\n                       0.0026, -0.0432, -0.0166,  0.0371,  0.0070, -0.0639,  0.0668, -0.0208,\n                      -0.0331, -0.0540, -0.0658, -0.0579, -0.0601, -0.0240,  0.0669, -0.0667,\n                      -0.0150,  0.0868,  0.0454,  0.0850, -0.0085,  0.0162, -0.0077,  0.0803])),\n             ('model.4.weight',\n              tensor([[-0.1062,  0.0996,  0.0459,  ...,  0.1002,  0.0032, -0.0968],\n                      [-0.0982, -0.0549, -0.0126,  ...,  0.0257, -0.0638,  0.0354],\n                      [-0.0343, -0.0246,  0.0242,  ..., -0.1112, -0.1210, -0.0419],\n                      ...,\n                      [ 0.0934, -0.0870, -0.0457,  ...,  0.0604, -0.0884,  0.0070],\n                      [-0.0774, -0.0836,  0.0570,  ..., -0.0021, -0.0044, -0.0880],\n                      [ 0.0386, -0.0753,  0.0309,  ..., -0.1062, -0.0813, -0.0034]])),\n             ('model.4.bias',\n              tensor([ 0.0540, -0.0338, -0.0386,  0.0270, -0.0819, -0.0115, -0.0517,  0.0444,\n                      -0.0313,  0.0168, -0.0917, -0.1114, -0.0175, -0.0252, -0.0096,  0.0816,\n                      -0.0330, -0.1000, -0.1103, -0.0196, -0.1166,  0.0254,  0.1210, -0.0079,\n                      -0.0281, -0.0083, -0.0676, -0.0270,  0.1210,  0.0811,  0.0438, -0.0006])),\n             ('model.6.weight',\n              tensor([[ 0.0464,  0.0306,  0.1490, -0.1612, -0.1625, -0.1574,  0.0977,  0.1651,\n                        0.1351, -0.1699,  0.0842,  0.1239, -0.1470, -0.0157, -0.0899, -0.1079,\n                       -0.0029, -0.0620,  0.0622,  0.0086, -0.0333, -0.1655, -0.0754, -0.0596,\n                        0.1597, -0.0873,  0.0107,  0.0173,  0.1664,  0.1194,  0.0515, -0.1457]])),\n             ('model.6.bias', tensor([-0.1423]))])"
     },
     "execution_count": 42,
     "metadata": {},
     "output_type": "execute_result"
    }
   ],
   "source": [
    "baseline_model.state_dict()"
   ]
  },
  {
   "cell_type": "code",
   "execution_count": 83,
   "metadata": {},
   "outputs": [
    {
     "name": "stdout",
     "output_type": "stream",
     "text": [
      "fold : 1\n",
      "epoch:1, loss:0.33815905451774597, ndcg@1:0.15240907669067383, ndcg@5:0.18355251848697662\n",
      "epoch:100, loss:0.3381434381008148, ndcg@1:0.1637168526649475, ndcg@5:0.1935797780752182\n",
      "epoch:200, loss:0.33812808990478516, ndcg@1:0.17453300952911377, ndcg@5:0.2039499133825302\n",
      "epoch:300, loss:0.33811303973197937, ndcg@1:0.18239928781986237, ndcg@5:0.21286024153232574\n",
      "epoch:400, loss:0.33809787034988403, ndcg@1:0.19419868290424347, ndcg@5:0.2236655205488205\n",
      "epoch:500, loss:0.33808261156082153, ndcg@1:0.206489697098732, ndcg@5:0.23424586653709412\n",
      "epoch:600, loss:0.33806705474853516, ndcg@1:0.21288101375102997, ndcg@5:0.24224111437797546\n",
      "epoch:700, loss:0.3380517363548279, ndcg@1:0.22615531086921692, ndcg@5:0.25193220376968384\n",
      "epoch:800, loss:0.33803626894950867, ndcg@1:0.2330382764339447, ndcg@5:0.25951194763183594\n",
      "epoch:900, loss:0.33802101016044617, ndcg@1:0.23549652099609375, ndcg@5:0.26525336503982544\n",
      "epoch:1000, loss:0.3380058705806732, ndcg@1:0.24336276948451996, ndcg@5:0.26758673787117004\n",
      "tensor(0.2490)\n",
      "tensor(0.2836)\n",
      "fold : 2\n",
      "epoch:1, loss:0.3381313979625702, ndcg@1:0.16345685720443726, ndcg@5:0.1888035237789154\n",
      "epoch:100, loss:0.33811721205711365, ndcg@1:0.17629636824131012, ndcg@5:0.19814354181289673\n",
      "epoch:200, loss:0.33810287714004517, ndcg@1:0.1906173974275589, ndcg@5:0.21087035536766052\n",
      "epoch:300, loss:0.338088721036911, ndcg@1:0.2049383521080017, ndcg@5:0.22184382379055023\n",
      "epoch:400, loss:0.3380741775035858, ndcg@1:0.21185189485549927, ndcg@5:0.23145078122615814\n",
      "epoch:500, loss:0.33806002140045166, ndcg@1:0.2227160483598709, ndcg@5:0.2419838011264801\n",
      "epoch:600, loss:0.3380461037158966, ndcg@1:0.22024689614772797, ndcg@5:0.24797587096691132\n",
      "epoch:700, loss:0.33803173899650574, ndcg@1:0.22518515586853027, ndcg@5:0.2566535770893097\n",
      "epoch:800, loss:0.33801746368408203, ndcg@1:0.23061726987361908, ndcg@5:0.2630261778831482\n",
      "epoch:900, loss:0.3380029499530792, ndcg@1:0.23358023166656494, ndcg@5:0.2679300904273987\n",
      "epoch:1000, loss:0.3379881680011749, ndcg@1:0.23753085732460022, ndcg@5:0.27112945914268494\n",
      "tensor(0.2419)\n",
      "tensor(0.2676)\n",
      "fold : 3\n",
      "epoch:1, loss:0.33807268738746643, ndcg@1:0.1644444763660431, ndcg@5:0.18645524978637695\n",
      "epoch:100, loss:0.3380570113658905, ndcg@1:0.1792593151330948, ndcg@5:0.1970299333333969\n",
      "epoch:200, loss:0.3380410969257355, ndcg@1:0.1990123838186264, ndcg@5:0.21013621985912323\n",
      "epoch:300, loss:0.3380260467529297, ndcg@1:0.20493829250335693, ndcg@5:0.2205502837896347\n",
      "epoch:400, loss:0.33801084756851196, ndcg@1:0.2227160483598709, ndcg@5:0.23257765173912048\n",
      "epoch:500, loss:0.3379961848258972, ndcg@1:0.22864198684692383, ndcg@5:0.24133794009685516\n",
      "epoch:600, loss:0.3379814624786377, ndcg@1:0.22864201664924622, ndcg@5:0.2490367591381073\n",
      "epoch:700, loss:0.3379664421081543, ndcg@1:0.23506172001361847, ndcg@5:0.2591664493083954\n",
      "epoch:800, loss:0.3379513919353485, ndcg@1:0.23555555939674377, ndcg@5:0.2647536098957062\n",
      "epoch:900, loss:0.337936133146286, ndcg@1:0.23950615525245667, ndcg@5:0.269187331199646\n",
      "epoch:1000, loss:0.3379206955432892, ndcg@1:0.24493826925754547, ndcg@5:0.27768105268478394\n",
      "tensor(0.2203)\n",
      "tensor(0.2651)\n",
      "fold : 4\n",
      "epoch:1, loss:0.3380260169506073, ndcg@1:0.15093417465686798, ndcg@5:0.18017831444740295\n",
      "epoch:100, loss:0.33800971508026123, ndcg@1:0.16617508232593536, ndcg@5:0.191569983959198\n",
      "epoch:200, loss:0.33799371123313904, ndcg@1:0.1789577752351761, ndcg@5:0.20183175802230835\n",
      "epoch:300, loss:0.3379778265953064, ndcg@1:0.18879060447216034, ndcg@5:0.21199418604373932\n",
      "epoch:400, loss:0.33796265721321106, ndcg@1:0.2104228436946869, ndcg@5:0.22354787588119507\n",
      "epoch:500, loss:0.33794716000556946, ndcg@1:0.21779745817184448, ndcg@5:0.2342924028635025\n",
      "epoch:600, loss:0.33793193101882935, ndcg@1:0.22763030230998993, ndcg@5:0.24253244698047638\n",
      "epoch:700, loss:0.33791640400886536, ndcg@1:0.22910521924495697, ndcg@5:0.2510361969470978\n",
      "epoch:800, loss:0.33790090680122375, ndcg@1:0.23156344890594482, ndcg@5:0.25671377778053284\n",
      "epoch:900, loss:0.3378852903842926, ndcg@1:0.23205508291721344, ndcg@5:0.26228123903274536\n",
      "epoch:1000, loss:0.3378692865371704, ndcg@1:0.23942971229553223, ndcg@5:0.26847735047340393\n",
      "tensor(0.2498)\n",
      "tensor(0.2759)\n",
      "fold : 5\n",
      "epoch:1, loss:0.33807870745658875, ndcg@1:0.14798429608345032, ndcg@5:0.18081223964691162\n",
      "epoch:100, loss:0.3380628526210785, ndcg@1:0.16224192082881927, ndcg@5:0.19024658203125\n",
      "epoch:200, loss:0.338047593832016, ndcg@1:0.17010816931724548, ndcg@5:0.19924896955490112\n",
      "epoch:300, loss:0.3380323052406311, ndcg@1:0.1794494092464447, ndcg@5:0.21074359118938446\n",
      "epoch:400, loss:0.3380170166492462, ndcg@1:0.19665689766407013, ndcg@5:0.22079744935035706\n",
      "epoch:500, loss:0.338001549243927, ndcg@1:0.2109144777059555, ndcg@5:0.23385892808437347\n",
      "epoch:600, loss:0.3379860818386078, ndcg@1:0.22025567293167114, ndcg@5:0.24344401061534882\n",
      "epoch:700, loss:0.33797064423561096, ndcg@1:0.22812193632125854, ndcg@5:0.25128960609436035\n",
      "epoch:800, loss:0.3379550278186798, ndcg@1:0.23205508291721344, ndcg@5:0.25921139121055603\n",
      "epoch:900, loss:0.33793964982032776, ndcg@1:0.23205508291721344, ndcg@5:0.2648944556713104\n",
      "epoch:1000, loss:0.3379238545894623, ndcg@1:0.23205508291721344, ndcg@5:0.26974478363990784\n",
      "tensor(0.2380)\n",
      "tensor(0.2620)\n"
     ]
    }
   ],
   "source": [
    "# 平均をとるという実験\n",
    "train_fold_ndcg1=[]\n",
    "train_fold_ndcg5=[]\n",
    "\n",
    "test_fold_ndcg1=[]\n",
    "test_fold_ndcg5=[]\n",
    "\n",
    "for i in range(5):\n",
    "\n",
    "    print(\"fold :\", i+1)\n",
    "\n",
    "    # 学習前のモデルを使う\n",
    "    param = torch.load('weight.pth')\n",
    "    #print(param)\n",
    "    model.load_state_dict(param)\n",
    "    \n",
    "    # 学習を行う\n",
    "    ndcg1, ndcg5 = training_loop(\n",
    "        # epoch\n",
    "        n_epochs = 3,\n",
    "        optimizer = torch.optim.SGD(model.parameters(),lr = 0.01),\n",
    "        model = model,\n",
    "        train = data_list[0]+data_list[1],\n",
    "        )\n",
    "\n",
    "    # テスト\n",
    "    test_ndcg1=testing(model, data_list[4], 1)\n",
    "    test_ndcg5=testing(model, data_list[4], 5)\n",
    "\n",
    "    print(test_ndcg1)\n",
    "    print(test_ndcg5)\n",
    "\n",
    "    # リストに追加\n",
    "    train_fold_ndcg1.append(ndcg1)\n",
    "    train_fold_ndcg5.append(ndcg5)\n",
    "    \n",
    "    test_fold_ndcg1.append(test_ndcg1)\n",
    "    test_fold_ndcg5.append(test_ndcg5)\n",
    "    \n",
    "    data_list.insert(0,data_list.pop())\n"
   ]
  },
  {
   "cell_type": "code",
   "execution_count": 23,
   "metadata": {},
   "outputs": [],
   "source": [
    "type(train_fold_ndcg1)"
   ]
  },
  {
   "cell_type": "code",
   "execution_count": 24,
   "metadata": {},
   "outputs": [
    {
     "data": {
      "text/plain": [
       "[5, 1, 2, 3, 4]"
      ]
     },
     "execution_count": 24,
     "metadata": {},
     "output_type": "execute_result"
    }
   ],
   "source": [
    "data_list"
   ]
  },
  {
   "cell_type": "code",
   "execution_count": null,
   "metadata": {},
   "outputs": [],
   "source": [
    "1+1"
   ]
  },
  {
   "cell_type": "markdown",
   "metadata": {},
   "source": [
    "Averaging Model Updates"
   ]
  },
  {
   "cell_type": "code",
   "execution_count": 48,
   "metadata": {},
   "outputs": [],
   "source": [
    "from collections import OrderedDict"
   ]
  },
  {
   "cell_type": "code",
   "execution_count": 49,
   "metadata": {
    "collapsed": true,
    "jupyter": {
     "outputs_hidden": true
    }
   },
   "outputs": [
    {
     "name": "stdout",
     "output_type": "stream",
     "text": [
      "Parameter containing:\n",
      "tensor([[-0.1003,  0.0039,  0.0886,  ..., -0.0470, -0.0589, -0.0376],\n",
      "        [-0.0780,  0.1047,  0.0127,  ..., -0.0129, -0.0688, -0.0642],\n",
      "        [-0.1106,  0.1291,  0.0738,  ..., -0.0477, -0.0226,  0.0282],\n",
      "        ...,\n",
      "        [-0.0735,  0.0641, -0.0651,  ..., -0.0780, -0.1289, -0.0414],\n",
      "        [ 0.0024,  0.0181,  0.1459,  ..., -0.0802,  0.1009, -0.1419],\n",
      "        [-0.1110,  0.0600, -0.0325,  ..., -0.0030, -0.0187, -0.1386]],\n",
      "       requires_grad=True)\n",
      "Parameter containing:\n",
      "tensor([ 1.6475e-02,  1.1736e-01, -1.3395e-01, -1.1428e-01, -1.6961e-02,\n",
      "        -1.4308e-01, -4.7777e-02,  8.8858e-02, -5.0016e-02,  5.7176e-04,\n",
      "         1.1619e-01,  2.3700e-02,  5.2950e-02,  1.1244e-01,  1.2122e-01,\n",
      "         3.4226e-02, -1.0279e-01, -1.1758e-01,  1.0573e-01,  9.1140e-02,\n",
      "         1.0697e-02,  9.5113e-03, -9.3428e-05, -1.4628e-01,  7.8013e-02,\n",
      "        -8.8653e-02, -1.3775e-03, -4.3461e-02,  5.5251e-02, -4.3901e-02,\n",
      "        -6.0737e-02, -6.7563e-02, -4.0529e-04,  5.1932e-02, -1.1074e-01,\n",
      "         4.3312e-02,  1.2298e-01,  6.6777e-02, -5.4924e-02,  1.1746e-01,\n",
      "        -5.1149e-02,  1.1322e-01, -2.0328e-02,  9.4362e-02,  5.7174e-02,\n",
      "        -1.0355e-01,  9.5531e-02, -1.6794e-02, -1.2054e-01, -7.5296e-02,\n",
      "        -8.2513e-02,  4.6516e-02,  1.3658e-02, -1.3404e-01,  1.0808e-01,\n",
      "         1.1360e-01,  5.3552e-02,  1.3422e-01,  1.1889e-01,  9.6867e-02,\n",
      "        -3.0271e-02, -9.0324e-02,  1.1230e-01,  3.1759e-02, -8.3989e-02,\n",
      "         8.7425e-02, -6.2211e-02, -1.0254e-01, -5.2829e-02, -8.3462e-02,\n",
      "         6.3865e-02, -1.6614e-02, -1.3544e-01, -8.0148e-02,  1.2353e-01,\n",
      "         6.4613e-02, -1.4169e-01,  1.0850e-01, -8.9127e-02, -1.0151e-01,\n",
      "        -9.0938e-03, -8.5243e-02, -7.0183e-02, -9.4060e-02, -2.5625e-02,\n",
      "        -9.5515e-04, -1.0775e-01, -1.3416e-01,  1.1571e-01, -1.0536e-01,\n",
      "        -1.0578e-01,  1.2018e-01,  5.6948e-02, -1.9877e-02, -6.8226e-02,\n",
      "        -1.0079e-01, -1.0418e-01,  1.2558e-01,  5.0458e-02, -5.7922e-02,\n",
      "         6.9111e-02,  3.5554e-02, -8.9556e-02,  4.2563e-02, -1.1565e-01,\n",
      "        -6.9606e-02, -4.6674e-02,  7.2604e-02,  9.3642e-02,  8.5781e-02,\n",
      "        -1.0304e-01,  9.2552e-02, -2.3996e-02, -7.5091e-02, -1.7451e-02,\n",
      "        -3.7453e-02,  2.6545e-02,  1.1145e-01,  8.5533e-02, -3.0975e-02,\n",
      "         1.0832e-01,  1.2400e-01, -6.1220e-02, -1.3649e-01,  1.1992e-01,\n",
      "        -2.8357e-03, -9.0482e-02,  1.0218e-01], requires_grad=True)\n",
      "Parameter containing:\n",
      "tensor([[ 0.0696,  0.0076,  0.0233,  ..., -0.0024,  0.0381,  0.0051],\n",
      "        [ 0.0057,  0.0742,  0.0156,  ..., -0.0492, -0.0327, -0.0714],\n",
      "        [ 0.0229, -0.0342,  0.0758,  ..., -0.0503, -0.0163,  0.0112],\n",
      "        ...,\n",
      "        [-0.0608, -0.0504,  0.0791,  ..., -0.0256, -0.0369,  0.0815],\n",
      "        [-0.0082, -0.0127,  0.0166,  ...,  0.0767, -0.0740,  0.0465],\n",
      "        [-0.0491, -0.0284, -0.0016,  ..., -0.0732,  0.0559, -0.0250]],\n",
      "       requires_grad=True)\n",
      "Parameter containing:\n",
      "tensor([ 0.0311, -0.0334, -0.0718,  0.0767,  0.0693,  0.0642, -0.0133,  0.0372,\n",
      "        -0.0220,  0.0031, -0.0146, -0.0707,  0.0264, -0.0258, -0.0112,  0.0642,\n",
      "         0.0842,  0.0359, -0.0619,  0.0277,  0.0862, -0.0820, -0.0644,  0.0505,\n",
      "         0.0229, -0.0857, -0.0494, -0.0745, -0.0163,  0.0127,  0.0717,  0.0599,\n",
      "         0.0169, -0.0346, -0.0020, -0.0302,  0.0580,  0.0752,  0.0842,  0.0879,\n",
      "        -0.0318, -0.0819,  0.0542,  0.0337,  0.0658,  0.0164, -0.0112, -0.0853,\n",
      "         0.0119, -0.0489,  0.0342, -0.0339, -0.0645, -0.0700, -0.0712, -0.0675,\n",
      "        -0.0632,  0.0607, -0.0754,  0.0144,  0.0165, -0.0853,  0.0879,  0.0857],\n",
      "       requires_grad=True)\n",
      "Parameter containing:\n",
      "tensor([[-0.0632,  0.0943,  0.0929,  ..., -0.0686,  0.0560, -0.0680],\n",
      "        [ 0.0469, -0.0321,  0.0445,  ...,  0.0194, -0.0904,  0.1141],\n",
      "        [ 0.0356,  0.0929, -0.0845,  ...,  0.1160,  0.0014, -0.0806],\n",
      "        ...,\n",
      "        [-0.0746, -0.0844, -0.0175,  ...,  0.1095,  0.0314, -0.0470],\n",
      "        [ 0.0885, -0.0628,  0.1180,  ..., -0.0778, -0.0990,  0.1032],\n",
      "        [ 0.0370, -0.0048,  0.0766,  ..., -0.0891,  0.1041, -0.0178]],\n",
      "       requires_grad=True)\n",
      "Parameter containing:\n",
      "tensor([ 0.0383,  0.0234, -0.0187, -0.0072, -0.1248,  0.0903,  0.0982, -0.0789,\n",
      "         0.0749,  0.0445, -0.0395,  0.0737,  0.0330, -0.1059, -0.0034, -0.0240,\n",
      "         0.0326, -0.0044, -0.1193, -0.1004, -0.0550,  0.0765,  0.0684,  0.0020,\n",
      "        -0.0939,  0.1050,  0.0570,  0.0549,  0.0750,  0.1039,  0.1171,  0.1127],\n",
      "       requires_grad=True)\n",
      "Parameter containing:\n",
      "tensor([[-0.1018,  0.0681,  0.0142, -0.1429, -0.1066,  0.1024, -0.0366,  0.0816,\n",
      "          0.0588,  0.0078,  0.0087,  0.0756,  0.1245,  0.0296, -0.1696,  0.0559,\n",
      "         -0.0323,  0.0228, -0.1083,  0.0586,  0.1086,  0.0722,  0.0405, -0.0107,\n",
      "          0.0160,  0.0719,  0.1009, -0.0060,  0.1606, -0.1327,  0.0881, -0.0711]],\n",
      "       requires_grad=True)\n",
      "Parameter containing:\n",
      "tensor([0.1418], requires_grad=True)\n"
     ]
    }
   ],
   "source": [
    "for param1 in local_model1.parameters():\n",
    "    print(param1)"
   ]
  },
  {
   "cell_type": "code",
   "execution_count": 50,
   "metadata": {
    "collapsed": true,
    "jupyter": {
     "outputs_hidden": true
    }
   },
   "outputs": [
    {
     "name": "stdout",
     "output_type": "stream",
     "text": [
      "Parameter containing:\n",
      "tensor([[ 0.0282,  0.0183, -0.0827,  ..., -0.0664, -0.0344,  0.0738],\n",
      "        [ 0.0409,  0.0939, -0.1441,  ...,  0.1057, -0.1098,  0.1311],\n",
      "        [ 0.0065, -0.1105,  0.1383,  ...,  0.1362,  0.1084,  0.0111],\n",
      "        ...,\n",
      "        [-0.0512, -0.0844,  0.1053,  ...,  0.0799,  0.0574,  0.0743],\n",
      "        [ 0.1102, -0.1263,  0.0739,  ..., -0.1154,  0.0933, -0.0164],\n",
      "        [-0.0297, -0.1027,  0.0549,  ...,  0.0925, -0.0375, -0.0139]],\n",
      "       requires_grad=True)\n",
      "Parameter containing:\n",
      "tensor([-0.1154,  0.0436, -0.0347,  0.1376,  0.1139,  0.1349, -0.0237, -0.1215,\n",
      "        -0.1310, -0.1203,  0.0769, -0.0710, -0.0530, -0.0655,  0.0019,  0.0295,\n",
      "        -0.0721, -0.1290,  0.1042,  0.1380,  0.0406, -0.0372,  0.1179, -0.0008,\n",
      "         0.1389, -0.1089, -0.0894,  0.0829,  0.0933,  0.0360,  0.0057, -0.0670,\n",
      "        -0.0820, -0.1388, -0.0514, -0.1321,  0.0126,  0.0709, -0.0037, -0.0483,\n",
      "         0.0782,  0.0955, -0.0019,  0.0605,  0.0969,  0.0288,  0.0672,  0.0094,\n",
      "         0.0579, -0.0339, -0.1414, -0.0124, -0.0381, -0.1107, -0.1468, -0.0009,\n",
      "         0.0481, -0.1033, -0.0935,  0.1397, -0.0509,  0.1137, -0.0252, -0.1427,\n",
      "         0.1274,  0.0558, -0.0955, -0.0495,  0.0242, -0.0238, -0.1285,  0.0303,\n",
      "        -0.1344,  0.0840,  0.0671, -0.0522, -0.1316,  0.0516,  0.0937, -0.1165,\n",
      "         0.1424,  0.0382, -0.0652, -0.0391, -0.0917, -0.1444,  0.1081,  0.0084,\n",
      "         0.1403, -0.0156, -0.0649, -0.1020, -0.0868, -0.0422,  0.0495, -0.0817,\n",
      "         0.0447, -0.1451, -0.0071,  0.0299,  0.0373,  0.0837, -0.0910,  0.0331,\n",
      "         0.0325,  0.1039, -0.0537, -0.1058, -0.0416,  0.1204,  0.1315, -0.0864,\n",
      "        -0.0869,  0.1198,  0.0714, -0.1076, -0.0639,  0.0327, -0.1067, -0.0470,\n",
      "         0.1150,  0.0745,  0.0981, -0.0877, -0.0947, -0.1130, -0.0085,  0.0356],\n",
      "       requires_grad=True)\n",
      "Parameter containing:\n",
      "tensor([[ 0.0694, -0.0526,  0.0827,  ...,  0.0488, -0.0602, -0.0865],\n",
      "        [-0.0670, -0.0717,  0.0119,  ...,  0.0778, -0.0492,  0.0113],\n",
      "        [-0.0286,  0.0564, -0.0737,  ...,  0.0068, -0.0253, -0.0438],\n",
      "        ...,\n",
      "        [-0.0013, -0.0878, -0.0746,  ..., -0.0872,  0.0554,  0.0557],\n",
      "        [ 0.0278,  0.0412,  0.0813,  ..., -0.0756, -0.0380, -0.0568],\n",
      "        [-0.0447,  0.0701,  0.0477,  ..., -0.0275,  0.0022,  0.0361]],\n",
      "       requires_grad=True)\n",
      "Parameter containing:\n",
      "tensor([ 0.0652, -0.0103,  0.0367, -0.0568, -0.0488,  0.0484, -0.0482,  0.0780,\n",
      "         0.0640, -0.0723,  0.0437, -0.0179, -0.0073,  0.0606,  0.0043,  0.0176,\n",
      "         0.0126,  0.0269,  0.0525, -0.0643, -0.0296,  0.0687,  0.0235,  0.0642,\n",
      "         0.0768, -0.0272,  0.0728, -0.0364,  0.0232, -0.0151, -0.0133, -0.0780,\n",
      "        -0.0329, -0.0214,  0.0793,  0.0162, -0.0847, -0.0614,  0.0518,  0.0525,\n",
      "         0.0371,  0.0010,  0.0307, -0.0092, -0.0822, -0.0024, -0.0085, -0.0007,\n",
      "         0.0264,  0.0713,  0.0354,  0.0504,  0.0745,  0.0684,  0.0638,  0.0417,\n",
      "        -0.0259, -0.0284, -0.0432, -0.0475,  0.0271,  0.0453, -0.0057, -0.0284],\n",
      "       requires_grad=True)\n",
      "Parameter containing:\n",
      "tensor([[ 0.0961, -0.0127, -0.1206,  ...,  0.1139, -0.0786,  0.0173],\n",
      "        [-0.0705,  0.0109, -0.0005,  ...,  0.0122, -0.1108, -0.1038],\n",
      "        [ 0.0637,  0.1240,  0.0686,  ...,  0.0620, -0.0355,  0.0066],\n",
      "        ...,\n",
      "        [-0.0213,  0.0490,  0.0122,  ...,  0.0193, -0.0463, -0.0392],\n",
      "        [ 0.1232, -0.0544,  0.0846,  ...,  0.0715,  0.0895, -0.0799],\n",
      "        [ 0.0153, -0.0701, -0.0412,  ...,  0.0998, -0.0530,  0.0685]],\n",
      "       requires_grad=True)\n",
      "Parameter containing:\n",
      "tensor([-0.0585,  0.0342, -0.0287, -0.0385, -0.0152,  0.0446,  0.1022,  0.0783,\n",
      "         0.0183, -0.0797,  0.0474,  0.0825, -0.0341, -0.0890, -0.0887,  0.0053,\n",
      "         0.1221, -0.0310, -0.0632, -0.0050,  0.0254,  0.1233,  0.0450, -0.0937,\n",
      "         0.1136, -0.1120, -0.0814, -0.0468, -0.0603, -0.0454, -0.0926,  0.0402],\n",
      "       requires_grad=True)\n",
      "Parameter containing:\n",
      "tensor([[-0.1625,  0.1531, -0.0563,  0.0335, -0.0060, -0.0052,  0.0486,  0.0916,\n",
      "         -0.1162, -0.1762,  0.1274, -0.1718,  0.1680,  0.1359, -0.0919,  0.0911,\n",
      "         -0.0505, -0.0842, -0.0249,  0.0013, -0.0961,  0.1706, -0.1095,  0.0289,\n",
      "         -0.0002,  0.0764,  0.1330, -0.1372, -0.0881, -0.1390, -0.0280,  0.0067]],\n",
      "       requires_grad=True)\n",
      "Parameter containing:\n",
      "tensor([0.1275], requires_grad=True)\n"
     ]
    }
   ],
   "source": [
    "for param2 in local_model2.parameters():\n",
    "    print(param2)"
   ]
  },
  {
   "cell_type": "code",
   "execution_count": 51,
   "metadata": {},
   "outputs": [],
   "source": [
    "model1_updates = local_model1.state_dict()\n",
    "#model1_updates"
   ]
  },
  {
   "cell_type": "code",
   "execution_count": 52,
   "metadata": {},
   "outputs": [],
   "source": [
    "model2_updates = local_model2.state_dict()\n",
    "#model2_updates"
   ]
  },
  {
   "cell_type": "code",
   "execution_count": 53,
   "metadata": {},
   "outputs": [],
   "source": [
    "avg_updates = OrderedDict()"
   ]
  },
  {
   "cell_type": "code",
   "execution_count": 54,
   "metadata": {},
   "outputs": [],
   "source": [
    "avg_updates[\"model.0.weight\"] = (\n",
    "    model1_updates[\"model.0.weight\"] + model2_updates[\"model.0.weight\"]\n",
    ") / 2\n",
    "\n",
    "avg_updates[\"model.0.bias\"] = (\n",
    "    model1_updates[\"model.0.bias\"] + model2_updates[\"model.0.bias\"]\n",
    ") / 2\n",
    "\n",
    "avg_updates[\"model.2.weight\"] = (\n",
    "    model1_updates[\"model.2.weight\"] + model2_updates[\"model.2.weight\"]\n",
    ") / 2\n",
    "\n",
    "avg_updates[\"model.2.bias\"] = (\n",
    "    model1_updates[\"model.2.bias\"] + model2_updates[\"model.2.bias\"]\n",
    ") / 2\n",
    "\n",
    "avg_updates[\"model.4.weight\"] = (\n",
    "    model1_updates[\"model.4.weight\"] + model2_updates[\"model.4.weight\"]\n",
    ") / 2\n",
    "\n",
    "avg_updates[\"model.4.bias\"] = (\n",
    "    model1_updates[\"model.4.bias\"] + model2_updates[\"model.4.bias\"]\n",
    ") / 2\n",
    "\n",
    "avg_updates[\"model.6.weight\"] = (\n",
    "    model1_updates[\"model.6.weight\"] + model2_updates[\"model.6.weight\"]\n",
    ") / 2\n",
    "\n",
    "avg_updates[\"model.6.bias\"] = (\n",
    "    model1_updates[\"model.6.bias\"] + model2_updates[\"model.6.bias\"]\n",
    ") / 2"
   ]
  },
  {
   "cell_type": "markdown",
   "metadata": {},
   "source": [
    "Load aggregated weights"
   ]
  },
  {
   "cell_type": "code",
   "execution_count": 55,
   "metadata": {},
   "outputs": [
    {
     "data": {
      "text/plain": [
       "<All keys matched successfully>"
      ]
     },
     "execution_count": 55,
     "metadata": {},
     "output_type": "execute_result"
    }
   ],
   "source": [
    "combined_model.load_state_dict(avg_updates)"
   ]
  },
  {
   "cell_type": "code",
   "execution_count": 56,
   "metadata": {},
   "outputs": [
    {
     "data": {
      "text/plain": [
       "RankNet(\n",
       "  (model): Sequential(\n",
       "    (0): Linear(in_features=46, out_features=128, bias=True)\n",
       "    (1): ReLU()\n",
       "    (2): Linear(in_features=128, out_features=64, bias=True)\n",
       "    (3): ReLU()\n",
       "    (4): Linear(in_features=64, out_features=32, bias=True)\n",
       "    (5): ReLU()\n",
       "    (6): Linear(in_features=32, out_features=1, bias=True)\n",
       "  )\n",
       ")"
      ]
     },
     "execution_count": 56,
     "metadata": {},
     "output_type": "execute_result"
    }
   ],
   "source": [
    "combined_model"
   ]
  },
  {
   "cell_type": "markdown",
   "metadata": {},
   "source": [
    "## Comparison to classical model on centralised data"
   ]
  },
  {
   "cell_type": "code",
   "execution_count": 123,
   "metadata": {},
   "outputs": [],
   "source": [
    "classical_model = RankNet(layers)"
   ]
  },
  {
   "cell_type": "code",
   "execution_count": 124,
   "metadata": {},
   "outputs": [],
   "source": [
    "c= s1+ s2+s3+s4"
   ]
  },
  {
   "cell_type": "code",
   "execution_count": 125,
   "metadata": {},
   "outputs": [
    {
     "data": {
      "text/plain": [
       "1356"
      ]
     },
     "execution_count": 125,
     "metadata": {},
     "output_type": "execute_result"
    }
   ],
   "source": [
    "len(c)"
   ]
  },
  {
   "cell_type": "code",
   "execution_count": 126,
   "metadata": {},
   "outputs": [
    {
     "name": "stdout",
     "output_type": "stream",
     "text": [
      "epoch:1, loss:0.33794134855270386, ndcg@1:0.19223186373710632, ndcg@5:0.2265426069498062\n",
      "epoch:100, loss:0.33792799711227417, ndcg@1:0.19788579642772675, ndcg@5:0.23133784532546997\n",
      "epoch:200, loss:0.33791494369506836, ndcg@1:0.19714830815792084, ndcg@5:0.23560623824596405\n",
      "epoch:300, loss:0.337901771068573, ndcg@1:0.20599783957004547, ndcg@5:0.24009589850902557\n",
      "epoch:400, loss:0.3378886878490448, ndcg@1:0.20796442031860352, ndcg@5:0.24531449377536774\n",
      "epoch:500, loss:0.33787521719932556, ndcg@1:0.21435582637786865, ndcg@5:0.25078052282333374\n",
      "epoch:600, loss:0.3378620147705078, ndcg@1:0.21951809525489807, ndcg@5:0.25481194257736206\n",
      "epoch:700, loss:0.3378487527370453, ndcg@1:0.22787603735923767, ndcg@5:0.2594752907752991\n",
      "epoch:800, loss:0.33783525228500366, ndcg@1:0.23598819971084595, ndcg@5:0.264926016330719\n",
      "epoch:900, loss:0.33782172203063965, ndcg@1:0.23967552185058594, ndcg@5:0.26893529295921326\n",
      "epoch:1000, loss:0.33780771493911743, ndcg@1:0.2460668981075287, ndcg@5:0.27332088351249695\n"
     ]
    }
   ],
   "source": [
    "# classical_model\n",
    "classical_ndcg1, classical_ndcg5 = training_loop2(\n",
    "    n_epochs = 1000,\n",
    "    optimizer = torch.optim.SGD(classical_model.parameters(),lr = 0.01),\n",
    "    model = classical_model,\n",
    "    train = c\n",
    "    )"
   ]
  },
  {
   "cell_type": "code",
   "execution_count": 127,
   "metadata": {},
   "outputs": [
    {
     "data": {
      "text/plain": [
       "Text(0.5, 0, 'iteration')"
      ]
     },
     "execution_count": 127,
     "metadata": {},
     "output_type": "execute_result"
    },
    {
     "data": {
      "image/png": "[encoded data removed]",
      "text/plain": [
       "<Figure size 432x288 with 1 Axes>"
      ]
     },
     "metadata": {
      "needs_background": "light"
     },
     "output_type": "display_data"
    }
   ],
   "source": [
    "plt.plot(range(1000), classical_ndcg5)\n",
    "plt.ylabel(\"ndcg\")\n",
    "plt.xlabel(\"iteration\")"
   ]
  },
  {
   "cell_type": "code",
   "execution_count": 73,
   "metadata": {},
   "outputs": [],
   "source": [
    "# fed\n",
    "fed1=[]\n",
    "fed5=[]\n",
    "for i in range(1000):\n",
    "    fed1.append((ndcg1[i]+ndcg1_2[i])/2)\n",
    "    fed5.append((ndcg5[i]+ndcg1_2[i])/2)"
   ]
  },
  {
   "cell_type": "code",
   "execution_count": null,
   "metadata": {},
   "outputs": [],
   "source": []
  },
  {
   "cell_type": "code",
   "execution_count": 82,
   "metadata": {},
   "outputs": [
    {
     "name": "stdout",
     "output_type": "stream",
     "text": [
      "epoch:1, loss:0.3379371762275696, ndcg@1:0.1779744178056717, ndcg@5:0.21060408651828766\n",
      "epoch:2, loss:0.33793699741363525, ndcg@1:0.1779744178056717, ndcg@5:0.21036727726459503\n",
      "epoch:3, loss:0.3379366993904114, ndcg@1:0.1779744178056717, ndcg@5:0.21041111648082733\n",
      "epoch:4, loss:0.3379364311695099, ndcg@1:0.1779744178056717, ndcg@5:0.2103259265422821\n",
      "epoch:5, loss:0.3379361927509308, ndcg@1:0.1779744178056717, ndcg@5:0.2103259265422821\n",
      "epoch:6, loss:0.33793601393699646, ndcg@1:0.1779744178056717, ndcg@5:0.21039524674415588\n",
      "epoch:7, loss:0.33793574571609497, ndcg@1:0.1779744178056717, ndcg@5:0.2104824185371399\n",
      "epoch:8, loss:0.3379356265068054, ndcg@1:0.1779744178056717, ndcg@5:0.2110026478767395\n",
      "epoch:9, loss:0.3379354476928711, ndcg@1:0.1779744178056717, ndcg@5:0.2110026478767395\n",
      "epoch:10, loss:0.33793511986732483, ndcg@1:0.1779744178056717, ndcg@5:0.2105785310268402\n"
     ]
    }
   ],
   "source": [
    "# federated model\n",
    "fed1, fed5 = training_loop2(\n",
    "    n_epochs = 10,\n",
    "    optimizer = torch.optim.SGD(combined_model.parameters(),lr = 0.01),\n",
    "    model = combined_model,\n",
    "    train = fold3\n",
    "    )"
   ]
  },
  {
   "cell_type": "code",
   "execution_count": 128,
   "metadata": {},
   "outputs": [
    {
     "data": {
      "image/png": "[encoded data removed]",
      "text/plain": [
       "<Figure size 432x288 with 1 Axes>"
      ]
     },
     "metadata": {
      "needs_background": "light"
     },
     "output_type": "display_data"
    }
   ],
   "source": [
    "\"\"\"複数のグラフを重ねて描画するプログラム\"\"\"\n",
    "import numpy as np\n",
    "import matplotlib.pyplot as plt\n",
    "\n",
    "fig, ax = plt.subplots()\n",
    "\n",
    "t = range(1000)\n",
    "y1 = classical_ndcg5\n",
    "y2 = fed5\n",
    "\n",
    "c1,c2 = \"green\",\"red\"     # 各プロットの色\n",
    "l1,l2 = \"standard model\",\"federated model\"   # 各ラベル\n",
    "\n",
    "ax.set_xlabel('epoch')  # x軸ラベル\n",
    "ax.set_ylabel('ndcg@5')  # y軸ラベル\n",
    "#ax.set_title(r'$\\sin(x)$ and $\\cos(x)$') # グラフタイトル\n",
    "# ax.set_aspect('equal') # スケールを揃える\n",
    "ax.grid()            # 罫線\n",
    "#ax.set_xlim([-10, 10]) # x方向の描画範囲を指定\n",
    "#ax.set_ylim([0, 1])    # y方向の描画範囲を指定\n",
    "ax.plot(t, y1, color=c1, label=l1)\n",
    "ax.plot(t, y2, color=c2, label=l2)\n",
    "#ax.plot(t, y3, color=c3, label=l3)\n",
    "#ax.plot(t, y4, color=c4, label=l4)\n",
    "ax.legend(loc=0)    # 凡例\n",
    "fig.tight_layout()  # レイアウトの設定\n",
    "plt.savefig('fed4_ranknet.png') # 画像の保存\n",
    "plt.show()"
   ]
  },
  {
   "cell_type": "code",
   "execution_count": 129,
   "metadata": {},
   "outputs": [
    {
     "name": "stdout",
     "output_type": "stream",
     "text": [
      "tensor(0.3284)\n",
      "tensor(0.3458)\n"
     ]
    }
   ],
   "source": [
    "#fed\n",
    "print(testing(combined_model, s5, 1))\n",
    "print(testing(combined_model, s5, 5))"
   ]
  },
  {
   "cell_type": "code",
   "execution_count": 131,
   "metadata": {},
   "outputs": [
    {
     "name": "stdout",
     "output_type": "stream",
     "text": [
      "tensor(0.2579)\n",
      "tensor(0.2892)\n"
     ]
    }
   ],
   "source": [
    "# classic\n",
    "print(testing(classical_model, s5, 1))\n",
    "print(testing(classical_model, s5, 5))"
   ]
  },
  {
   "cell_type": "markdown",
   "metadata": {},
   "source": [
    "---"
   ]
  },
  {
   "cell_type": "code",
   "execution_count": null,
   "metadata": {},
   "outputs": [],
   "source": [
    "data_list=[fold1,fold2]"
   ]
  },
  {
   "cell_type": "code",
   "execution_count": 7,
   "metadata": {},
   "outputs": [],
   "source": [
    "def training_loop(n_epochs,optimizer,model,data_list):\n",
    "    count = 0\n",
    "    best_ndcg = 0\n",
    "    \n",
    "    while count < len(data_list):\n",
    "        # 最初の3つをtrainに\n",
    "        train = data_list[0]+data_list[1]+data_list[2]\n",
    "        # 1つをvalidationに\n",
    "        val = data_list[3]\n",
    "        # 最後をtestに\n",
    "        test = data_list[4]\n",
    "        \n",
    "        # モデルの訓練\n",
    "        for epoch in range(1, n_epochs + 1):\n",
    "        \n",
    "            # クエリごとの訓練\n",
    "            batch_loss = 0\n",
    "            batch_ndcg = 0\n",
    "            for _,batch_ranking,label in train:\n",
    "                batch_loss += model.forward(batch_ranking=batch_ranking, label=label)\n",
    "                #print(compute_ndcg(batch_ranking,label,5))\n",
    "                batch_ndcg += compute_ndcg(batch_ranking,label,5)\n",
    "                    \n",
    "            fold_loss_mean = batch_loss / (len(data_list[0])+len(data_list[1])+len(data_list[2]))\n",
    "            fold_ndcg_mean = batch_ndcg / (len(data_list[0])+len(data_list[1])+len(data_list[2]))\n",
    "            \n",
    "            if epoch ==1 or epoch%10==0:\n",
    "                print('epoch:{0}, loss:{1}, ndcg:{2}'.format(epoch, fold_loss_mean, fold_ndcg_mean))\n",
    "            \n",
    "            # パラメータ選択\n",
    "            val_loss = 0\n",
    "            val_ndcg = 0\n",
    "            for _,batch_ranking,label in val:\n",
    "                val_loss += model.forward(batch_ranking=batch_ranking, label=label)\n",
    "                val_ndcg += compute_ndcg(batch_ranking,label,5)\n",
    "                \n",
    "            val_loss_mean = val_loss / len(val)\n",
    "            val_ndcg_mean = val_ndcg / len(val)    \n",
    "                \n",
    "            if val_ndcg_mean > best_ndcg:\n",
    "                best_ndcg = val_ndcg_mean\n",
    "            \n",
    "                # 訓練したモデルの保存\n",
    "                torch.save(model.state_dict(), 'weight.pth')\n",
    "            \n",
    "            optimizer.zero_grad()\n",
    "            fold_loss_mean.backward()\n",
    "            optimizer.step()\n",
    "            \n",
    "        # パラメータの読み込み\n",
    "        param = torch.load('weight.pth')\n",
    "        model.load_state_dict(param)\n",
    "        \n",
    "        #test\n",
    "        test_ndcg = testing(test)\n",
    "        \n",
    "        print('test:{0}'.format(test_ndcg))\n",
    "        \n",
    "        #　右にひとつシフト ([1,2,3,4,5] -> [5,1,2,3,4]となる)\n",
    "        data_list.insert(0,data_list.pop())\n",
    "        \n",
    "#         if epoch%10==0:\n",
    "#             print(\"epoch: \", epoch, \"loss: \", epoch_loss, \"ndcg: \", epoch_ndcg)\n",
    "        count += 1"
   ]
  },
  {
   "cell_type": "code",
   "execution_count": 8,
   "metadata": {},
   "outputs": [],
   "source": [
    "data_list = [fold1,fold2,fold3,fold4,fold5]"
   ]
  },
  {
   "cell_type": "code",
   "execution_count": 17,
   "metadata": {},
   "outputs": [],
   "source": [
    "# クラスのインスタンス化\n",
    "model = RankNet(layers)"
   ]
  },
  {
   "cell_type": "code",
   "execution_count": 10,
   "metadata": {},
   "outputs": [
    {
     "name": "stdout",
     "output_type": "stream",
     "text": [
      "epoch:1, loss:0.33804816007614136, ndcg:0.2129535973072052\n",
      "epoch:10, loss:0.3380464017391205, ndcg:0.21400970220565796\n",
      "epoch:20, loss:0.33804401755332947, ndcg:0.21507927775382996\n",
      "epoch:30, loss:0.3380418121814728, ndcg:0.21627427637577057\n",
      "epoch:40, loss:0.33803996443748474, ndcg:0.218105748295784\n",
      "epoch:50, loss:0.33803796768188477, ndcg:0.21888558566570282\n",
      "epoch:60, loss:0.33803579211235046, ndcg:0.2204192578792572\n",
      "epoch:70, loss:0.3380337357521057, ndcg:0.22214770317077637\n",
      "epoch:80, loss:0.3380317687988281, ndcg:0.2235986590385437\n",
      "epoch:90, loss:0.338029682636261, ndcg:0.224581778049469\n",
      "epoch:100, loss:0.33802759647369385, ndcg:0.225375235080719\n",
      "test:0.2294071763753891\n",
      "epoch:1, loss:0.33805733919143677, ndcg:0.23191629350185394\n",
      "epoch:10, loss:0.3380555808544159, ndcg:0.2341095507144928\n",
      "epoch:20, loss:0.3380531668663025, ndcg:0.2361796349287033\n",
      "epoch:30, loss:0.33805134892463684, ndcg:0.23738986253738403\n",
      "epoch:40, loss:0.33804914355278015, ndcg:0.23919181525707245\n",
      "epoch:50, loss:0.3380470871925354, ndcg:0.24046093225479126\n",
      "epoch:60, loss:0.33804506063461304, ndcg:0.2423636019229889\n",
      "epoch:70, loss:0.3380430340766907, ndcg:0.2442573755979538\n",
      "epoch:80, loss:0.33804064989089966, ndcg:0.2457537055015564\n",
      "epoch:90, loss:0.33803871273994446, ndcg:0.24691550433635712\n",
      "epoch:100, loss:0.3380364179611206, ndcg:0.24839863181114197\n",
      "test:0.2208268642425537\n",
      "epoch:1, loss:0.33803388476371765, ndcg:0.22798480093479156\n",
      "epoch:10, loss:0.3380318582057953, ndcg:0.22995759546756744\n",
      "epoch:20, loss:0.33802998065948486, ndcg:0.23174148797988892\n",
      "epoch:30, loss:0.33802780508995056, ndcg:0.2331756055355072\n",
      "epoch:40, loss:0.3380261957645416, ndcg:0.2351100593805313\n",
      "epoch:50, loss:0.338023841381073, ndcg:0.23591168224811554\n",
      "epoch:60, loss:0.3380216956138611, ndcg:0.2377420961856842\n",
      "epoch:70, loss:0.3380197286605835, ndcg:0.2402326464653015\n",
      "epoch:80, loss:0.3380175828933716, ndcg:0.24133852124214172\n",
      "epoch:90, loss:0.33801570534706116, ndcg:0.2422952800989151\n",
      "epoch:100, loss:0.3380136787891388, ndcg:0.24327130615711212\n",
      "test:0.22020430862903595\n",
      "epoch:1, loss:0.33795955777168274, ndcg:0.23330236971378326\n",
      "epoch:10, loss:0.3379577100276947, ndcg:0.23382583260536194\n",
      "epoch:20, loss:0.3379558324813843, ndcg:0.2354578971862793\n",
      "epoch:30, loss:0.3379538357257843, ndcg:0.23802784085273743\n",
      "epoch:40, loss:0.3379518985748291, ndcg:0.23849588632583618\n",
      "epoch:50, loss:0.33794987201690674, ndcg:0.23984582722187042\n",
      "epoch:60, loss:0.3379480540752411, ndcg:0.24074816703796387\n",
      "epoch:70, loss:0.3379460573196411, ndcg:0.24221467971801758\n",
      "epoch:80, loss:0.33794426918029785, ndcg:0.24286481738090515\n",
      "epoch:90, loss:0.3379421532154083, ndcg:0.2439768761396408\n",
      "epoch:100, loss:0.3379400670528412, ndcg:0.2454364001750946\n",
      "test:0.25657203793525696\n",
      "epoch:1, loss:0.33794286847114563, ndcg:0.24435967206954956\n",
      "epoch:10, loss:0.33794084191322327, ndcg:0.2449781745672226\n",
      "epoch:20, loss:0.33793890476226807, ndcg:0.24533309042453766\n",
      "epoch:30, loss:0.33793705701828003, ndcg:0.24635052680969238\n",
      "epoch:40, loss:0.33793479204177856, ndcg:0.24617208540439606\n",
      "epoch:50, loss:0.33793288469314575, ndcg:0.24755524098873138\n",
      "epoch:60, loss:0.33793091773986816, ndcg:0.24845951795578003\n",
      "epoch:70, loss:0.33792880177497864, ndcg:0.24956676363945007\n",
      "epoch:80, loss:0.3379268944263458, ndcg:0.2510477900505066\n",
      "epoch:90, loss:0.33792462944984436, ndcg:0.2517324984073639\n",
      "epoch:100, loss:0.33792269229888916, ndcg:0.2523496448993683\n",
      "test:0.27562037110328674\n"
     ]
    }
   ],
   "source": [
    "training_loop(\n",
    "    n_epochs = 100,\n",
    "    optimizer = torch.optim.SGD(model.parameters(),lr = 0.01),\n",
    "    model = model,\n",
    "    data_list = data_list,\n",
    "    )"
   ]
  },
  {
   "cell_type": "code",
   "execution_count": null,
   "metadata": {},
   "outputs": [],
   "source": []
  },
  {
   "cell_type": "code",
   "execution_count": null,
   "metadata": {},
   "outputs": [],
   "source": []
  }
 ],
 "metadata": {
  "kernelspec": {
   "display_name": "Python 3",
   "language": "python",
   "name": "python3"
  },
  "language_info": {
   "codemirror_mode": {
    "name": "ipython",
    "version": 3
   },
   "file_extension": ".py",
   "mimetype": "text/x-python",
   "name": "python",
   "nbconvert_exporter": "python",
   "pygments_lexer": "ipython3",
   "version": "3.7.3"
  }
 },
 "nbformat": 4,
 "nbformat_minor": 4
}