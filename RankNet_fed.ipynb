{
 "cells": [
  {
   "cell_type": "code",
   "execution_count": 15,
   "metadata": {},
   "outputs": [],
   "source": [
    "import torch\n",
    "import torch.nn as nn\n",
    "import torch.nn.functional as F"
   ]
  },
  {
   "cell_type": "code",
   "execution_count": 17,
   "metadata": {},
   "outputs": [
    {
     "name": "stdout",
     "output_type": "stream",
     "text": [
      "/Users/kanazawaatsuya/imp/MQ2007/RankNet\n"
     ]
    }
   ],
   "source": [
    "# cd\n",
    "import os\n",
    "path = os.getcwd()\n",
    "print(path)"
   ]
  },
  {
   "cell_type": "code",
   "execution_count": 19,
   "metadata": {},
   "outputs": [],
   "source": [
    "from ptranking.data.data_utils import LTRDataset, SPLIT_TYPE\n",
    "data_id = 'MQ2007_Super'\n",
    "#MQ2007内にあるもの\n",
    "s1 = LTRDataset(SPLIT_TYPE.Train, data_id=data_id, file='S1.txt', batch_size=1, shuffle=True, presort=True, data_dict=None, eval_dict=None, buffer=False)\n",
    "s2 = LTRDataset(SPLIT_TYPE.Train, data_id=data_id, file='S2.txt', batch_size=1, shuffle=True, presort=True, data_dict=None, eval_dict=None, buffer=False)\n",
    "s3 = LTRDataset(SPLIT_TYPE.Train, data_id=data_id, file='S3.txt', batch_size=1, shuffle=True, presort=True, data_dict=None, eval_dict=None, buffer=False)\n",
    "s4 = LTRDataset(SPLIT_TYPE.Train, data_id=data_id, file='S4.txt', batch_size=1, shuffle=True, presort=True, data_dict=None, eval_dict=None, buffer=False)\n",
    "s5 = LTRDataset(SPLIT_TYPE.Train, data_id=data_id, file='S5.txt', batch_size=1, shuffle=True, presort=True, data_dict=None, eval_dict=None, buffer=False)"
   ]
  },
  {
   "cell_type": "code",
   "execution_count": 20,
   "metadata": {},
   "outputs": [],
   "source": [
    "layers = [nn.Linear(46, 128),\n",
    "          nn.ReLU(),\n",
    "          nn.Linear(128, 64),\n",
    "          nn.ReLU(),\n",
    "          nn.Linear(64, 32),\n",
    "          nn.ReLU(),\n",
    "          nn.Linear(32, 1)]"
   ]
  },
  {
   "cell_type": "code",
   "execution_count": 21,
   "metadata": {},
   "outputs": [],
   "source": [
    "class RankNet(nn.Module):\n",
    "    def __init__(self, layers):\n",
    "        super(RankNet, self).__init__()\n",
    "        self.model = nn.Sequential(*layers)\n",
    "        \n",
    "    def forward(self, batch_ranking, label):\n",
    "        batch_pred = self.model(batch_ranking) # [1, 40, 1]\n",
    "        batch_sij = torch.squeeze(batch_pred, 0) - torch.squeeze(batch_pred, 2) # [40, 40]\n",
    "        batch_pij = 1.0 / (1.0 + torch.exp(-batch_sij)) # [40, 40]\n",
    "\n",
    "        label_dim = torch.squeeze(label)\n",
    "        label_diffs = torch.unsqueeze(label_dim, 1) - label # [40,40]\n",
    "        batch_Sij = torch.clamp(label_diffs, -1, 1)\n",
    "        l_pij = 0.5 * (1.0 + batch_Sij)\n",
    "\n",
    "        batch_loss = F.binary_cross_entropy(input=torch.triu(batch_pij, diagonal=1), target=torch.triu(l_pij, diagonal=1), reduction='mean')    \n",
    "        \n",
    "        return batch_loss\n",
    "    \n",
    "    def predict(self, x):\n",
    "        return self.model(x)"
   ]
  },
  {
   "cell_type": "code",
   "execution_count": 22,
   "metadata": {},
   "outputs": [],
   "source": [
    "# ndcg\n",
    "def DCG(sorted_labels, cutoff):\n",
    "    denoms = torch.log2(torch.arange(2, cutoff+2))\n",
    "    nums = torch.pow(2, sorted_labels[0:cutoff])-1\n",
    "    dcg = sum(nums / denoms)\n",
    "    return dcg\n",
    "\n",
    "def nDCG(ideal, pred, k):\n",
    "    dcg_f = DCG(pred, k)\n",
    "    dcg = DCG(ideal, k)\n",
    "    nDCG = dcg_f / dcg\n",
    "    return nDCG\n",
    "\n",
    "def compute_ndcg(model, score, label, cutoff):\n",
    "    batch_pred = model.predict(score)\n",
    "    idx = torch.argsort(torch.squeeze(batch_pred),descending = True)\n",
    "    pred_sorted_labels = torch.squeeze(label)[idx]\n",
    "    ndcg = torch.nan_to_num(nDCG(torch.squeeze(label), pred_sorted_labels, cutoff))\n",
    "    \n",
    "    return ndcg"
   ]
  },
  {
   "cell_type": "code",
   "execution_count": 23,
   "metadata": {},
   "outputs": [],
   "source": [
    "def testing(model, data, cutoff):\n",
    "    with torch.no_grad():\n",
    "        ndcg_sum = 0\n",
    "        for _,batch_ranking,label in data:\n",
    "        #computes ndcg\n",
    "            ndcg = compute_ndcg(model,batch_ranking,label,cutoff)\n",
    "            ndcg_sum += ndcg  \n",
    "    ndcg_sum /= len(data)\n",
    "    return(ndcg_sum)"
   ]
  },
  {
   "cell_type": "code",
   "execution_count": 24,
   "metadata": {},
   "outputs": [],
   "source": [
    "def training_loop(n_epochs,optimizer,model,train):\n",
    "    \n",
    "    ndcg1=[]\n",
    "    ndcg5=[]\n",
    "    \n",
    "    # モデルの訓練\n",
    "    for epoch in range(1, n_epochs + 1):\n",
    "        \n",
    "        # クエリごとの訓練\n",
    "        batch_loss = 0\n",
    "        batch_ndcg1 = 0\n",
    "        batch_ndcg5 = 0\n",
    "        for _,batch_ranking,label in train:\n",
    "            batch_loss += model.forward(batch_ranking=batch_ranking, label=label)\n",
    "            #print(compute_ndcg(batch_ranking,label,5))\n",
    "            batch_ndcg1 += compute_ndcg(model,batch_ranking,label,1)\n",
    "            batch_ndcg5 += compute_ndcg(model,batch_ranking,label,5)\n",
    "                    \n",
    "        fold_loss_mean = batch_loss / len(train)\n",
    "        fold_ndcg1_mean = batch_ndcg1 / len(train)\n",
    "        fold_ndcg5_mean = batch_ndcg5 / len(train)\n",
    "        \n",
    "        ndcg1.append(fold_ndcg1_mean)\n",
    "        ndcg5.append(fold_ndcg5_mean)\n",
    "        \n",
    "        if epoch == 1 or epoch % 100 ==0:\n",
    "            print('epoch:{0}, loss:{1}, ndcg@1:{2}, ndcg@5:{3}'.format(epoch, fold_loss_mean, fold_ndcg1_mean, fold_ndcg5_mean))\n",
    "            \n",
    "        #print('epoch:{0}, loss:{1}, ndcg@1:{2}, ndcg@5:{3}'.format(epoch, fold_loss_mean, fold_ndcg1_mean, fold_ndcg5_mean))\n",
    "        \n",
    "        optimizer.zero_grad()\n",
    "        fold_loss_mean.backward()\n",
    "        optimizer.step()\n",
    "    \n",
    "    return [ndcg1, ndcg5]"
   ]
  },
  {
   "cell_type": "code",
   "execution_count": 25,
   "metadata": {},
   "outputs": [],
   "source": [
    "model = RankNet(layers)"
   ]
  },
  {
   "cell_type": "code",
   "execution_count": 26,
   "metadata": {},
   "outputs": [
    {
     "data": {
      "text/plain": "<All keys matched successfully>"
     },
     "execution_count": 26,
     "metadata": {},
     "output_type": "execute_result"
    }
   ],
   "source": [
    "# 学習前のパラメータの保存\n",
    "torch.save(model.state_dict(), 'weight.pth')\n",
    "\n",
    "# 学習前のパラメータの読み込みを行うとき\n",
    "param = torch.load('weight.pth')\n",
    "model.load_state_dict(param)"
   ]
  },
  {
   "cell_type": "code",
   "execution_count": 27,
   "metadata": {},
   "outputs": [],
   "source": [
    "data_list = [s1,s2,s3,s4,s5]"
   ]
  },
  {
   "cell_type": "code",
   "execution_count": 28,
   "metadata": {},
   "outputs": [],
   "source": [
    "## パラメータを保存する文字列\n",
    "# 文書1つ\n",
    "param1=[\"param11.pth\",\"param12.pth\",\"param13.pth\",\"param14.pth\",\"param15.pth\"]\n",
    "# 文書2つ\n",
    "param2=[\"param21.pth\",\"param22.pth\",\"param23.pth\",\"param24.pth\",\"param25.pth\"]\n",
    "# 文書3つ\n",
    "param3=[\"param31.pth\",\"param32.pth\",\"param33.pth\",\"param34.pth\",\"param35.pth\"]\n",
    "# 文書4つ\n",
    "param4=[\"param41.pth\",\"param42.pth\",\"param43.pth\",\"param44.pth\",\"param45.pth\"]"
   ]
  },
  {
   "cell_type": "code",
   "execution_count": 29,
   "metadata": {},
   "outputs": [],
   "source": [
    "# パラメータのリスト\n",
    "param_list=[param1,param2, param3, param4]"
   ]
  },
  {
   "cell_type": "code",
   "execution_count": 31,
   "metadata": {},
   "outputs": [],
   "source": [
    "# ndcgの保存\n",
    "set1_train_ndcg1=[]\n",
    "set2_train_ndcg1=[]\n",
    "set3_train_ndcg1=[]\n",
    "set4_train_ndcg1=[]\n",
    "\n",
    "set1_train_ndcg5=[]\n",
    "set2_train_ndcg5=[]\n",
    "set3_train_ndcg5=[]\n",
    "set4_train_ndcg5=[]\n",
    "\n",
    "set1_test_ndcg1=[]\n",
    "set2_test_ndcg1=[]\n",
    "set3_test_ndcg1=[]\n",
    "set4_test_ndcg1=[]\n",
    "\n",
    "set1_test_ndcg5=[]\n",
    "set2_test_ndcg5=[]\n",
    "set3_test_ndcg5=[]\n",
    "set4_test_ndcg5=[]\n"
   ]
  },
  {
   "cell_type": "code",
   "execution_count": 34,
   "metadata": {},
   "outputs": [],
   "source": [
    "train_fold_ndcg1=[set1_train_ndcg1, set2_train_ndcg1, set3_train_ndcg1, set4_train_ndcg1]\n",
    "train_fold_ndcg5=[set1_train_ndcg5, set2_train_ndcg5, set3_train_ndcg5, set4_train_ndcg5]\n",
    "\n",
    "test_fold_ndcg1=[set1_test_ndcg1, set2_test_ndcg1, set3_test_ndcg1, set4_test_ndcg1]\n",
    "test_fold_ndcg5=[set1_test_ndcg5, set2_test_ndcg5, set3_test_ndcg5, set4_test_ndcg5]"
   ]
  },
  {
   "cell_type": "code",
   "execution_count": 37,
   "metadata": {},
   "outputs": [
    {
     "data": {
      "text/plain": "339"
     },
     "execution_count": 37,
     "metadata": {},
     "output_type": "execute_result"
    }
   ],
   "source": [
    "len(data_list[0])"
   ]
  },
  {
   "cell_type": "code",
   "execution_count": 46,
   "metadata": {},
   "outputs": [
    {
     "name": "stdout",
     "output_type": "stream",
     "text": [
      "0\n",
      "1\n",
      "2\n",
      "3\n"
     ]
    }
   ],
   "source": [
    "for z in range(4):\n",
    "    print(z)"
   ]
  },
  {
   "cell_type": "code",
   "execution_count": null,
   "metadata": {},
   "outputs": [],
   "source": [
    "# 平均をとるという実験\n",
    "for i in range(4):\n",
    "\n",
    "    print(\"文書の数 : \", i+1)\n",
    "\n",
    "    for j in range(5):\n",
    "\n",
    "        print(\"fold :\", j+1)\n",
    "\n",
    "        # 学習前のパラメータをロード\n",
    "        param = torch.load('weight.pth')\n",
    "        model.load_state_dict(param)\n",
    "        \n",
    "        data = data_list[0]\n",
    "        for k in range(i):\n",
    "            data+=data_list[i]\n",
    "\n",
    "        # 学習を行う\n",
    "        ndcg1, ndcg5 = training_loop(\n",
    "            # epoch\n",
    "            n_epochs = 3,\n",
    "            optimizer = torch.optim.SGD(model.parameters(),lr = 0.01),\n",
    "            model = model,\n",
    "            train = data\n",
    "            )\n",
    "\n",
    "        # パラメータの保存\n",
    "        torch.save(model.state_dict(), param_list[i][j])\n",
    "\n",
    "        # テスト\n",
    "        test_ndcg1=testing(model, data_list[4], 1)\n",
    "        test_ndcg5=testing(model, data_list[4], 5)\n",
    "\n",
    "        print(test_ndcg1)\n",
    "        print(test_ndcg5)\n",
    "\n",
    "        # リストに追加\n",
    "        train_fold_ndcg1[i].append(ndcg1)\n",
    "        train_fold_ndcg5[i].append(ndcg5)\n",
    "        \n",
    "        test_fold_ndcg1[i].append(test_ndcg1)\n",
    "        test_fold_ndcg5[i].append(test_ndcg5)\n",
    "        \n",
    "        data_list.insert(0,data_list.pop())\n",
    "\n",
    "    print(\"\\n💫\")\n"
   ]
  },
  {
   "cell_type": "markdown",
   "metadata": {},
   "source": [
    "Averaging Model Updates"
   ]
  },
  {
   "cell_type": "code",
   "execution_count": 58,
   "metadata": {},
   "outputs": [],
   "source": [
    "from collections import OrderedDict"
   ]
  },
  {
   "cell_type": "code",
   "execution_count": 20,
   "metadata": {},
   "outputs": [
    {
     "data": {
      "text/plain": "tensor([[ 0.0780,  0.0721, -0.0587,  ..., -0.0273,  0.0026,  0.0430],\n        [-0.0727, -0.0990,  0.1205,  ..., -0.1385,  0.1268, -0.0872],\n        [ 0.1146, -0.0758, -0.1466,  ...,  0.0323,  0.0635,  0.0127],\n        ...,\n        [ 0.1059,  0.0947,  0.0722,  ..., -0.1110,  0.0156, -0.0548],\n        [-0.0656,  0.1345, -0.0053,  ..., -0.0700, -0.1383, -0.0026],\n        [ 0.0469,  0.0656,  0.0833,  ...,  0.1292, -0.0364, -0.1149]])"
     },
     "execution_count": 20,
     "metadata": {},
     "output_type": "execute_result"
    }
   ],
   "source": [
    "# パラメータの読み込みを行うとき\n",
    "param = torch.load('param11.pth')\n",
    "param['model.0.weight']"
   ]
  },
  {
   "cell_type": "code",
   "execution_count": 37,
   "metadata": {},
   "outputs": [
    {
     "data": {
      "text/plain": "[[tensor(0.3110),\n  tensor(0.3283),\n  tensor(0.2811),\n  tensor(0.3064),\n  tensor(0.2980)],\n [tensor(0.3146),\n  tensor(0.3277),\n  tensor(0.2815),\n  tensor(0.3071),\n  tensor(0.2987)],\n [tensor(0.3123),\n  tensor(0.3305),\n  tensor(0.2805),\n  tensor(0.3066),\n  tensor(0.2972)],\n [tensor(0.3153),\n  tensor(0.3287),\n  tensor(0.2830),\n  tensor(0.3073),\n  tensor(0.2985)]]"
     },
     "execution_count": 37,
     "metadata": {},
     "output_type": "execute_result"
    }
   ],
   "source": [
    "# 結果\n",
    "test_fold_ndcg5"
   ]
  },
  {
   "cell_type": "code",
   "execution_count": 41,
   "metadata": {},
   "outputs": [
    {
     "data": {
      "text/plain": "tensor(0.3049)"
     },
     "execution_count": 41,
     "metadata": {},
     "output_type": "execute_result"
    }
   ],
   "source": [
    "#torch.mean(test_fold_ndcg5[i])\n",
    "sum(test_fold_ndcg5[0])/5"
   ]
  },
  {
   "cell_type": "code",
   "execution_count": 44,
   "metadata": {},
   "outputs": [
    {
     "name": "stdout",
     "output_type": "stream",
     "text": [
      "文書の数 : 1 のとき tensor(0.3049)\n",
      "文書の数 : 2 のとき tensor(0.3059)\n",
      "文書の数 : 3 のとき tensor(0.3054)\n",
      "文書の数 : 4 のとき tensor(0.3066)\n"
     ]
    }
   ],
   "source": [
    "for i in range(4):\n",
    "    print(\"文書の数 :\", i+1 , \"のとき\", sum(test_fold_ndcg5[i])/5)"
   ]
  },
  {
   "cell_type": "code",
   "execution_count": 59,
   "metadata": {},
   "outputs": [],
   "source": [
    "# 空の容器を作る\n",
    "avg_updates = OrderedDict()"
   ]
  },
  {
   "cell_type": "code",
   "execution_count": 45,
   "metadata": {},
   "outputs": [],
   "source": [
    "# クライアントが2つの場合のfed modelの作成\n",
    "def fed_avg2(param1, param2):\n",
    "    \n",
    "    avg_updates = OrderedDict()\n",
    "\n",
    "\n",
    "    avg_updates[\"model.0.weight\"] = (\n",
    "        param1[\"model.0.weight\"] + param2[\"model.0.weight\"]\n",
    "    ) / 2\n",
    "\n",
    "    avg_updates[\"model.0.bias\"] = (\n",
    "        param1[\"model.0.bias\"] + param2[\"model.0.bias\"]\n",
    "    ) / 2\n",
    "\n",
    "    avg_updates[\"model.2.weight\"] = (\n",
    "        param1[\"model.2.weight\"] + param2[\"model.2.weight\"]\n",
    "    ) / 2\n",
    "\n",
    "    avg_updates[\"model.2.bias\"] = (\n",
    "        param1[\"model.2.bias\"] + param2[\"model.2.bias\"]\n",
    "    ) / 2\n",
    "\n",
    "    avg_updates[\"model.4.weight\"] = (\n",
    "        param1[\"model.4.weight\"] + param2[\"model.4.weight\"]\n",
    "    ) / 2\n",
    "\n",
    "    avg_updates[\"model.4.bias\"] = (\n",
    "        param1[\"model.4.bias\"] + param2[\"model.4.bias\"]\n",
    "    ) / 2\n",
    "\n",
    "    avg_updates[\"model.6.weight\"] = (\n",
    "        param1[\"model.6.weight\"] + param2[\"model.6.weight\"]\n",
    "    ) / 2\n",
    "\n",
    "    avg_updates[\"model.6.bias\"] = (\n",
    "        param1[\"model.6.bias\"] + param2[\"model.6.bias\"]\n",
    "    ) / 2\n",
    "\n",
    "    return avg_updates"
   ]
  },
  {
   "cell_type": "code",
   "execution_count": 46,
   "metadata": {},
   "outputs": [],
   "source": [
    "# クライアントが3つの場合のfed modelの作成\n",
    "def fed_avg3(param1, param2, param3):\n",
    "    \n",
    "    avg_updates = OrderedDict()\n",
    "\n",
    "\n",
    "    avg_updates[\"model.0.weight\"] = (\n",
    "        param1[\"model.0.weight\"] + param2[\"model.0.weight\"] + param3[\"model.0.weight\"]\n",
    "    ) / 3\n",
    "\n",
    "    avg_updates[\"model.0.bias\"] = (\n",
    "        param1[\"model.0.bias\"] + param2[\"model.0.bias\"]+ param3[\"model.0.bias\"]\n",
    "    ) / 3\n",
    "\n",
    "    avg_updates[\"model.2.weight\"] = (\n",
    "        param1[\"model.2.weight\"] + param2[\"model.2.weight\"] + param3[\"model.2.weight\"]\n",
    "    ) / 3\n",
    "\n",
    "    avg_updates[\"model.2.bias\"] = (\n",
    "        param1[\"model.2.bias\"] + param2[\"model.2.bias\"] + param3[\"model.2.bias\"]\n",
    "    ) / 3\n",
    "\n",
    "    avg_updates[\"model.4.weight\"] = (\n",
    "        param1[\"model.4.weight\"] + param2[\"model.4.weight\"] + param3[\"model.4.weight\"]\n",
    "    ) / 3\n",
    "\n",
    "    avg_updates[\"model.4.bias\"] = (\n",
    "        param1[\"model.4.bias\"] + param2[\"model.4.bias\"] + param3[\"model.4.bias\"]\n",
    "    ) / 3\n",
    "\n",
    "    avg_updates[\"model.6.weight\"] = (\n",
    "        param1[\"model.6.weight\"] + param2[\"model.6.weight\"] + param3[\"model.6.weight\"]\n",
    "    ) / 3\n",
    "\n",
    "    avg_updates[\"model.6.bias\"] = (\n",
    "        param1[\"model.6.bias\"] + param2[\"model.6.bias\"] + param3[\"model.6.bias\"]\n",
    "    ) / 3\n",
    "\n",
    "    return avg_updates"
   ]
  },
  {
   "cell_type": "code",
   "execution_count": 47,
   "metadata": {},
   "outputs": [],
   "source": [
    "# クライアントが4つの場合のfed modelの作成\n",
    "def fed_avg4(param1, param2, param3, param4):\n",
    "    \n",
    "    avg_updates = OrderedDict()\n",
    "\n",
    "\n",
    "    avg_updates[\"model.0.weight\"] = (\n",
    "        param1[\"model.0.weight\"] + param2[\"model.0.weight\"] + param3[\"model.0.weight\"]\n",
    "    ) / 4\n",
    "\n",
    "    avg_updates[\"model.0.bias\"] = (\n",
    "        param1[\"model.0.bias\"] + param2[\"model.0.bias\"]+ param3[\"model.0.bias\"]\n",
    "    ) / 4\n",
    "\n",
    "    avg_updates[\"model.2.weight\"] = (\n",
    "        param1[\"model.2.weight\"] + param2[\"model.2.weight\"] + param3[\"model.2.weight\"]\n",
    "    ) / 4\n",
    "\n",
    "    avg_updates[\"model.2.bias\"] = (\n",
    "        param1[\"model.2.bias\"] + param2[\"model.2.bias\"] + param3[\"model.2.bias\"]\n",
    "    ) / 4\n",
    "\n",
    "    avg_updates[\"model.4.weight\"] = (\n",
    "        param1[\"model.4.weight\"] + param2[\"model.4.weight\"] + param3[\"model.4.weight\"]\n",
    "    ) / 4\n",
    "\n",
    "    avg_updates[\"model.4.bias\"] = (\n",
    "        param1[\"model.4.bias\"] + param2[\"model.4.bias\"] + param3[\"model.4.bias\"]\n",
    "    ) / 4\n",
    "\n",
    "    avg_updates[\"model.6.weight\"] = (\n",
    "        param1[\"model.6.weight\"] + param2[\"model.6.weight\"] + param3[\"model.6.weight\"]\n",
    "    ) / 4\n",
    "\n",
    "    avg_updates[\"model.6.bias\"] = (\n",
    "        param1[\"model.6.bias\"] + param2[\"model.6.bias\"] + param3[\"model.6.bias\"]\n",
    "    ) / 4\n",
    "\n",
    "    return avg_updates"
   ]
  },
  {
   "cell_type": "code",
   "execution_count": null,
   "metadata": {},
   "outputs": [],
   "source": [
    "# パラメータのロード\n",
    "param11=torch.load('param11.pth')\n",
    "param12=torch.load('param12.pth')\n",
    "\n",
    "# パラメータの平均\n",
    "fed_avg(param11,param12)"
   ]
  },
  {
   "cell_type": "code",
   "execution_count": 48,
   "metadata": {},
   "outputs": [
    {
     "data": {
      "text/plain": "['param21.pth', 'param22.pth', 'param23.pth', 'param24.pth', 'param25.pth']"
     },
     "execution_count": 48,
     "metadata": {},
     "output_type": "execute_result"
    }
   ],
   "source": [
    "param2"
   ]
  },
  {
   "cell_type": "code",
   "execution_count": null,
   "metadata": {},
   "outputs": [],
   "source": [
    "\"fed2_12.pth\""
   ]
  },
  {
   "cell_type": "code",
   "execution_count": 54,
   "metadata": {},
   "outputs": [],
   "source": [
    "# 1つの文書で学習したモデルを組み合わせたパラメータを保存する(1)\n",
    "fed2=[\"fed2_12.pth\",\"fed2_23.pth\",\"fed2_34.pth\",\"fed2_45.pth\",\"fed2_51.pth\"]\n",
    "# (1)のパラメータを利用してtestを行う結果を保存するリスト\n",
    "fed2_ndcg5=[]"
   ]
  },
  {
   "cell_type": "code",
   "execution_count": null,
   "metadata": {},
   "outputs": [],
   "source": [
    "fed4=[\"fed4_12.pth\",\"fed4_23.pth\",\"fed4_34.pth\",\"fed4_45.pth\",\"fed4_51.pth\"]\n",
    "fed4_ndcg5=[]"
   ]
  },
  {
   "cell_type": "code",
   "execution_count": 55,
   "metadata": {},
   "outputs": [
    {
     "data": {
      "text/plain": "['param11.pth', 'param12.pth', 'param13.pth', 'param14.pth', 'param15.pth']"
     },
     "execution_count": 55,
     "metadata": {},
     "output_type": "execute_result"
    }
   ],
   "source": [
    "param1"
   ]
  },
  {
   "cell_type": "code",
   "execution_count": 62,
   "metadata": {},
   "outputs": [
    {
     "name": "stdout",
     "output_type": "stream",
     "text": [
      "tensor(0.3123)\n",
      "tensor(0.3290)\n",
      "tensor(0.2818)\n",
      "tensor(0.3071)\n",
      "tensor(0.2993)\n"
     ]
    }
   ],
   "source": [
    "# 1つの文書で学習したパラメータから2つ分のモデルを作る\n",
    "for i in range(5):\n",
    "    # federated model の パラメータ\n",
    "    p1 = torch.load(param1[0])\n",
    "    p2 = torch.load(param1[1])\n",
    "    \n",
    "    fed_param = fed_avg2(p1,p2)\n",
    "\n",
    "    # modelの作成\n",
    "    model.load_state_dict(fed_param)\n",
    "\n",
    "    # test dataでndcgを計算\n",
    "    print(testing(model, data_list[4], 5))\n",
    "    fed2_ndcg5.append(testing(model, data_list[4], 5))\n",
    "\n",
    "    # パラメータの保存\n",
    "    torch.save(model.state_dict(), fed2[0])\n",
    "\n",
    "    param1.insert(0,param1.pop())\n",
    "    fed2.insert(0,fed2.pop())\n",
    "    data_list.insert(0,data_list.pop())\n",
    "    \n"
   ]
  },
  {
   "cell_type": "code",
   "execution_count": 63,
   "metadata": {},
   "outputs": [
    {
     "data": {
      "text/plain": "[tensor(0.3123),\n tensor(0.3290),\n tensor(0.2818),\n tensor(0.3071),\n tensor(0.2993)]"
     },
     "execution_count": 63,
     "metadata": {},
     "output_type": "execute_result"
    }
   ],
   "source": [
    "fed2_ndcg5"
   ]
  },
  {
   "cell_type": "code",
   "execution_count": 64,
   "metadata": {},
   "outputs": [
    {
     "data": {
      "text/plain": "tensor(0.3059)"
     },
     "execution_count": 64,
     "metadata": {},
     "output_type": "execute_result"
    }
   ],
   "source": [
    "sum(fed2_ndcg5)/5"
   ]
  },
  {
   "cell_type": "code",
   "execution_count": 65,
   "metadata": {},
   "outputs": [
    {
     "data": {
      "text/plain": "['param21.pth', 'param22.pth', 'param23.pth', 'param24.pth', 'param25.pth']"
     },
     "execution_count": 65,
     "metadata": {},
     "output_type": "execute_result"
    }
   ],
   "source": [
    "param2"
   ]
  },
  {
   "cell_type": "code",
   "execution_count": 73,
   "metadata": {},
   "outputs": [],
   "source": [
    "# クライアントが2で一つのクライアントあたり2つの文書で学習を行うモデルのパラメータを保存する\n",
    "fed22=[\"fed22_1.pth\",\"fed22_2.pth\",\"fed22_3.pth\",\"fed22_4.pth\",\"fed22_5.pth\"]\n",
    "fed22_ndcg5=[]"
   ]
  },
  {
   "cell_type": "code",
   "execution_count": 74,
   "metadata": {},
   "outputs": [
    {
     "name": "stdout",
     "output_type": "stream",
     "text": [
      "tensor(0.3143)\n",
      "tensor(0.3287)\n",
      "tensor(0.2817)\n",
      "tensor(0.3078)\n",
      "tensor(0.2999)\n"
     ]
    }
   ],
   "source": [
    "# 2つの文書で学習したパラメータから4つの文書分のモデルを作る\n",
    "for i in range(5):\n",
    "    # federated model の パラメータ\n",
    "    p1 = torch.load(param2[0])\n",
    "    p2 = torch.load(param2[2])\n",
    "    \n",
    "    fed_param = fed_avg2(p1,p2)\n",
    "\n",
    "    # modelの作成\n",
    "    model.load_state_dict(fed_param)\n",
    "\n",
    "    # test dataでndcgを計算\n",
    "    print(testing(model, data_list[4], 5))\n",
    "    fed22_ndcg5.append(testing(model, data_list[4], 5))\n",
    "\n",
    "    # パラメータの保存\n",
    "    torch.save(model.state_dict(), fed22[0])\n",
    "\n",
    "    param2.insert(0,param2.pop())\n",
    "    fed22.insert(0,fed22.pop())\n",
    "    data_list.insert(0,data_list.pop())"
   ]
  },
  {
   "cell_type": "code",
   "execution_count": 76,
   "metadata": {},
   "outputs": [
    {
     "data": {
      "text/plain": "tensor(0.3065)"
     },
     "execution_count": 76,
     "metadata": {},
     "output_type": "execute_result"
    }
   ],
   "source": [
    "sum(fed22_ndcg5)/5"
   ]
  },
  {
   "cell_type": "code",
   "execution_count": 81,
   "metadata": {},
   "outputs": [],
   "source": [
    "# クライアントが2で一つのクライアントあたり3つの文書で学習を行うモデルのパラメータを保存する\n",
    "fed23=[\"fed23_1.pth\",\"fed23_2.pth\",\"fed23_3.pth\",\"fed23_4.pth\",\"fed23_5.pth\"]\n",
    "fed23_ndcg5=[]"
   ]
  },
  {
   "cell_type": "code",
   "execution_count": 82,
   "metadata": {},
   "outputs": [
    {
     "name": "stdout",
     "output_type": "stream",
     "text": [
      "tensor(0.3152)\n",
      "tensor(0.3297)\n",
      "tensor(0.2812)\n",
      "tensor(0.3062)\n",
      "tensor(0.2989)\n"
     ]
    }
   ],
   "source": [
    "# 3つの文書で学習した2つのクライアントのモデルを作る\n",
    "for i in range(5):\n",
    "    # federated model の パラメータ\n",
    "    p1 = torch.load(param3[0])\n",
    "    p2 = torch.load(param3[1])\n",
    "    \n",
    "    fed_param = fed_avg2(p1,p2)\n",
    "\n",
    "    # modelの作成\n",
    "    model.load_state_dict(fed_param)\n",
    "\n",
    "    # test dataでndcgを計算\n",
    "    print(testing(model, data_list[4], 5))\n",
    "    fed23_ndcg5.append(testing(model, data_list[4], 5))\n",
    "\n",
    "    # パラメータの保存\n",
    "    torch.save(model.state_dict(), fed23[0])\n",
    "\n",
    "    param3.insert(0,param3.pop())\n",
    "    fed23.insert(0,fed23.pop())\n",
    "    data_list.insert(0,data_list.pop())"
   ]
  },
  {
   "cell_type": "code",
   "execution_count": 84,
   "metadata": {},
   "outputs": [
    {
     "data": {
      "text/plain": "tensor(0.3062)"
     },
     "execution_count": 84,
     "metadata": {},
     "output_type": "execute_result"
    }
   ],
   "source": [
    "sum(fed23_ndcg5)/5"
   ]
  },
  {
   "cell_type": "code",
   "execution_count": 87,
   "metadata": {},
   "outputs": [],
   "source": [
    "# s1s3s4の位置で学習を行う\n",
    "param3s =[\"param3s_1.pth\",\"param3s_2.pth\",\"param3s_3.pth\",\"param3s_4.pth\",\"param3s_5.pth\"]\n",
    "param3s_ndcg5=[]"
   ]
  },
  {
   "cell_type": "code",
   "execution_count": 91,
   "metadata": {},
   "outputs": [
    {
     "name": "stdout",
     "output_type": "stream",
     "text": [
      "fold : 1\n",
      "epoch:1, loss:0.3378460705280304, ndcg@1:0.2520483732223511, ndcg@5:0.28301000595092773\n",
      "epoch:100, loss:0.33782628178596497, ndcg@1:0.2569648027420044, ndcg@5:0.2875714600086212\n",
      "epoch:200, loss:0.33780601620674133, ndcg@1:0.26253676414489746, ndcg@5:0.29312774538993835\n",
      "epoch:300, loss:0.33778640627861023, ndcg@1:0.2618812322616577, ndcg@5:0.29578885436058044\n",
      "epoch:400, loss:0.3377667963504791, ndcg@1:0.26515883207321167, ndcg@5:0.29977914690971375\n",
      "epoch:500, loss:0.33774659037590027, ndcg@1:0.27073079347610474, ndcg@5:0.3028857707977295\n",
      "tensor(0.3136)\n",
      "fold : 2\n",
      "epoch:1, loss:0.3378589153289795, ndcg@1:0.25575265288352966, ndcg@5:0.2825051546096802\n",
      "epoch:100, loss:0.3378382623195648, ndcg@1:0.26002612709999084, ndcg@5:0.2849295139312744\n",
      "epoch:200, loss:0.33781760931015015, ndcg@1:0.26594334840774536, ndcg@5:0.28906306624412537\n",
      "epoch:300, loss:0.3377971351146698, ndcg@1:0.26594334840774536, ndcg@5:0.2923032343387604\n",
      "epoch:400, loss:0.3377772569656372, ndcg@1:0.2669295370578766, ndcg@5:0.2965630888938904\n",
      "epoch:500, loss:0.337756872177124, ndcg@1:0.27383294701576233, ndcg@5:0.3005492687225342\n",
      "tensor(0.3289)\n",
      "fold : 3\n",
      "epoch:1, loss:0.3378731608390808, ndcg@1:0.26024237275123596, ndcg@5:0.29134440422058105\n",
      "epoch:100, loss:0.33785104751586914, ndcg@1:0.2638477683067322, ndcg@5:0.29541078209877014\n",
      "epoch:200, loss:0.3378291428089142, ndcg@1:0.26778095960617065, ndcg@5:0.30107381939888\n",
      "epoch:300, loss:0.33780720829963684, ndcg@1:0.27204185724258423, ndcg@5:0.30597835779190063\n",
      "epoch:400, loss:0.3377852141857147, ndcg@1:0.2766304910182953, ndcg@5:0.3089335858821869\n",
      "epoch:500, loss:0.33776384592056274, ndcg@1:0.28351348638534546, ndcg@5:0.31236740946769714\n",
      "tensor(0.2823)\n",
      "fold : 4\n",
      "epoch:1, loss:0.33788084983825684, ndcg@1:0.2541089653968811, ndcg@5:0.2809518575668335\n",
      "epoch:100, loss:0.33786213397979736, ndcg@1:0.25706762075424194, ndcg@5:0.28345590829849243\n",
      "epoch:200, loss:0.3378433883190155, ndcg@1:0.2629848122596741, ndcg@5:0.28776025772094727\n",
      "epoch:300, loss:0.3378244638442993, ndcg@1:0.2623273432254791, ndcg@5:0.29134225845336914\n",
      "epoch:400, loss:0.33780625462532043, ndcg@1:0.2626560628414154, ndcg@5:0.2940638065338135\n",
      "epoch:500, loss:0.3377879559993744, ndcg@1:0.26725831627845764, ndcg@5:0.2971475124359131\n",
      "tensor(0.3072)\n",
      "fold : 5\n",
      "epoch:1, loss:0.3378499448299408, ndcg@1:0.2652859091758728, ndcg@5:0.2955261170864105\n",
      "epoch:100, loss:0.3378269374370575, ndcg@1:0.26955941319465637, ndcg@5:0.299557089805603\n",
      "epoch:200, loss:0.3378041982650757, ndcg@1:0.27646276354789734, ndcg@5:0.30460989475250244\n",
      "epoch:300, loss:0.3377813994884491, ndcg@1:0.2823799252510071, ndcg@5:0.3095427453517914\n",
      "epoch:400, loss:0.3377586901187897, ndcg@1:0.2846810519695282, ndcg@5:0.3137722313404083\n",
      "epoch:500, loss:0.337736576795578, ndcg@1:0.2935568392276764, ndcg@5:0.31911882758140564\n",
      "tensor(0.2980)\n"
     ]
    }
   ],
   "source": [
    "# s1s3s4の位置で学習を行う\n",
    "for j in range(5):\n",
    "\n",
    "    print(\"fold :\", j+1)\n",
    "\n",
    "    # 学習前のパラメータをロード\n",
    "    param = torch.load('weight.pth')\n",
    "    model.load_state_dict(param)\n",
    "        \n",
    "    data = data_list[0]+data_list[2]+data_list[3]\n",
    "\n",
    "    # 学習を行う\n",
    "    ndcg1, ndcg5 = training_loop(\n",
    "        # epoch\n",
    "        n_epochs = 500,\n",
    "        optimizer = torch.optim.SGD(model.parameters(),lr = 0.01),\n",
    "        model = model,\n",
    "        train = data\n",
    "        )\n",
    "\n",
    "    # パラメータの保存\n",
    "    torch.save(model.state_dict(), param3s[j])\n",
    "\n",
    "    # テスト\n",
    "    #test_ndcg1=testing(model, data_list[4], 1)\n",
    "    test_ndcg5=testing(model, data_list[4], 5)\n",
    "    param3s_ndcg5.append(test_ndcg5)\n",
    "\n",
    "    #print(test_ndcg1)\n",
    "    print(test_ndcg5)\n",
    "\n",
    "    data_list.insert(0,data_list.pop())\n"
   ]
  },
  {
   "cell_type": "code",
   "execution_count": 93,
   "metadata": {},
   "outputs": [],
   "source": [
    "# s1s2s4の位置で学習を行う\n",
    "param3t =[\"param3t_1.pth\",\"param3t_2.pth\",\"param3t_3.pth\",\"param3t_4.pth\",\"param3t_5.pth\"]\n",
    "param3t_ndcg5=[]\n",
    "\n",
    "# s1s4の位置で学習を行う\n",
    "param2s =[\"param2s_1.pth\",\"param2s_2.pth\",\"param2s_3.pth\",\"param2s_4.pth\",\"param2s_5.pth\"]\n",
    "param2s_ndcg5=[]"
   ]
  },
  {
   "cell_type": "code",
   "execution_count": 96,
   "metadata": {},
   "outputs": [
    {
     "data": {
      "text/plain": "[tensor(0.2962),\n tensor(0.3022),\n tensor(0.2634),\n tensor(0.2882),\n tensor(0.2836)]"
     },
     "execution_count": 96,
     "metadata": {},
     "output_type": "execute_result"
    }
   ],
   "source": [
    "param2s_ndcg5"
   ]
  },
  {
   "cell_type": "code",
   "execution_count": 97,
   "metadata": {},
   "outputs": [
    {
     "name": "stdout",
     "output_type": "stream",
     "text": [
      "s1s2s4の位置で学習を行う\n",
      "fold : 1\n",
      "epoch:1, loss:0.33787330985069275, ndcg@1:0.26024240255355835, ndcg@5:0.29134443402290344\n",
      "epoch:100, loss:0.33785128593444824, ndcg@1:0.26384779810905457, ndcg@5:0.2954106032848358\n",
      "epoch:200, loss:0.33782920241355896, ndcg@1:0.26778098940849304, ndcg@5:0.3010738492012024\n",
      "epoch:300, loss:0.3378070890903473, ndcg@1:0.2720418870449066, ndcg@5:0.3059781789779663\n",
      "epoch:400, loss:0.33778518438339233, ndcg@1:0.27663055062294006, ndcg@5:0.3089335560798645\n",
      "epoch:500, loss:0.3377639055252075, ndcg@1:0.28351354598999023, ndcg@5:0.3123672902584076\n",
      "tensor(0.3148)\n",
      "fold : 2\n",
      "epoch:1, loss:0.33788079023361206, ndcg@1:0.2541089653968811, ndcg@5:0.2809520363807678\n",
      "epoch:100, loss:0.33786237239837646, ndcg@1:0.25706759095191956, ndcg@5:0.283456027507782\n",
      "epoch:200, loss:0.3378431797027588, ndcg@1:0.2629847526550293, ndcg@5:0.28776025772094727\n",
      "epoch:300, loss:0.3378247320652008, ndcg@1:0.26232725381851196, ndcg@5:0.29134228825569153\n",
      "epoch:400, loss:0.33780616521835327, ndcg@1:0.26265600323677063, ndcg@5:0.2940637767314911\n",
      "epoch:500, loss:0.33778777718544006, ndcg@1:0.26725825667381287, ndcg@5:0.2971475124359131\n",
      "tensor(0.3279)\n",
      "fold : 3\n",
      "epoch:1, loss:0.33784958720207214, ndcg@1:0.26528581976890564, ndcg@5:0.2955261468887329\n",
      "epoch:100, loss:0.33782657980918884, ndcg@1:0.2695593535900116, ndcg@5:0.2995571196079254\n",
      "epoch:200, loss:0.33780401945114136, ndcg@1:0.27646273374557495, ndcg@5:0.30460986495018005\n",
      "epoch:300, loss:0.3377813398838043, ndcg@1:0.2823798954486847, ndcg@5:0.30954280495643616\n",
      "epoch:400, loss:0.3377586305141449, ndcg@1:0.2846810221672058, ndcg@5:0.3137722313404083\n",
      "epoch:500, loss:0.3377367854118347, ndcg@1:0.293556809425354, ndcg@5:0.31911882758140564\n",
      "tensor(0.2818)\n",
      "fold : 4\n",
      "epoch:1, loss:0.3378463089466095, ndcg@1:0.25204840302467346, ndcg@5:0.2830095589160919\n",
      "epoch:100, loss:0.33782634139060974, ndcg@1:0.25696486234664917, ndcg@5:0.2875712811946869\n",
      "epoch:200, loss:0.33780667185783386, ndcg@1:0.26253682374954224, ndcg@5:0.2931275963783264\n",
      "epoch:300, loss:0.3377864956855774, ndcg@1:0.2618812918663025, ndcg@5:0.29578888416290283\n",
      "epoch:400, loss:0.3377667963504791, ndcg@1:0.26515892148017883, ndcg@5:0.29977914690971375\n",
      "epoch:500, loss:0.33774682879447937, ndcg@1:0.2707308530807495, ndcg@5:0.3028858006000519\n",
      "tensor(0.3060)\n",
      "fold : 5\n",
      "epoch:1, loss:0.33785900473594666, ndcg@1:0.25575265288352966, ndcg@5:0.2825053036212921\n",
      "epoch:100, loss:0.33783817291259766, ndcg@1:0.26002615690231323, ndcg@5:0.2849297821521759\n",
      "epoch:200, loss:0.33781784772872925, ndcg@1:0.26594337821006775, ndcg@5:0.28906333446502686\n",
      "epoch:300, loss:0.33779728412628174, ndcg@1:0.26594337821006775, ndcg@5:0.2923033535480499\n",
      "epoch:400, loss:0.3377772569656372, ndcg@1:0.266929566860199, ndcg@5:0.2965632975101471\n",
      "epoch:500, loss:0.3377569615840912, ndcg@1:0.27383291721343994, ndcg@5:0.30054956674575806\n",
      "tensor(0.2992)\n",
      "\n",
      "s1s4の位置で学習を行う\n",
      "fold : 1\n",
      "epoch:1, loss:0.3378661274909973, ndcg@1:0.26007863879203796, ndcg@5:0.29289379715919495\n",
      "epoch:100, loss:0.33784493803977966, ndcg@1:0.26352009177207947, ndcg@5:0.2978764772415161\n",
      "epoch:200, loss:0.3378237783908844, ndcg@1:0.26794490218162537, ndcg@5:0.30355188250541687\n",
      "epoch:300, loss:0.33780258893966675, ndcg@1:0.27138635516166687, ndcg@5:0.30744293332099915\n",
      "epoch:400, loss:0.3377813696861267, ndcg@1:0.27826935052871704, ndcg@5:0.3116523325443268\n",
      "epoch:500, loss:0.3377605080604553, ndcg@1:0.2836773991584778, ndcg@5:0.31393229961395264\n",
      "tensor(0.3123)\n",
      "fold : 2\n",
      "epoch:1, loss:0.3378440737724304, ndcg@1:0.2533332407474518, ndcg@5:0.2796227037906647\n",
      "epoch:100, loss:0.3378249704837799, ndcg@1:0.25777769088745117, ndcg@5:0.2823573052883148\n",
      "epoch:200, loss:0.33780595660209656, ndcg@1:0.26518514752388, ndcg@5:0.28669533133506775\n",
      "epoch:300, loss:0.3377874791622162, ndcg@1:0.26518508791923523, ndcg@5:0.2886616587638855\n",
      "epoch:400, loss:0.3377684950828552, ndcg@1:0.2637036144733429, ndcg@5:0.2919327914714813\n",
      "epoch:500, loss:0.33775025606155396, ndcg@1:0.2686418890953064, ndcg@5:0.29707980155944824\n",
      "tensor(0.3273)\n",
      "fold : 3\n",
      "epoch:1, loss:0.3378332555294037, ndcg@1:0.26253682374954224, ndcg@5:0.2952168881893158\n",
      "epoch:100, loss:0.3378089964389801, ndcg@1:0.26646995544433594, ndcg@5:0.30043914914131165\n",
      "epoch:200, loss:0.3377848267555237, ndcg@1:0.2723696231842041, ndcg@5:0.30587324500083923\n",
      "epoch:300, loss:0.33776047825813293, ndcg@1:0.2802359163761139, ndcg@5:0.3123971223831177\n",
      "epoch:400, loss:0.3377363383769989, ndcg@1:0.2866272032260895, ndcg@5:0.3157704174518585\n",
      "epoch:500, loss:0.33771300315856934, ndcg@1:0.28908535838127136, ndcg@5:0.32056546211242676\n",
      "tensor(0.2815)\n",
      "fold : 4\n",
      "epoch:1, loss:0.3378797471523285, ndcg@1:0.2458209991455078, ndcg@5:0.2734202742576599\n",
      "epoch:100, loss:0.33786189556121826, ndcg@1:0.2502457797527313, ndcg@5:0.27625128626823425\n",
      "epoch:200, loss:0.33784353733062744, ndcg@1:0.25516217947006226, ndcg@5:0.2808312475681305\n",
      "epoch:300, loss:0.33782586455345154, ndcg@1:0.2497541457414627, ndcg@5:0.28424757719039917\n",
      "epoch:400, loss:0.3378080427646637, ndcg@1:0.25073742866516113, ndcg@5:0.28611263632774353\n",
      "epoch:500, loss:0.33779022097587585, ndcg@1:0.254178911447525, ndcg@5:0.28871187567710876\n",
      "tensor(0.3060)\n",
      "fold : 5\n",
      "epoch:1, loss:0.337885320186615, ndcg@1:0.26567891240119934, ndcg@5:0.2921799123287201\n",
      "epoch:100, loss:0.3378627896308899, ndcg@1:0.2681480646133423, ndcg@5:0.2939620316028595\n",
      "epoch:200, loss:0.3378406763076782, ndcg@1:0.2730863094329834, ndcg@5:0.29771995544433594\n",
      "epoch:300, loss:0.3378188908100128, ndcg@1:0.27950605750083923, ndcg@5:0.3023054599761963\n",
      "epoch:400, loss:0.3377971947193146, ndcg@1:0.2814813554286957, ndcg@5:0.3075878322124481\n",
      "epoch:500, loss:0.33777642250061035, ndcg@1:0.2874073088169098, ndcg@5:0.3121345043182373\n",
      "tensor(0.2993)\n"
     ]
    }
   ],
   "source": [
    "# s1s2s4の位置で学習を行う\n",
    "print(\"s1s2s4の位置で学習を行う\")\n",
    "for j in range(5):\n",
    "\n",
    "    print(\"fold :\", j+1)\n",
    "\n",
    "    # 学習前のパラメータをロード\n",
    "    param = torch.load('weight.pth')\n",
    "    model.load_state_dict(param)\n",
    "        \n",
    "    data = data_list[0]+data_list[1]+data_list[3]\n",
    "\n",
    "    # 学習を行う\n",
    "    ndcg1, ndcg5 = training_loop(\n",
    "        # epoch\n",
    "        n_epochs = 500,\n",
    "        optimizer = torch.optim.SGD(model.parameters(),lr = 0.01),\n",
    "        model = model,\n",
    "        train = data\n",
    "        )\n",
    "\n",
    "    # パラメータの保存\n",
    "    torch.save(model.state_dict(), param3t[j])\n",
    "\n",
    "    # テスト\n",
    "    #test_ndcg1=testing(model, data_list[4], 1)\n",
    "    test_ndcg5=testing(model, data_list[4], 5)\n",
    "    param3t_ndcg5.append(test_ndcg5)\n",
    "\n",
    "    #print(test_ndcg1)\n",
    "    print(test_ndcg5)\n",
    "\n",
    "    data_list.insert(0,data_list.pop())\n",
    "\n",
    "\n",
    "\n",
    "# s1s4の位置で学習を行う\n",
    "\n",
    "print(\"\\ns1s4の位置で学習を行う\")\n",
    "\n",
    "\n",
    "for j in range(5):\n",
    "\n",
    "    print(\"fold :\", j+1)\n",
    "\n",
    "    # 学習前のパラメータをロード\n",
    "    param = torch.load('weight.pth')\n",
    "    model.load_state_dict(param)\n",
    "        \n",
    "    data = data_list[0]+data_list[3]\n",
    "\n",
    "    # 学習を行う\n",
    "    ndcg1, ndcg5 = training_loop(\n",
    "        # epoch\n",
    "        n_epochs = 500,\n",
    "        optimizer = torch.optim.SGD(model.parameters(),lr = 0.01),\n",
    "        model = model,\n",
    "        train = data\n",
    "        )\n",
    "\n",
    "    # パラメータの保存\n",
    "    torch.save(model.state_dict(), param2s[j])\n",
    "\n",
    "    # テスト\n",
    "    #test_ndcg1=testing(model, data_list[4], 1)\n",
    "    test_ndcg5=testing(model, data_list[4], 5)\n",
    "    param2s_ndcg5.append(test_ndcg5)\n",
    "\n",
    "    #print(test_ndcg1)\n",
    "    print(test_ndcg5)\n",
    "\n",
    "    data_list.insert(0,data_list.pop())\n",
    "\n"
   ]
  },
  {
   "cell_type": "code",
   "execution_count": 49,
   "metadata": {},
   "outputs": [
    {
     "name": "stdout",
     "output_type": "stream",
     "text": [
      "fed2, ndcg5 :  tensor(0.2349)\n",
      "fed4, ndcg5 :  tensor(0.2358)\n"
     ]
    }
   ],
   "source": [
    "print(\"fed2, ndcg5 : \", sum(fed2_ndcg5)/5)\n",
    "print(\"fed4, ndcg5 : \", sum(fed4_ndcg5)/5)"
   ]
  },
  {
   "cell_type": "code",
   "execution_count": 50,
   "metadata": {},
   "outputs": [
    {
     "name": "stdout",
     "output_type": "stream",
     "text": [
      "baseline2, ndcg5 :  tensor(0.2361)\n",
      "baseline4, ndcg5 :  tensor(0.2350)\n"
     ]
    }
   ],
   "source": [
    "print(\"baseline2, ndcg5 : \", sum(set1_test_ndcg5)/5)\n",
    "print(\"baseline4, ndcg5 : \", sum(set2_test_ndcg5)/5)"
   ]
  },
  {
   "cell_type": "code",
   "execution_count": 58,
   "metadata": {},
   "outputs": [],
   "source": [
    "# fed\n",
    "fed_set1_all=[]\n",
    "for i in range(5):\n",
    "\n",
    "    fed_set1=[]\n",
    "    for j in range(500):\n",
    "        fed_set1.append((set1_train_ndcg5[0][j]+set1_train_ndcg5[1][j])/2)\n",
    "        \n",
    "    fed_set1_all.append(fed_set1)\n",
    "    set1_train_ndcg5.insert(0,set1_train_ndcg5.pop())"
   ]
  },
  {
   "cell_type": "code",
   "execution_count": 59,
   "metadata": {},
   "outputs": [],
   "source": [
    "fed_set1_all_mean=[]\n",
    "for i in range(500):\n",
    "    fed_set1_all_mean.append((fed_set1_all[0][i]+fed_set1_all[1][i]+fed_set1_all[2][i]+fed_set1_all[3][i]+fed_set1_all[4][i])/5)"
   ]
  },
  {
   "cell_type": "code",
   "execution_count": 62,
   "metadata": {},
   "outputs": [],
   "source": [
    "set2_mean = []\n",
    "for i in range(500):\n",
    "    set2_mean.append((set2_train_ndcg5[0][i]+set2_train_ndcg5[1][i]+set2_train_ndcg5[2][i]+set2_train_ndcg5[3][i]+set2_train_ndcg5[4][i])/5)"
   ]
  },
  {
   "cell_type": "code",
   "execution_count": 64,
   "metadata": {},
   "outputs": [
    {
     "data": {
      "image/png": "[encoded data removed]",
      "text/plain": "<Figure size 432x288 with 1 Axes>"
     },
     "metadata": {
      "needs_background": "light",
      "transient": {}
     },
     "output_type": "display_data"
    }
   ],
   "source": [
    "\"\"\"複数のグラフを重ねて描画するプログラム\"\"\"\n",
    "import numpy as np\n",
    "import matplotlib.pyplot as plt\n",
    "\n",
    "fig, ax = plt.subplots()\n",
    "\n",
    "t = range(500)\n",
    "y1 = set2_mean\n",
    "y2 = fed_set1_all_mean\n",
    "\n",
    "c1,c2 = \"green\",\"red\"     # 各プロットの色\n",
    "l1,l2 = \"baseline model\",\"federated model\"   # 各ラベル\n",
    "\n",
    "ax.set_xlabel('epoch')  # x軸ラベル\n",
    "ax.set_ylabel('ndcg@5')  # y軸ラベル\n",
    "#ax.set_title(r'$\\sin(x)$ and $\\cos(x)$') # グラフタイトル\n",
    "# ax.set_aspect('equal') # スケールを揃える\n",
    "ax.grid()            # 罫線\n",
    "#ax.set_xlim([-10, 10]) # x方向の描画範囲を指定\n",
    "#ax.set_ylim([0, 1])    # y方向の描画範囲を指定\n",
    "ax.plot(t, y1, color=c1, label=l1)\n",
    "ax.plot(t, y2, color=c2, label=l2)\n",
    "#ax.plot(t, y3, color=c3, label=l3)\n",
    "#ax.plot(t, y4, color=c4, label=l4)\n",
    "ax.legend(loc=0)    # 凡例\n",
    "fig.tight_layout()  # レイアウトの設定\n",
    "plt.savefig('doc2.png') # 画像の保存\n",
    "plt.show()"
   ]
  },
  {
   "cell_type": "code",
   "execution_count": 129,
   "metadata": {},
   "outputs": [
    {
     "name": "stdout",
     "output_type": "stream",
     "text": [
      "tensor(0.3284)\n",
      "tensor(0.3458)\n"
     ]
    }
   ],
   "source": [
    "#fed\n",
    "print(testing(combined_model, s5, 1))\n",
    "print(testing(combined_model, s5, 5))"
   ]
  },
  {
   "cell_type": "code",
   "execution_count": 131,
   "metadata": {},
   "outputs": [
    {
     "name": "stdout",
     "output_type": "stream",
     "text": [
      "tensor(0.2579)\n",
      "tensor(0.2892)\n"
     ]
    }
   ],
   "source": [
    "# classic\n",
    "print(testing(classical_model, s5, 1))\n",
    "print(testing(classical_model, s5, 5))"
   ]
  },
  {
   "cell_type": "code",
   "execution_count": null,
   "metadata": {},
   "outputs": [],
   "source": [
    "set1_test_ndcg5\n",
    "set2_test_ndcg5"
   ]
  },
  {
   "cell_type": "markdown",
   "metadata": {},
   "source": [
    "---"
   ]
  },
  {
   "cell_type": "code",
   "execution_count": 7,
   "metadata": {},
   "outputs": [],
   "source": [
    "def training_loop(n_epochs,optimizer,model,data_list):\n",
    "    count = 0\n",
    "    best_ndcg = 0\n",
    "    \n",
    "    while count < len(data_list):\n",
    "        # 最初の3つをtrainに\n",
    "        train = data_list[0]+data_list[1]+data_list[2]\n",
    "        # 1つをvalidationに\n",
    "        val = data_list[3]\n",
    "        # 最後をtestに\n",
    "        test = data_list[4]\n",
    "        \n",
    "        # モデルの訓練\n",
    "        for epoch in range(1, n_epochs + 1):\n",
    "        \n",
    "            # クエリごとの訓練\n",
    "            batch_loss = 0\n",
    "            batch_ndcg = 0\n",
    "            for _,batch_ranking,label in train:\n",
    "                batch_loss += model.forward(batch_ranking=batch_ranking, label=label)\n",
    "                #print(compute_ndcg(batch_ranking,label,5))\n",
    "                batch_ndcg += compute_ndcg(batch_ranking,label,5)\n",
    "                    \n",
    "            fold_loss_mean = batch_loss / (len(data_list[0])+len(data_list[1])+len(data_list[2]))\n",
    "            fold_ndcg_mean = batch_ndcg / (len(data_list[0])+len(data_list[1])+len(data_list[2]))\n",
    "            \n",
    "            if epoch ==1 or epoch%10==0:\n",
    "                print('epoch:{0}, loss:{1}, ndcg:{2}'.format(epoch, fold_loss_mean, fold_ndcg_mean))\n",
    "            \n",
    "            # パラメータ選択\n",
    "            val_loss = 0\n",
    "            val_ndcg = 0\n",
    "            for _,batch_ranking,label in val:\n",
    "                val_loss += model.forward(batch_ranking=batch_ranking, label=label)\n",
    "                val_ndcg += compute_ndcg(batch_ranking,label,5)\n",
    "                \n",
    "            val_loss_mean = val_loss / len(val)\n",
    "            val_ndcg_mean = val_ndcg / len(val)    \n",
    "                \n",
    "            if val_ndcg_mean > best_ndcg:\n",
    "                best_ndcg = val_ndcg_mean\n",
    "            \n",
    "                # 訓練したモデルの保存\n",
    "                torch.save(model.state_dict(), 'weight.pth')\n",
    "            \n",
    "            optimizer.zero_grad()\n",
    "            fold_loss_mean.backward()\n",
    "            optimizer.step()\n",
    "            \n",
    "        # パラメータの読み込み\n",
    "        param = torch.load('weight.pth')\n",
    "        model.load_state_dict(param)\n",
    "        \n",
    "        #test\n",
    "        test_ndcg = testing(test)\n",
    "        \n",
    "        print('test:{0}'.format(test_ndcg))\n",
    "        \n",
    "        #　右にひとつシフト ([1,2,3,4,5] -> [5,1,2,3,4]となる)\n",
    "        data_list.insert(0,data_list.pop())\n",
    "        \n",
    "#         if epoch%10==0:\n",
    "#             print(\"epoch: \", epoch, \"loss: \", epoch_loss, \"ndcg: \", epoch_ndcg)\n",
    "        count += 1"
   ]
  },
  {
   "cell_type": "code",
   "execution_count": 8,
   "metadata": {},
   "outputs": [],
   "source": [
    "data_list = [fold1,fold2,fold3,fold4,fold5]"
   ]
  },
  {
   "cell_type": "code",
   "execution_count": 17,
   "metadata": {},
   "outputs": [],
   "source": [
    "# クラスのインスタンス化\n",
    "model = RankNet(layers)"
   ]
  },
  {
   "cell_type": "code",
   "execution_count": 10,
   "metadata": {},
   "outputs": [
    {
     "name": "stdout",
     "output_type": "stream",
     "text": [
      "epoch:1, loss:0.33804816007614136, ndcg:0.2129535973072052\n",
      "epoch:10, loss:0.3380464017391205, ndcg:0.21400970220565796\n",
      "epoch:20, loss:0.33804401755332947, ndcg:0.21507927775382996\n",
      "epoch:30, loss:0.3380418121814728, ndcg:0.21627427637577057\n",
      "epoch:40, loss:0.33803996443748474, ndcg:0.218105748295784\n",
      "epoch:50, loss:0.33803796768188477, ndcg:0.21888558566570282\n",
      "epoch:60, loss:0.33803579211235046, ndcg:0.2204192578792572\n",
      "epoch:70, loss:0.3380337357521057, ndcg:0.22214770317077637\n",
      "epoch:80, loss:0.3380317687988281, ndcg:0.2235986590385437\n",
      "epoch:90, loss:0.338029682636261, ndcg:0.224581778049469\n",
      "epoch:100, loss:0.33802759647369385, ndcg:0.225375235080719\n",
      "test:0.2294071763753891\n",
      "epoch:1, loss:0.33805733919143677, ndcg:0.23191629350185394\n",
      "epoch:10, loss:0.3380555808544159, ndcg:0.2341095507144928\n",
      "epoch:20, loss:0.3380531668663025, ndcg:0.2361796349287033\n",
      "epoch:30, loss:0.33805134892463684, ndcg:0.23738986253738403\n",
      "epoch:40, loss:0.33804914355278015, ndcg:0.23919181525707245\n",
      "epoch:50, loss:0.3380470871925354, ndcg:0.24046093225479126\n",
      "epoch:60, loss:0.33804506063461304, ndcg:0.2423636019229889\n",
      "epoch:70, loss:0.3380430340766907, ndcg:0.2442573755979538\n",
      "epoch:80, loss:0.33804064989089966, ndcg:0.2457537055015564\n",
      "epoch:90, loss:0.33803871273994446, ndcg:0.24691550433635712\n",
      "epoch:100, loss:0.3380364179611206, ndcg:0.24839863181114197\n",
      "test:0.2208268642425537\n",
      "epoch:1, loss:0.33803388476371765, ndcg:0.22798480093479156\n",
      "epoch:10, loss:0.3380318582057953, ndcg:0.22995759546756744\n",
      "epoch:20, loss:0.33802998065948486, ndcg:0.23174148797988892\n",
      "epoch:30, loss:0.33802780508995056, ndcg:0.2331756055355072\n",
      "epoch:40, loss:0.3380261957645416, ndcg:0.2351100593805313\n",
      "epoch:50, loss:0.338023841381073, ndcg:0.23591168224811554\n",
      "epoch:60, loss:0.3380216956138611, ndcg:0.2377420961856842\n",
      "epoch:70, loss:0.3380197286605835, ndcg:0.2402326464653015\n",
      "epoch:80, loss:0.3380175828933716, ndcg:0.24133852124214172\n",
      "epoch:90, loss:0.33801570534706116, ndcg:0.2422952800989151\n",
      "epoch:100, loss:0.3380136787891388, ndcg:0.24327130615711212\n",
      "test:0.22020430862903595\n",
      "epoch:1, loss:0.33795955777168274, ndcg:0.23330236971378326\n",
      "epoch:10, loss:0.3379577100276947, ndcg:0.23382583260536194\n",
      "epoch:20, loss:0.3379558324813843, ndcg:0.2354578971862793\n",
      "epoch:30, loss:0.3379538357257843, ndcg:0.23802784085273743\n",
      "epoch:40, loss:0.3379518985748291, ndcg:0.23849588632583618\n",
      "epoch:50, loss:0.33794987201690674, ndcg:0.23984582722187042\n",
      "epoch:60, loss:0.3379480540752411, ndcg:0.24074816703796387\n",
      "epoch:70, loss:0.3379460573196411, ndcg:0.24221467971801758\n",
      "epoch:80, loss:0.33794426918029785, ndcg:0.24286481738090515\n",
      "epoch:90, loss:0.3379421532154083, ndcg:0.2439768761396408\n",
      "epoch:100, loss:0.3379400670528412, ndcg:0.2454364001750946\n",
      "test:0.25657203793525696\n",
      "epoch:1, loss:0.33794286847114563, ndcg:0.24435967206954956\n",
      "epoch:10, loss:0.33794084191322327, ndcg:0.2449781745672226\n",
      "epoch:20, loss:0.33793890476226807, ndcg:0.24533309042453766\n",
      "epoch:30, loss:0.33793705701828003, ndcg:0.24635052680969238\n",
      "epoch:40, loss:0.33793479204177856, ndcg:0.24617208540439606\n",
      "epoch:50, loss:0.33793288469314575, ndcg:0.24755524098873138\n",
      "epoch:60, loss:0.33793091773986816, ndcg:0.24845951795578003\n",
      "epoch:70, loss:0.33792880177497864, ndcg:0.24956676363945007\n",
      "epoch:80, loss:0.3379268944263458, ndcg:0.2510477900505066\n",
      "epoch:90, loss:0.33792462944984436, ndcg:0.2517324984073639\n",
      "epoch:100, loss:0.33792269229888916, ndcg:0.2523496448993683\n",
      "test:0.27562037110328674\n"
     ]
    }
   ],
   "source": [
    "training_loop(\n",
    "    n_epochs = 100,\n",
    "    optimizer = torch.optim.SGD(model.parameters(),lr = 0.01),\n",
    "    model = model,\n",
    "    data_list = data_list,\n",
    "    )"
   ]
  },
  {
   "cell_type": "code",
   "execution_count": null,
   "metadata": {},
   "outputs": [],
   "source": []
  },
  {
   "cell_type": "code",
   "execution_count": null,
   "metadata": {},
   "outputs": [],
   "source": []
  }
 ],
 "metadata": {
  "kernelspec": {
   "display_name": "Python 3",
   "language": "python",
   "name": "python3"
  },
  "language_info": {
   "codemirror_mode": {
    "name": "ipython",
    "version": 3
   },
   "file_extension": ".py",
   "mimetype": "text/x-python",
   "name": "python",
   "nbconvert_exporter": "python",
   "pygments_lexer": "ipython3",
   "version": "3.7.3"
  }
 },
 "nbformat": 4,
 "nbformat_minor": 4
}