{
 "cells": [
  {
   "cell_type": "code",
   "execution_count": 15,
   "metadata": {},
   "outputs": [],
   "source": [
    "import torch\n",
    "import torch.nn as nn\n",
    "import torch.nn.functional as F"
   ]
  },
  {
   "cell_type": "code",
   "execution_count": 17,
   "metadata": {},
   "outputs": [
    {
     "name": "stdout",
     "output_type": "stream",
     "text": [
      "/Users/kanazawaatsuya/imp/MQ2007/RankNet\n"
     ]
    }
   ],
   "source": [
    "# cd\n",
    "import os\n",
    "path = os.getcwd()\n",
    "print(path)"
   ]
  },
  {
   "cell_type": "code",
   "execution_count": 19,
   "metadata": {},
   "outputs": [],
   "source": [
    "from ptranking.data.data_utils import LTRDataset, SPLIT_TYPE\n",
    "data_id = 'MQ2007_Super'\n",
    "#MQ2007内にあるもの\n",
    "s1 = LTRDataset(SPLIT_TYPE.Train, data_id=data_id, file='S1.txt', batch_size=1, shuffle=True, presort=True, data_dict=None, eval_dict=None, buffer=False)\n",
    "s2 = LTRDataset(SPLIT_TYPE.Train, data_id=data_id, file='S2.txt', batch_size=1, shuffle=True, presort=True, data_dict=None, eval_dict=None, buffer=False)\n",
    "s3 = LTRDataset(SPLIT_TYPE.Train, data_id=data_id, file='S3.txt', batch_size=1, shuffle=True, presort=True, data_dict=None, eval_dict=None, buffer=False)\n",
    "s4 = LTRDataset(SPLIT_TYPE.Train, data_id=data_id, file='S4.txt', batch_size=1, shuffle=True, presort=True, data_dict=None, eval_dict=None, buffer=False)\n",
    "s5 = LTRDataset(SPLIT_TYPE.Train, data_id=data_id, file='S5.txt', batch_size=1, shuffle=True, presort=True, data_dict=None, eval_dict=None, buffer=False)"
   ]
  },
  {
   "cell_type": "code",
   "execution_count": 20,
   "metadata": {},
   "outputs": [],
   "source": [
    "layers = [nn.Linear(46, 128),\n",
    "          nn.ReLU(),\n",
    "          nn.Linear(128, 64),\n",
    "          nn.ReLU(),\n",
    "          nn.Linear(64, 32),\n",
    "          nn.ReLU(),\n",
    "          nn.Linear(32, 1)]"
   ]
  },
  {
   "cell_type": "code",
   "execution_count": 21,
   "metadata": {},
   "outputs": [],
   "source": [
    "class RankNet(nn.Module):\n",
    "    def __init__(self, layers):\n",
    "        super(RankNet, self).__init__()\n",
    "        self.model = nn.Sequential(*layers)\n",
    "        \n",
    "    def forward(self, batch_ranking, label):\n",
    "        batch_pred = self.model(batch_ranking) # [1, 40, 1]\n",
    "        batch_sij = torch.squeeze(batch_pred, 0) - torch.squeeze(batch_pred, 2) # [40, 40]\n",
    "        batch_pij = 1.0 / (1.0 + torch.exp(-batch_sij)) # [40, 40]\n",
    "\n",
    "        label_dim = torch.squeeze(label)\n",
    "        label_diffs = torch.unsqueeze(label_dim, 1) - label # [40,40]\n",
    "        batch_Sij = torch.clamp(label_diffs, -1, 1)\n",
    "        l_pij = 0.5 * (1.0 + batch_Sij)\n",
    "\n",
    "        batch_loss = F.binary_cross_entropy(input=torch.triu(batch_pij, diagonal=1), target=torch.triu(l_pij, diagonal=1), reduction='mean')    \n",
    "        \n",
    "        return batch_loss\n",
    "    \n",
    "    def predict(self, x):\n",
    "        return self.model(x)"
   ]
  },
  {
   "cell_type": "code",
   "execution_count": 22,
   "metadata": {},
   "outputs": [],
   "source": [
    "# ndcg\n",
    "def DCG(sorted_labels, cutoff):\n",
    "    denoms = torch.log2(torch.arange(2, cutoff+2))\n",
    "    nums = torch.pow(2, sorted_labels[0:cutoff])-1\n",
    "    dcg = sum(nums / denoms)\n",
    "    return dcg\n",
    "\n",
    "def nDCG(ideal, pred, k):\n",
    "    dcg_f = DCG(pred, k)\n",
    "    dcg = DCG(ideal, k)\n",
    "    nDCG = dcg_f / dcg\n",
    "    return nDCG\n",
    "\n",
    "def compute_ndcg(model, score, label, cutoff):\n",
    "    batch_pred = model.predict(score)\n",
    "    idx = torch.argsort(torch.squeeze(batch_pred),descending = True)\n",
    "    pred_sorted_labels = torch.squeeze(label)[idx]\n",
    "    ndcg = torch.nan_to_num(nDCG(torch.squeeze(label), pred_sorted_labels, cutoff))\n",
    "    \n",
    "    return ndcg"
   ]
  },
  {
   "cell_type": "code",
   "execution_count": 23,
   "metadata": {},
   "outputs": [],
   "source": [
    "def testing(model, data, cutoff):\n",
    "    with torch.no_grad():\n",
    "        ndcg_sum = 0\n",
    "        for _,batch_ranking,label in data:\n",
    "        #computes ndcg\n",
    "            ndcg = compute_ndcg(model,batch_ranking,label,cutoff)\n",
    "            ndcg_sum += ndcg  \n",
    "    ndcg_sum /= len(data)\n",
    "    return(ndcg_sum)"
   ]
  },
  {
   "cell_type": "code",
   "execution_count": 24,
   "metadata": {},
   "outputs": [],
   "source": [
    "def training_loop(n_epochs,optimizer,model,train):\n",
    "    \n",
    "    ndcg1=[]\n",
    "    ndcg5=[]\n",
    "    \n",
    "    # モデルの訓練\n",
    "    for epoch in range(1, n_epochs + 1):\n",
    "        \n",
    "        # クエリごとの訓練\n",
    "        batch_loss = 0\n",
    "        batch_ndcg1 = 0\n",
    "        batch_ndcg5 = 0\n",
    "        for _,batch_ranking,label in train:\n",
    "            batch_loss += model.forward(batch_ranking=batch_ranking, label=label)\n",
    "            #print(compute_ndcg(batch_ranking,label,5))\n",
    "            batch_ndcg1 += compute_ndcg(model,batch_ranking,label,1)\n",
    "            batch_ndcg5 += compute_ndcg(model,batch_ranking,label,5)\n",
    "                    \n",
    "        fold_loss_mean = batch_loss / len(train)\n",
    "        fold_ndcg1_mean = batch_ndcg1 / len(train)\n",
    "        fold_ndcg5_mean = batch_ndcg5 / len(train)\n",
    "        \n",
    "        ndcg1.append(fold_ndcg1_mean)\n",
    "        ndcg5.append(fold_ndcg5_mean)\n",
    "        \n",
    "        if epoch == 1 or epoch % 100 ==0:\n",
    "            print('epoch:{0}, loss:{1}, ndcg@1:{2}, ndcg@5:{3}'.format(epoch, fold_loss_mean, fold_ndcg1_mean, fold_ndcg5_mean))\n",
    "            \n",
    "        #print('epoch:{0}, loss:{1}, ndcg@1:{2}, ndcg@5:{3}'.format(epoch, fold_loss_mean, fold_ndcg1_mean, fold_ndcg5_mean))\n",
    "        \n",
    "        optimizer.zero_grad()\n",
    "        fold_loss_mean.backward()\n",
    "        optimizer.step()\n",
    "    \n",
    "    return [ndcg1, ndcg5]"
   ]
  },
  {
   "cell_type": "code",
   "execution_count": 25,
   "metadata": {},
   "outputs": [],
   "source": [
    "model = RankNet(layers)"
   ]
  },
  {
   "cell_type": "code",
   "execution_count": 26,
   "metadata": {},
   "outputs": [
    {
     "data": {
      "text/plain": "<All keys matched successfully>"
     },
     "execution_count": 26,
     "metadata": {},
     "output_type": "execute_result"
    }
   ],
   "source": [
    "# 学習前のパラメータの保存\n",
    "torch.save(model.state_dict(), 'weight.pth')\n",
    "\n",
    "# 学習前のパラメータの読み込みを行うとき\n",
    "param = torch.load('weight.pth')\n",
    "model.load_state_dict(param)"
   ]
  },
  {
   "cell_type": "code",
   "execution_count": 27,
   "metadata": {},
   "outputs": [],
   "source": [
    "data_list = [s1,s2,s3,s4,s5]"
   ]
  },
  {
   "cell_type": "code",
   "execution_count": 28,
   "metadata": {},
   "outputs": [],
   "source": [
    "## パラメータを保存する文字列\n",
    "# 文書1つ\n",
    "param1=[\"param11.pth\",\"param12.pth\",\"param13.pth\",\"param14.pth\",\"param15.pth\"]\n",
    "# 文書2つ\n",
    "param2=[\"param21.pth\",\"param22.pth\",\"param23.pth\",\"param24.pth\",\"param25.pth\"]\n",
    "# 文書3つ\n",
    "param3=[\"param31.pth\",\"param32.pth\",\"param33.pth\",\"param34.pth\",\"param35.pth\"]\n",
    "# 文書4つ\n",
    "param4=[\"param41.pth\",\"param42.pth\",\"param43.pth\",\"param44.pth\",\"param45.pth\"]"
   ]
  },
  {
   "cell_type": "code",
   "execution_count": 29,
   "metadata": {},
   "outputs": [],
   "source": [
    "# パラメータのリスト\n",
    "param_list=[param1,param2, param3, param4]"
   ]
  },
  {
   "cell_type": "code",
   "execution_count": 14,
   "metadata": {},
   "outputs": [],
   "source": [
    "# ndcgの保存\n",
    "set1_train_ndcg1=[]\n",
    "set2_train_ndcg1=[]\n",
    "set3_train_ndcg1=[]\n",
    "set4_train_ndcg1=[]\n",
    "\n",
    "set1_train_ndcg5=[]\n",
    "set2_train_ndcg5=[]\n",
    "set3_train_ndcg5=[]\n",
    "set4_train_ndcg5=[]\n",
    "\n",
    "set1_test_ndcg1=[]\n",
    "set2_test_ndcg1=[]\n",
    "set3_test_ndcg1=[]\n",
    "set4_test_ndcg1=[]\n",
    "\n",
    "set1_test_ndcg5=[]\n",
    "set2_test_ndcg5=[]\n",
    "set3_test_ndcg5=[]\n",
    "set4_test_ndcg5=[]\n"
   ]
  },
  {
   "cell_type": "code",
   "execution_count": 15,
   "metadata": {},
   "outputs": [],
   "source": [
    "train_fold_ndcg1=[set1_train_ndcg1,set2_train_ndcg1,set3_train_ndcg1=[],set4_train_ndcg1]\n",
    "train_fold_ndcg5=[set1_train_ndcg5,set2_train_ndcg5,set3_train_ndcg5=[],set4_train_ndcg5]\n",
    "\n",
    "test_fold_ndcg1=[set1_test_ndcg1,set2_test_ndcg1,set3_test_ndcg1=[],set4_test_ndcg1]\n",
    "test_fold_ndcg5=[set1_test_ndcg5,set2_test_ndcg5,set3_test_ndcg5=[],set4_test_ndcg5]"
   ]
  },
  {
   "cell_type": "code",
   "execution_count": 16,
   "metadata": {},
   "outputs": [
    {
     "name": "stdout",
     "output_type": "stream",
     "text": [
      "\n",
      "\n",
      " 文書1つ\n",
      "fold : 1\n",
      "epoch:1, loss:0.3381262719631195, ndcg@1:0.1976400762796402, ndcg@5:0.205946147441864\n",
      "epoch:100, loss:0.3381156325340271, ndcg@1:0.1937069445848465, ndcg@5:0.2110404372215271\n",
      "epoch:200, loss:0.3381038308143616, ndcg@1:0.19665680825710297, ndcg@5:0.21388818323612213\n",
      "epoch:300, loss:0.3380911648273468, ndcg@1:0.19960665702819824, ndcg@5:0.22063401341438293\n",
      "epoch:400, loss:0.33807772397994995, ndcg@1:0.21632254123687744, ndcg@5:0.2315981239080429\n",
      "epoch:500, loss:0.338063508272171, ndcg@1:0.22418881952762604, ndcg@5:0.24107973277568817\n",
      "tensor(0.1954)\n",
      "tensor(0.2273)\n",
      "fold : 2\n",
      "epoch:1, loss:0.3380703330039978, ndcg@1:0.1636904776096344, ndcg@5:0.2070273458957672\n",
      "epoch:100, loss:0.3380602300167084, ndcg@1:0.167658731341362, ndcg@5:0.2079751193523407\n",
      "epoch:200, loss:0.33804965019226074, ndcg@1:0.18353171646595, ndcg@5:0.21635806560516357\n",
      "epoch:300, loss:0.33803868293762207, ndcg@1:0.1954365074634552, ndcg@5:0.22160761058330536\n",
      "epoch:400, loss:0.3380277752876282, ndcg@1:0.1964285522699356, ndcg@5:0.22612039744853973\n",
      "epoch:500, loss:0.3380163311958313, ndcg@1:0.1904761791229248, ndcg@5:0.2292235642671585\n",
      "tensor(0.2439)\n",
      "tensor(0.2587)\n",
      "fold : 3\n",
      "epoch:1, loss:0.3379586935043335, ndcg@1:0.1819075345993042, ndcg@5:0.21611815690994263\n",
      "epoch:100, loss:0.33794742822647095, ndcg@1:0.19075709581375122, ndcg@5:0.22264470160007477\n",
      "epoch:200, loss:0.33793550729751587, ndcg@1:0.20943954586982727, ndcg@5:0.23432397842407227\n",
      "epoch:300, loss:0.3379233479499817, ndcg@1:0.22615540027618408, ndcg@5:0.2439567744731903\n",
      "epoch:400, loss:0.3379109501838684, ndcg@1:0.22910524904727936, ndcg@5:0.2510603368282318\n",
      "epoch:500, loss:0.33789730072021484, ndcg@1:0.23402166366577148, ndcg@5:0.25757643580436707\n",
      "tensor(0.1917)\n",
      "tensor(0.2266)\n",
      "fold : 4\n",
      "epoch:1, loss:0.33795106410980225, ndcg@1:0.18092426657676697, ndcg@5:0.19931286573410034\n",
      "epoch:100, loss:0.3379397690296173, ndcg@1:0.18092426657676697, ndcg@5:0.20095865428447723\n",
      "epoch:200, loss:0.3379284739494324, ndcg@1:0.19075709581375122, ndcg@5:0.20748530328273773\n",
      "epoch:300, loss:0.33791694045066833, ndcg@1:0.19665680825710297, ndcg@5:0.2153904289007187\n",
      "epoch:400, loss:0.3379051387310028, ndcg@1:0.1976400762796402, ndcg@5:0.21925875544548035\n",
      "epoch:500, loss:0.33789199590682983, ndcg@1:0.19174039363861084, ndcg@5:0.2244664430618286\n",
      "tensor(0.2094)\n",
      "tensor(0.2258)\n",
      "fold : 5\n",
      "epoch:1, loss:0.33807340264320374, ndcg@1:0.16322515904903412, ndcg@5:0.1945764124393463\n",
      "epoch:100, loss:0.3380606174468994, ndcg@1:0.17994098365306854, ndcg@5:0.20415030419826508\n",
      "epoch:200, loss:0.3380472958087921, ndcg@1:0.19567354023456573, ndcg@5:0.20994549989700317\n",
      "epoch:300, loss:0.3380339443683624, ndcg@1:0.198623389005661, ndcg@5:0.21623829007148743\n",
      "epoch:400, loss:0.3380195200443268, ndcg@1:0.2064896523952484, ndcg@5:0.221530944108963\n",
      "epoch:500, loss:0.3380042314529419, ndcg@1:0.21730579435825348, ndcg@5:0.23282776772975922\n",
      "tensor(0.2301)\n",
      "tensor(0.2422)\n",
      "\n",
      "\n",
      " 文書2つ\n",
      "fold : 1\n",
      "epoch:1, loss:0.3380996584892273, ndcg@1:0.18043267726898193, ndcg@5:0.20026123523712158\n",
      "epoch:100, loss:0.33808839321136475, ndcg@1:0.1868240386247635, ndcg@5:0.2076837718486786\n",
      "epoch:200, loss:0.338076114654541, ndcg@1:0.19764013588428497, ndcg@5:0.21271708607673645\n",
      "epoch:300, loss:0.33806297183036804, ndcg@1:0.1991150826215744, ndcg@5:0.21933485567569733\n",
      "epoch:400, loss:0.33804938197135925, ndcg@1:0.21091444790363312, ndcg@5:0.22681598365306854\n",
      "epoch:500, loss:0.33803486824035645, ndcg@1:0.22173058986663818, ndcg@5:0.23615829646587372\n",
      "tensor(0.1954)\n",
      "tensor(0.2274)\n",
      "fold : 2\n",
      "epoch:1, loss:0.3380979299545288, ndcg@1:0.18074080348014832, ndcg@5:0.20648442208766937\n",
      "epoch:100, loss:0.3380877375602722, ndcg@1:0.18123462796211243, ndcg@5:0.20938487350940704\n",
      "epoch:200, loss:0.3380766808986664, ndcg@1:0.19209881126880646, ndcg@5:0.21485835313796997\n",
      "epoch:300, loss:0.33806535601615906, ndcg@1:0.19703708589076996, ndcg@5:0.21984533965587616\n",
      "epoch:400, loss:0.3380533456802368, ndcg@1:0.20098766684532166, ndcg@5:0.22878918051719666\n",
      "epoch:500, loss:0.3380407989025116, ndcg@1:0.20493826270103455, ndcg@5:0.2336857169866562\n",
      "tensor(0.2301)\n",
      "tensor(0.2548)\n",
      "fold : 3\n",
      "epoch:1, loss:0.33801403641700745, ndcg@1:0.17283950746059418, ndcg@5:0.2115928828716278\n",
      "epoch:100, loss:0.33800360560417175, ndcg@1:0.17827163636684418, ndcg@5:0.21604210138320923\n",
      "epoch:200, loss:0.33799275755882263, ndcg@1:0.19308646023273468, ndcg@5:0.22566062211990356\n",
      "epoch:300, loss:0.33798137307167053, ndcg@1:0.20543213188648224, ndcg@5:0.2313293069601059\n",
      "epoch:400, loss:0.3379698693752289, ndcg@1:0.20938275754451752, ndcg@5:0.2381700724363327\n",
      "epoch:500, loss:0.33795759081840515, ndcg@1:0.21975310146808624, ndcg@5:0.24764035642147064\n",
      "tensor(0.1957)\n",
      "tensor(0.2263)\n",
      "fold : 4\n",
      "epoch:1, loss:0.3379543721675873, ndcg@1:0.18141598999500275, ndcg@5:0.20771543681621552\n",
      "epoch:100, loss:0.33794355392456055, ndcg@1:0.18436585366725922, ndcg@5:0.21211019158363342\n",
      "epoch:200, loss:0.3379323184490204, ndcg@1:0.19764013588428497, ndcg@5:0.22010278701782227\n",
      "epoch:300, loss:0.33792054653167725, ndcg@1:0.2138643115758896, ndcg@5:0.22941136360168457\n",
      "epoch:400, loss:0.33790895342826843, ndcg@1:0.21533922851085663, ndcg@5:0.23475788533687592\n",
      "epoch:500, loss:0.3378955125808716, ndcg@1:0.21533921360969543, ndcg@5:0.24345456063747406\n",
      "tensor(0.2134)\n",
      "tensor(0.2249)\n",
      "fold : 5\n",
      "epoch:1, loss:0.3380117118358612, ndcg@1:0.17207477986812592, ndcg@5:0.19694460928440094\n",
      "epoch:100, loss:0.33800026774406433, ndcg@1:0.18043270707130432, ndcg@5:0.20255562663078308\n",
      "epoch:200, loss:0.3379879593849182, ndcg@1:0.1917404979467392, ndcg@5:0.2073318362236023\n",
      "epoch:300, loss:0.33797577023506165, ndcg@1:0.19714853167533875, ndcg@5:0.21540307998657227\n",
      "epoch:400, loss:0.33796292543411255, ndcg@1:0.20255659520626068, ndcg@5:0.21997137367725372\n",
      "epoch:500, loss:0.337948739528656, ndcg@1:0.20206494629383087, ndcg@5:0.22706666588783264\n",
      "tensor(0.2301)\n",
      "tensor(0.2417)\n",
      "\n",
      "\n",
      " 文書4つ\n",
      "fold : 1\n",
      "epoch:1, loss:0.3380278944969177, ndcg@1:0.1809241771697998, ndcg@5:0.20398826897144318\n",
      "epoch:100, loss:0.3380165994167328, ndcg@1:0.18706968426704407, ndcg@5:0.2099732905626297\n",
      "epoch:200, loss:0.33800503611564636, ndcg@1:0.196656733751297, ndcg@5:0.21708309650421143\n",
      "epoch:300, loss:0.3379928171634674, ndcg@1:0.20845618844032288, ndcg@5:0.2242763638496399\n",
      "epoch:400, loss:0.33798012137413025, ndcg@1:0.21435587108135223, ndcg@5:0.2308294177055359\n",
      "epoch:500, loss:0.33796653151512146, ndcg@1:0.21607665717601776, ndcg@5:0.23722781240940094\n",
      "tensor(0.1974)\n",
      "tensor(0.2287)\n",
      "fold : 2\n",
      "epoch:1, loss:0.33805567026138306, ndcg@1:0.17639802396297455, ndcg@5:0.2017040252685547\n",
      "epoch:100, loss:0.3380443751811981, ndcg@1:0.1808326244354248, ndcg@5:0.2059958577156067\n",
      "epoch:200, loss:0.3380328118801117, ndcg@1:0.1926581710577011, ndcg@5:0.2120993286371231\n",
      "epoch:300, loss:0.33802133798599243, ndcg@1:0.19709275662899017, ndcg@5:0.2180154174566269\n",
      "epoch:400, loss:0.3380087912082672, ndcg@1:0.20251281559467316, ndcg@5:0.2246234267950058\n",
      "epoch:500, loss:0.3379952907562256, ndcg@1:0.20719380676746368, ndcg@5:0.2314240038394928\n",
      "tensor(0.2291)\n",
      "tensor(0.2557)\n",
      "fold : 3\n",
      "epoch:1, loss:0.33805760741233826, ndcg@1:0.17664436995983124, ndcg@5:0.20591464638710022\n",
      "epoch:100, loss:0.3380465507507324, ndcg@1:0.18452809751033783, ndcg@5:0.21187624335289001\n",
      "epoch:200, loss:0.33803510665893555, ndcg@1:0.19610732793807983, ndcg@5:0.220107302069664\n",
      "epoch:300, loss:0.3380233347415924, ndcg@1:0.20842565596103668, ndcg@5:0.22500936686992645\n",
      "epoch:400, loss:0.33801111578941345, ndcg@1:0.2121211737394333, ndcg@5:0.23225079476833344\n",
      "epoch:500, loss:0.33799758553504944, ndcg@1:0.21704848110675812, ndcg@5:0.23939363658428192\n",
      "tensor(0.1898)\n",
      "tensor(0.2254)\n",
      "fold : 4\n",
      "epoch:1, loss:0.33802661299705505, ndcg@1:0.18107901513576508, ndcg@5:0.20710137486457825\n",
      "epoch:100, loss:0.33801624178886414, ndcg@1:0.18502086400985718, ndcg@5:0.2111479938030243\n",
      "epoch:200, loss:0.33800509572029114, ndcg@1:0.1951218843460083, ndcg@5:0.2183418869972229\n",
      "epoch:300, loss:0.33799365162849426, ndcg@1:0.20867204666137695, ndcg@5:0.22561971843242645\n",
      "epoch:400, loss:0.3379822373390198, ndcg@1:0.2145848423242569, ndcg@5:0.23202896118164062\n",
      "epoch:500, loss:0.33796951174736023, ndcg@1:0.21039660274982452, ndcg@5:0.23858024179935455\n",
      "tensor(0.2104)\n",
      "tensor(0.2270)\n",
      "fold : 5\n",
      "epoch:1, loss:0.338013231754303, ndcg@1:0.17245618999004364, ndcg@5:0.204252690076828\n",
      "epoch:100, loss:0.3380028307437897, ndcg@1:0.17910805344581604, ndcg@5:0.2087232917547226\n",
      "epoch:200, loss:0.33799120783805847, ndcg@1:0.19093364477157593, ndcg@5:0.21675097942352295\n",
      "epoch:300, loss:0.3379795253276825, ndcg@1:0.20522290468215942, ndcg@5:0.2236483097076416\n",
      "epoch:400, loss:0.3379674255847931, ndcg@1:0.20768657326698303, ndcg@5:0.2284046709537506\n",
      "epoch:500, loss:0.33795440196990967, ndcg@1:0.20891845226287842, ndcg@5:0.23543445765972137\n",
      "tensor(0.2242)\n",
      "tensor(0.2407)\n"
     ]
    }
   ],
   "source": [
    "# 平均をとるという実験\n",
    "for i in range(3):\n",
    "\n",
    "    sentence = \"文書1つ\" if i==0 else \"文書2つ\" if i ==1 else \"文書4つ\"\n",
    "    print(\"\\n\\n\", sentence)\n",
    "\n",
    "    for k in range(5):\n",
    "\n",
    "        print(\"fold :\", k+1)\n",
    "\n",
    "        # 学習前のモデルを使う\n",
    "        param = torch.load('weight.pth')\n",
    "        model.load_state_dict(param)\n",
    "        \n",
    "        # 学習を行う\n",
    "        ndcg1, ndcg5 = training_loop(\n",
    "            # epoch\n",
    "            n_epochs = 500,\n",
    "            optimizer = torch.optim.SGD(model.parameters(),lr = 0.01),\n",
    "            model = model,\n",
    "            train = data_list[0] if i==0 else data_list[0]+data_list[1] if i==1 else data_list[0]+data_list[1]+data_list[2]+data_list[3]\n",
    "            )\n",
    "\n",
    "        # パラメータの保存\n",
    "        torch.save(model.state_dict(), param_list[i][k])\n",
    "\n",
    "        # テスト\n",
    "        test_ndcg1=testing(model, data_list[4], 1)\n",
    "        test_ndcg5=testing(model, data_list[4], 5)\n",
    "\n",
    "        print(test_ndcg1)\n",
    "        print(test_ndcg5)\n",
    "\n",
    "        # リストに追加\n",
    "        train_fold_ndcg1[i].append(ndcg1)\n",
    "        train_fold_ndcg5[i].append(ndcg5)\n",
    "        \n",
    "        test_fold_ndcg1[i].append(test_ndcg1)\n",
    "        test_fold_ndcg5[i].append(test_ndcg5)\n",
    "        \n",
    "        data_list.insert(0,data_list.pop())\n"
   ]
  },
  {
   "cell_type": "code",
   "execution_count": 72,
   "metadata": {},
   "outputs": [
    {
     "name": "stdout",
     "output_type": "stream",
     "text": [
      "1\n",
      "2\n",
      "3\n"
     ]
    }
   ],
   "source": [
    "# 代入式のネスト\n",
    "for i in range(3):\n",
    "    a = 1 if i==0 else 2 if i==1 else 3\n",
    "    print(a) "
   ]
  },
  {
   "cell_type": "markdown",
   "metadata": {},
   "source": [
    "Averaging Model Updates"
   ]
  },
  {
   "cell_type": "code",
   "execution_count": 17,
   "metadata": {},
   "outputs": [],
   "source": [
    "from collections import OrderedDict"
   ]
  },
  {
   "cell_type": "code",
   "execution_count": 20,
   "metadata": {},
   "outputs": [
    {
     "data": {
      "text/plain": "tensor([[ 0.0780,  0.0721, -0.0587,  ..., -0.0273,  0.0026,  0.0430],\n        [-0.0727, -0.0990,  0.1205,  ..., -0.1385,  0.1268, -0.0872],\n        [ 0.1146, -0.0758, -0.1466,  ...,  0.0323,  0.0635,  0.0127],\n        ...,\n        [ 0.1059,  0.0947,  0.0722,  ..., -0.1110,  0.0156, -0.0548],\n        [-0.0656,  0.1345, -0.0053,  ..., -0.0700, -0.1383, -0.0026],\n        [ 0.0469,  0.0656,  0.0833,  ...,  0.1292, -0.0364, -0.1149]])"
     },
     "execution_count": 20,
     "metadata": {},
     "output_type": "execute_result"
    }
   ],
   "source": [
    "# パラメータの読み込みを行うとき\n",
    "param = torch.load('param11.pth')\n",
    "param['model.0.weight']"
   ]
  },
  {
   "cell_type": "code",
   "execution_count": 53,
   "metadata": {},
   "outputs": [],
   "source": [
    "# 空の容器を作る\n",
    "avg_updates = OrderedDict()"
   ]
  },
  {
   "cell_type": "code",
   "execution_count": 22,
   "metadata": {},
   "outputs": [],
   "source": [
    "# fed  modelの作成\n",
    "def fed_avg(param1, param2):\n",
    "    \n",
    "    avg_updates = OrderedDict()\n",
    "\n",
    "\n",
    "    avg_updates[\"model.0.weight\"] = (\n",
    "        param1[\"model.0.weight\"] + param2[\"model.0.weight\"]\n",
    "    ) / 2\n",
    "\n",
    "    avg_updates[\"model.0.bias\"] = (\n",
    "        param1[\"model.0.bias\"] + param2[\"model.0.bias\"]\n",
    "    ) / 2\n",
    "\n",
    "    avg_updates[\"model.2.weight\"] = (\n",
    "        param1[\"model.2.weight\"] + param2[\"model.2.weight\"]\n",
    "    ) / 2\n",
    "\n",
    "    avg_updates[\"model.2.bias\"] = (\n",
    "        param1[\"model.2.bias\"] + param2[\"model.2.bias\"]\n",
    "    ) / 2\n",
    "\n",
    "    avg_updates[\"model.4.weight\"] = (\n",
    "        param1[\"model.4.weight\"] + param2[\"model.4.weight\"]\n",
    "    ) / 2\n",
    "\n",
    "    avg_updates[\"model.4.bias\"] = (\n",
    "        param1[\"model.4.bias\"] + param2[\"model.4.bias\"]\n",
    "    ) / 2\n",
    "\n",
    "    avg_updates[\"model.6.weight\"] = (\n",
    "        param1[\"model.6.weight\"] + param2[\"model.6.weight\"]\n",
    "    ) / 2\n",
    "\n",
    "    avg_updates[\"model.6.bias\"] = (\n",
    "        param1[\"model.6.bias\"] + param2[\"model.6.bias\"]\n",
    "    ) / 2\n",
    "\n",
    "    return avg_updates"
   ]
  },
  {
   "cell_type": "code",
   "execution_count": null,
   "metadata": {},
   "outputs": [],
   "source": [
    "param11=torch.load('param11.pth')\n",
    "param12=torch.load('param12.pth')\n",
    "\n",
    "fed_avg(param11,param12)"
   ]
  },
  {
   "cell_type": "code",
   "execution_count": 38,
   "metadata": {},
   "outputs": [
    {
     "data": {
      "text/plain": "['param21.pth', 'param22.pth', 'param23.pth', 'param24.pth', 'param25.pth']"
     },
     "execution_count": 38,
     "metadata": {},
     "output_type": "execute_result"
    }
   ],
   "source": [
    "param2"
   ]
  },
  {
   "cell_type": "code",
   "execution_count": null,
   "metadata": {},
   "outputs": [],
   "source": [
    "\"fed2_12.pth\""
   ]
  },
  {
   "cell_type": "code",
   "execution_count": 41,
   "metadata": {},
   "outputs": [],
   "source": [
    "fed2=[\"fed2_12.pth\",\"fed2_23.pth\",\"fed2_34.pth\",\"fed2_45.pth\",\"fed2_51.pth\"]\n",
    "fed4=[\"fed4_12.pth\",\"fed4_23.pth\",\"fed4_34.pth\",\"fed4_45.pth\",\"fed4_51.pth\"]\n",
    "\n",
    "fed2_ndcg5=[]\n",
    "fed4_ndcg5=[]"
   ]
  },
  {
   "cell_type": "code",
   "execution_count": 44,
   "metadata": {},
   "outputs": [
    {
     "name": "stdout",
     "output_type": "stream",
     "text": [
      "tensor(0.2281)\n",
      "tensor(0.2574)\n",
      "tensor(0.2259)\n",
      "tensor(0.2252)\n",
      "tensor(0.2379)\n"
     ]
    }
   ],
   "source": [
    "# 1つの文書で学習したパラメータから2つ分のモデルを作る\n",
    "for i in range(5):\n",
    "    # federated model の パラメータ\n",
    "    p1 = torch.load(param1[0])\n",
    "    p2 = torch.load(param1[1])\n",
    "    \n",
    "    fed_param = fed_avg(p1,p2)\n",
    "\n",
    "    # modelの作成\n",
    "    model.load_state_dict(fed_param)\n",
    "\n",
    "    # test dataでndcgを計算\n",
    "    print(testing(model, data_list[4], 5))\n",
    "    fed2_ndcg5.append(testing(model, data_list[4], 5))\n",
    "\n",
    "    # パラメータの保存\n",
    "    torch.save(model.state_dict(), fed2[0])\n",
    "\n",
    "    param1.insert(0,param1.pop())\n",
    "    fed2.insert(0,fed2.pop())\n",
    "    data_list.insert(0,data_list.pop())\n",
    "    \n"
   ]
  },
  {
   "cell_type": "code",
   "execution_count": 42,
   "metadata": {},
   "outputs": [
    {
     "name": "stdout",
     "output_type": "stream",
     "text": [
      "tensor(0.2282)\n",
      "tensor(0.2580)\n",
      "tensor(0.2240)\n",
      "tensor(0.2273)\n",
      "tensor(0.2417)\n"
     ]
    }
   ],
   "source": [
    "# 2つの文書で学習したパラメータから4つの文書分のモデルを作る\n",
    "for i in range(5):\n",
    "    # federated model の パラメータ\n",
    "    p1 = torch.load(param2[0])\n",
    "    p2 = torch.load(param2[1])\n",
    "    \n",
    "    fed_param = fed_avg(p1,p2)\n",
    "\n",
    "    # modelの作成\n",
    "    model.load_state_dict(fed_param)\n",
    "\n",
    "    # test dataでndcgを計算\n",
    "    print(testing(model, data_list[4], 5))\n",
    "    fed4_ndcg5.append(testing(model, data_list[4], 5))\n",
    "\n",
    "    # パラメータの保存\n",
    "    torch.save(model.state_dict(), fed4[0])\n",
    "\n",
    "    param2.insert(0,param2.pop())\n",
    "    fed4.insert(0,fed4.pop())\n",
    "    data_list.insert(0,data_list.pop())"
   ]
  },
  {
   "cell_type": "code",
   "execution_count": 45,
   "metadata": {},
   "outputs": [
    {
     "name": "stdout",
     "output_type": "stream",
     "text": [
      "[tensor(0.2281), tensor(0.2574), tensor(0.2259), tensor(0.2252), tensor(0.2379)]\n",
      "[tensor(0.2282), tensor(0.2580), tensor(0.2240), tensor(0.2273), tensor(0.2417)]\n"
     ]
    }
   ],
   "source": [
    "print(fed2_ndcg5)\n",
    "print(fed4_ndcg5)"
   ]
  },
  {
   "cell_type": "code",
   "execution_count": 49,
   "metadata": {},
   "outputs": [
    {
     "name": "stdout",
     "output_type": "stream",
     "text": [
      "fed2, ndcg5 :  tensor(0.2349)\n",
      "fed4, ndcg5 :  tensor(0.2358)\n"
     ]
    }
   ],
   "source": [
    "print(\"fed2, ndcg5 : \", sum(fed2_ndcg5)/5)\n",
    "print(\"fed4, ndcg5 : \", sum(fed4_ndcg5)/5)"
   ]
  },
  {
   "cell_type": "code",
   "execution_count": 50,
   "metadata": {},
   "outputs": [
    {
     "name": "stdout",
     "output_type": "stream",
     "text": [
      "baseline2, ndcg5 :  tensor(0.2361)\n",
      "baseline4, ndcg5 :  tensor(0.2350)\n"
     ]
    }
   ],
   "source": [
    "print(\"baseline2, ndcg5 : \", sum(set1_test_ndcg5)/5)\n",
    "print(\"baseline4, ndcg5 : \", sum(set2_test_ndcg5)/5)"
   ]
  },
  {
   "cell_type": "code",
   "execution_count": 58,
   "metadata": {},
   "outputs": [],
   "source": [
    "# fed\n",
    "fed_set1_all=[]\n",
    "for i in range(5):\n",
    "\n",
    "    fed_set1=[]\n",
    "    for j in range(500):\n",
    "        fed_set1.append((set1_train_ndcg5[0][j]+set1_train_ndcg5[1][j])/2)\n",
    "        \n",
    "    fed_set1_all.append(fed_set1)\n",
    "    set1_train_ndcg5.insert(0,set1_train_ndcg5.pop())"
   ]
  },
  {
   "cell_type": "code",
   "execution_count": 59,
   "metadata": {},
   "outputs": [],
   "source": [
    "fed_set1_all_mean=[]\n",
    "for i in range(500):\n",
    "    fed_set1_all_mean.append((fed_set1_all[0][i]+fed_set1_all[1][i]+fed_set1_all[2][i]+fed_set1_all[3][i]+fed_set1_all[4][i])/5)"
   ]
  },
  {
   "cell_type": "code",
   "execution_count": 62,
   "metadata": {},
   "outputs": [],
   "source": [
    "set2_mean = []\n",
    "for i in range(500):\n",
    "    set2_mean.append((set2_train_ndcg5[0][i]+set2_train_ndcg5[1][i]+set2_train_ndcg5[2][i]+set2_train_ndcg5[3][i]+set2_train_ndcg5[4][i])/5)"
   ]
  },
  {
   "cell_type": "code",
   "execution_count": 64,
   "metadata": {},
   "outputs": [
    {
     "data": {
      "image/png": "[encoded data removed]",
      "text/plain": "<Figure size 432x288 with 1 Axes>"
     },
     "metadata": {
      "needs_background": "light",
      "transient": {}
     },
     "output_type": "display_data"
    }
   ],
   "source": [
    "\"\"\"複数のグラフを重ねて描画するプログラム\"\"\"\n",
    "import numpy as np\n",
    "import matplotlib.pyplot as plt\n",
    "\n",
    "fig, ax = plt.subplots()\n",
    "\n",
    "t = range(500)\n",
    "y1 = set2_mean\n",
    "y2 = fed_set1_all_mean\n",
    "\n",
    "c1,c2 = \"green\",\"red\"     # 各プロットの色\n",
    "l1,l2 = \"baseline model\",\"federated model\"   # 各ラベル\n",
    "\n",
    "ax.set_xlabel('epoch')  # x軸ラベル\n",
    "ax.set_ylabel('ndcg@5')  # y軸ラベル\n",
    "#ax.set_title(r'$\\sin(x)$ and $\\cos(x)$') # グラフタイトル\n",
    "# ax.set_aspect('equal') # スケールを揃える\n",
    "ax.grid()            # 罫線\n",
    "#ax.set_xlim([-10, 10]) # x方向の描画範囲を指定\n",
    "#ax.set_ylim([0, 1])    # y方向の描画範囲を指定\n",
    "ax.plot(t, y1, color=c1, label=l1)\n",
    "ax.plot(t, y2, color=c2, label=l2)\n",
    "#ax.plot(t, y3, color=c3, label=l3)\n",
    "#ax.plot(t, y4, color=c4, label=l4)\n",
    "ax.legend(loc=0)    # 凡例\n",
    "fig.tight_layout()  # レイアウトの設定\n",
    "plt.savefig('doc2.png') # 画像の保存\n",
    "plt.show()"
   ]
  },
  {
   "cell_type": "code",
   "execution_count": 129,
   "metadata": {},
   "outputs": [
    {
     "name": "stdout",
     "output_type": "stream",
     "text": [
      "tensor(0.3284)\n",
      "tensor(0.3458)\n"
     ]
    }
   ],
   "source": [
    "#fed\n",
    "print(testing(combined_model, s5, 1))\n",
    "print(testing(combined_model, s5, 5))"
   ]
  },
  {
   "cell_type": "code",
   "execution_count": 131,
   "metadata": {},
   "outputs": [
    {
     "name": "stdout",
     "output_type": "stream",
     "text": [
      "tensor(0.2579)\n",
      "tensor(0.2892)\n"
     ]
    }
   ],
   "source": [
    "# classic\n",
    "print(testing(classical_model, s5, 1))\n",
    "print(testing(classical_model, s5, 5))"
   ]
  },
  {
   "cell_type": "code",
   "execution_count": null,
   "metadata": {},
   "outputs": [],
   "source": [
    "set1_test_ndcg5\n",
    "set2_test_ndcg5"
   ]
  },
  {
   "cell_type": "markdown",
   "metadata": {},
   "source": [
    "---"
   ]
  },
  {
   "cell_type": "code",
   "execution_count": null,
   "metadata": {},
   "outputs": [],
   "source": [
    "data_list=[fold1,fold2]"
   ]
  },
  {
   "cell_type": "code",
   "execution_count": 7,
   "metadata": {},
   "outputs": [],
   "source": [
    "def training_loop(n_epochs,optimizer,model,data_list):\n",
    "    count = 0\n",
    "    best_ndcg = 0\n",
    "    \n",
    "    while count < len(data_list):\n",
    "        # 最初の3つをtrainに\n",
    "        train = data_list[0]+data_list[1]+data_list[2]\n",
    "        # 1つをvalidationに\n",
    "        val = data_list[3]\n",
    "        # 最後をtestに\n",
    "        test = data_list[4]\n",
    "        \n",
    "        # モデルの訓練\n",
    "        for epoch in range(1, n_epochs + 1):\n",
    "        \n",
    "            # クエリごとの訓練\n",
    "            batch_loss = 0\n",
    "            batch_ndcg = 0\n",
    "            for _,batch_ranking,label in train:\n",
    "                batch_loss += model.forward(batch_ranking=batch_ranking, label=label)\n",
    "                #print(compute_ndcg(batch_ranking,label,5))\n",
    "                batch_ndcg += compute_ndcg(batch_ranking,label,5)\n",
    "                    \n",
    "            fold_loss_mean = batch_loss / (len(data_list[0])+len(data_list[1])+len(data_list[2]))\n",
    "            fold_ndcg_mean = batch_ndcg / (len(data_list[0])+len(data_list[1])+len(data_list[2]))\n",
    "            \n",
    "            if epoch ==1 or epoch%10==0:\n",
    "                print('epoch:{0}, loss:{1}, ndcg:{2}'.format(epoch, fold_loss_mean, fold_ndcg_mean))\n",
    "            \n",
    "            # パラメータ選択\n",
    "            val_loss = 0\n",
    "            val_ndcg = 0\n",
    "            for _,batch_ranking,label in val:\n",
    "                val_loss += model.forward(batch_ranking=batch_ranking, label=label)\n",
    "                val_ndcg += compute_ndcg(batch_ranking,label,5)\n",
    "                \n",
    "            val_loss_mean = val_loss / len(val)\n",
    "            val_ndcg_mean = val_ndcg / len(val)    \n",
    "                \n",
    "            if val_ndcg_mean > best_ndcg:\n",
    "                best_ndcg = val_ndcg_mean\n",
    "            \n",
    "                # 訓練したモデルの保存\n",
    "                torch.save(model.state_dict(), 'weight.pth')\n",
    "            \n",
    "            optimizer.zero_grad()\n",
    "            fold_loss_mean.backward()\n",
    "            optimizer.step()\n",
    "            \n",
    "        # パラメータの読み込み\n",
    "        param = torch.load('weight.pth')\n",
    "        model.load_state_dict(param)\n",
    "        \n",
    "        #test\n",
    "        test_ndcg = testing(test)\n",
    "        \n",
    "        print('test:{0}'.format(test_ndcg))\n",
    "        \n",
    "        #　右にひとつシフト ([1,2,3,4,5] -> [5,1,2,3,4]となる)\n",
    "        data_list.insert(0,data_list.pop())\n",
    "        \n",
    "#         if epoch%10==0:\n",
    "#             print(\"epoch: \", epoch, \"loss: \", epoch_loss, \"ndcg: \", epoch_ndcg)\n",
    "        count += 1"
   ]
  },
  {
   "cell_type": "code",
   "execution_count": 8,
   "metadata": {},
   "outputs": [],
   "source": [
    "data_list = [fold1,fold2,fold3,fold4,fold5]"
   ]
  },
  {
   "cell_type": "code",
   "execution_count": 17,
   "metadata": {},
   "outputs": [],
   "source": [
    "# クラスのインスタンス化\n",
    "model = RankNet(layers)"
   ]
  },
  {
   "cell_type": "code",
   "execution_count": 10,
   "metadata": {},
   "outputs": [
    {
     "name": "stdout",
     "output_type": "stream",
     "text": [
      "epoch:1, loss:0.33804816007614136, ndcg:0.2129535973072052\n",
      "epoch:10, loss:0.3380464017391205, ndcg:0.21400970220565796\n",
      "epoch:20, loss:0.33804401755332947, ndcg:0.21507927775382996\n",
      "epoch:30, loss:0.3380418121814728, ndcg:0.21627427637577057\n",
      "epoch:40, loss:0.33803996443748474, ndcg:0.218105748295784\n",
      "epoch:50, loss:0.33803796768188477, ndcg:0.21888558566570282\n",
      "epoch:60, loss:0.33803579211235046, ndcg:0.2204192578792572\n",
      "epoch:70, loss:0.3380337357521057, ndcg:0.22214770317077637\n",
      "epoch:80, loss:0.3380317687988281, ndcg:0.2235986590385437\n",
      "epoch:90, loss:0.338029682636261, ndcg:0.224581778049469\n",
      "epoch:100, loss:0.33802759647369385, ndcg:0.225375235080719\n",
      "test:0.2294071763753891\n",
      "epoch:1, loss:0.33805733919143677, ndcg:0.23191629350185394\n",
      "epoch:10, loss:0.3380555808544159, ndcg:0.2341095507144928\n",
      "epoch:20, loss:0.3380531668663025, ndcg:0.2361796349287033\n",
      "epoch:30, loss:0.33805134892463684, ndcg:0.23738986253738403\n",
      "epoch:40, loss:0.33804914355278015, ndcg:0.23919181525707245\n",
      "epoch:50, loss:0.3380470871925354, ndcg:0.24046093225479126\n",
      "epoch:60, loss:0.33804506063461304, ndcg:0.2423636019229889\n",
      "epoch:70, loss:0.3380430340766907, ndcg:0.2442573755979538\n",
      "epoch:80, loss:0.33804064989089966, ndcg:0.2457537055015564\n",
      "epoch:90, loss:0.33803871273994446, ndcg:0.24691550433635712\n",
      "epoch:100, loss:0.3380364179611206, ndcg:0.24839863181114197\n",
      "test:0.2208268642425537\n",
      "epoch:1, loss:0.33803388476371765, ndcg:0.22798480093479156\n",
      "epoch:10, loss:0.3380318582057953, ndcg:0.22995759546756744\n",
      "epoch:20, loss:0.33802998065948486, ndcg:0.23174148797988892\n",
      "epoch:30, loss:0.33802780508995056, ndcg:0.2331756055355072\n",
      "epoch:40, loss:0.3380261957645416, ndcg:0.2351100593805313\n",
      "epoch:50, loss:0.338023841381073, ndcg:0.23591168224811554\n",
      "epoch:60, loss:0.3380216956138611, ndcg:0.2377420961856842\n",
      "epoch:70, loss:0.3380197286605835, ndcg:0.2402326464653015\n",
      "epoch:80, loss:0.3380175828933716, ndcg:0.24133852124214172\n",
      "epoch:90, loss:0.33801570534706116, ndcg:0.2422952800989151\n",
      "epoch:100, loss:0.3380136787891388, ndcg:0.24327130615711212\n",
      "test:0.22020430862903595\n",
      "epoch:1, loss:0.33795955777168274, ndcg:0.23330236971378326\n",
      "epoch:10, loss:0.3379577100276947, ndcg:0.23382583260536194\n",
      "epoch:20, loss:0.3379558324813843, ndcg:0.2354578971862793\n",
      "epoch:30, loss:0.3379538357257843, ndcg:0.23802784085273743\n",
      "epoch:40, loss:0.3379518985748291, ndcg:0.23849588632583618\n",
      "epoch:50, loss:0.33794987201690674, ndcg:0.23984582722187042\n",
      "epoch:60, loss:0.3379480540752411, ndcg:0.24074816703796387\n",
      "epoch:70, loss:0.3379460573196411, ndcg:0.24221467971801758\n",
      "epoch:80, loss:0.33794426918029785, ndcg:0.24286481738090515\n",
      "epoch:90, loss:0.3379421532154083, ndcg:0.2439768761396408\n",
      "epoch:100, loss:0.3379400670528412, ndcg:0.2454364001750946\n",
      "test:0.25657203793525696\n",
      "epoch:1, loss:0.33794286847114563, ndcg:0.24435967206954956\n",
      "epoch:10, loss:0.33794084191322327, ndcg:0.2449781745672226\n",
      "epoch:20, loss:0.33793890476226807, ndcg:0.24533309042453766\n",
      "epoch:30, loss:0.33793705701828003, ndcg:0.24635052680969238\n",
      "epoch:40, loss:0.33793479204177856, ndcg:0.24617208540439606\n",
      "epoch:50, loss:0.33793288469314575, ndcg:0.24755524098873138\n",
      "epoch:60, loss:0.33793091773986816, ndcg:0.24845951795578003\n",
      "epoch:70, loss:0.33792880177497864, ndcg:0.24956676363945007\n",
      "epoch:80, loss:0.3379268944263458, ndcg:0.2510477900505066\n",
      "epoch:90, loss:0.33792462944984436, ndcg:0.2517324984073639\n",
      "epoch:100, loss:0.33792269229888916, ndcg:0.2523496448993683\n",
      "test:0.27562037110328674\n"
     ]
    }
   ],
   "source": [
    "training_loop(\n",
    "    n_epochs = 100,\n",
    "    optimizer = torch.optim.SGD(model.parameters(),lr = 0.01),\n",
    "    model = model,\n",
    "    data_list = data_list,\n",
    "    )"
   ]
  },
  {
   "cell_type": "code",
   "execution_count": null,
   "metadata": {},
   "outputs": [],
   "source": []
  },
  {
   "cell_type": "code",
   "execution_count": null,
   "metadata": {},
   "outputs": [],
   "source": []
  }
 ],
 "metadata": {
  "kernelspec": {
   "display_name": "Python 3",
   "language": "python",
   "name": "python3"
  },
  "language_info": {
   "codemirror_mode": {
    "name": "ipython",
    "version": 3
   },
   "file_extension": ".py",
   "mimetype": "text/x-python",
   "name": "python",
   "nbconvert_exporter": "python",
   "pygments_lexer": "ipython3",
   "version": "3.7.3"
  }
 },
 "nbformat": 4,
 "nbformat_minor": 4
}