{
 "cells": [
  {
   "cell_type": "code",
   "execution_count": 5,
   "metadata": {},
   "outputs": [],
   "source": [
    "import torch\n",
    "import torch.nn as nn\n",
    "import torch.nn.functional as F\n",
    "import numpy as np\n",
    "import pandas as pd"
   ]
  },
  {
   "cell_type": "code",
   "execution_count": 110,
   "metadata": {},
   "outputs": [],
   "source": [
    "from ptranking.data.data_utils import LTRDataset, SPLIT_TYPE\n",
    "data_id = 'MQ2007_Super'\n",
    "#MQ2007内にあるもの\n",
    "fold1 = LTRDataset(SPLIT_TYPE.Train, data_id=data_id, file='S1.txt', batch_size=1, shuffle=True, presort=True, data_dict=None, eval_dict=None, buffer=False)\n",
    "fold2 = LTRDataset(SPLIT_TYPE.Train, data_id=data_id, file='S2.txt', batch_size=1, shuffle=True, presort=True, data_dict=None, eval_dict=None, buffer=False)\n",
    "fold3 = LTRDataset(SPLIT_TYPE.Train, data_id=data_id, file='S3.txt', batch_size=1, shuffle=True, presort=True, data_dict=None, eval_dict=None, buffer=False)\n",
    "fold4 = LTRDataset(SPLIT_TYPE.Train, data_id=data_id, file='S4.txt', batch_size=1, shuffle=True, presort=True, data_dict=None, eval_dict=None, buffer=False)\n",
    "fold5 = LTRDataset(SPLIT_TYPE.Train, data_id=data_id, file='S5.txt', batch_size=1, shuffle=True, presort=True, data_dict=None, eval_dict=None, buffer=False)\n",
    "test_data = LTRDataset(SPLIT_TYPE.Train, data_id=data_id, file='test.txt', batch_size=1, shuffle=True, presort=True, data_dict=None, eval_dict=None, buffer=False)"
   ]
  },
  {
   "cell_type": "code",
   "execution_count": 61,
   "metadata": {},
   "outputs": [],
   "source": [
    "layers = [nn.Linear(46, 128),\n",
    "          nn.ReLU(),\n",
    "          nn.Linear(128, 64),\n",
    "          nn.ReLU(),\n",
    "          nn.Linear(64, 32),\n",
    "          nn.ReLU(),\n",
    "          nn.Linear(32, 1)]"
   ]
  },
  {
   "cell_type": "code",
   "execution_count": 63,
   "metadata": {},
   "outputs": [],
   "source": [
    "class RankNet(nn.Module):\n",
    "    def __init__(self, layers):\n",
    "        super(RankNet, self).__init__()\n",
    "        self.model = nn.Sequential(*layers)\n",
    "        \n",
    "    def forward(self, batch_ranking, label):\n",
    "        batch_pred = self.model(batch_ranking) # [1, 40, 1]\n",
    "        batch_sij = torch.squeeze(batch_pred, 0) - torch.squeeze(batch_pred, 2) # [40, 40]\n",
    "\n",
    "        label_dim = torch.squeeze(label)\n",
    "        label_diffs = torch.unsqueeze(label_dim, 1) - label # [40,40]\n",
    "        batch_Sij = torch.clamp(label_diffs, -1, 1)\n",
    "                \n",
    "        # computes p_ij\n",
    "        batch_pij = 1 / (1 + torch.exp(-batch_sij)) # [40, 40]\n",
    "                \n",
    "        # computes loss\n",
    "        batch_loss = 0.5 * (1-batch_Sij) * batch_sij + torch.log(1+torch.exp(-batch_sij)) #[40, 40]\n",
    "                \n",
    "        # 上三角行列\n",
    "        batch_loss_triu = torch.triu(batch_loss, diagonal=1)\n",
    "\n",
    "        # 損失の平均\n",
    "        num_elements = (batch_loss_triu.size(1)*batch_loss_triu.size(1)-batch_loss_triu.size(1))/2\n",
    "        batch_loss_mean = torch.sum(batch_loss)/num_elements\n",
    "        \n",
    "        #loss_list.append(batch_loss_mean)\n",
    "                \n",
    "        #print(\"batch_loss_mean\", batch_loss_mean)\n",
    "        \n",
    "        return batch_loss_mean\n",
    "    \n",
    "    def predict(self, x):\n",
    "        return self.model(x)"
   ]
  },
  {
   "cell_type": "code",
   "execution_count": 64,
   "metadata": {},
   "outputs": [],
   "source": [
    "# クラスのインスタンス化\n",
    "model = RankNet(layers)"
   ]
  },
  {
   "cell_type": "code",
   "execution_count": 65,
   "metadata": {},
   "outputs": [],
   "source": [
    "def DCG(sorted_labels, cutoff):\n",
    "    denoms = torch.log2(torch.arange(2, cutoff+2))\n",
    "    nums = torch.pow(2, sorted_labels[0:cutoff])-1\n",
    "    dcg = sum(nums / denoms)\n",
    "    return dcg"
   ]
  },
  {
   "cell_type": "code",
   "execution_count": 66,
   "metadata": {},
   "outputs": [],
   "source": [
    "def nDCG(ideal, pred, k):\n",
    "    dcg_f = DCG(pred, k)\n",
    "    dcg = DCG(ideal, k)\n",
    "    nDCG = dcg_f / dcg\n",
    "    return nDCG"
   ]
  },
  {
   "cell_type": "code",
   "execution_count": 112,
   "metadata": {},
   "outputs": [],
   "source": [
    "def training_loop(n_epochs,optimizer,model,data_list,cutoff):\n",
    "    # epoch 回の訓練\n",
    "    for epoch in range(1, n_epochs + 1):\n",
    "    \n",
    "        count = 0\n",
    "        test_ndcg_mean = []\n",
    "        while count < 5:\n",
    "            # 最初の4つを訓練に\n",
    "            # 最後の1つをテストに\n",
    "            train = data_list[:4]\n",
    "            test = data_list[4]\n",
    "            fold_train_loss = []\n",
    "            fold_train_ndcg = []\n",
    "\n",
    "            # fold loop\n",
    "            for fold in train:\n",
    "                loss_list = []\n",
    "                ndcg_list = []\n",
    "\n",
    "                # クエリごとの訓練\n",
    "                for _,batch_ranking,label in fold:\n",
    "\n",
    "                    batch_loss_mean = model.forward(batch_ranking=batch_ranking, label=label)\n",
    "                    loss_list.append(batch_loss_mean) # クエリ一つのloss\n",
    "                    \n",
    "                    t = model.predict(batch_ranking)\n",
    "                    r = torch.argsort(t,dim=1,descending = True)\n",
    "                    ideal,_ = torch.sort(label,1,descending = True)\n",
    "                    ideal = torch.unsqueeze(ideal,2).reshape(-1)\n",
    "                    pred = torch.gather(label.unsqueeze(2),1,r).reshape(-1)\n",
    "                    # nanが含まれる場合その後の計算も全部nanになってしまったので\n",
    "                    ndcg = torch.nan_to_num(nDCG(ideal,pred,cutoff))\n",
    "                    ndcg_list.append(ndcg)\n",
    "\n",
    "                fold_train_loss.append(sum(loss_list)/len(fold)) # fold1つあたりのloss\n",
    "                fold_train_ndcg.append(sum(ndcg_list)/len(fold)) # fold1つあたりのndcg\n",
    "\n",
    "            count += 1\n",
    "            #　右にひとつシフト ([1,2,3,4,5] -> [5,1,2,3,4]となる)\n",
    "            data_list.insert(0,data_list.pop())\n",
    "        \n",
    "        # fold の平均\n",
    "        epoch_loss = sum(fold_train_loss)/len(fold_train_loss)\n",
    "        epoch_ndcg = sum(fold_train_ndcg)/len(fold_train_ndcg)\n",
    "        \n",
    "        if epoch%10==0:\n",
    "            print(\"epoch: \", epoch, \"loss: \", epoch_loss, \"ndcg: \", epoch_ndcg)\n",
    "        \n",
    "        optimizer.zero_grad()\n",
    "        batch_loss_mean.backward()\n",
    "        optimizer.step()"
   ]
  },
  {
   "cell_type": "code",
   "execution_count": 89,
   "metadata": {},
   "outputs": [],
   "source": [
    "data_list = [fold1,fold2,fold3,fold4,fold5]"
   ]
  },
  {
   "cell_type": "code",
   "execution_count": 113,
   "metadata": {},
   "outputs": [
    {
     "name": "stdout",
     "output_type": "stream",
     "text": [
      "epoch:  10 loss:  tensor(1.4073, grad_fn=<DivBackward0>) ndcg:  tensor(0.3824)\n",
      "epoch:  20 loss:  tensor(1.4157, grad_fn=<DivBackward0>) ndcg:  tensor(0.3752)\n",
      "epoch:  30 loss:  tensor(1.4254, grad_fn=<DivBackward0>) ndcg:  tensor(0.3702)\n",
      "epoch:  40 loss:  tensor(1.4357, grad_fn=<DivBackward0>) ndcg:  tensor(0.3679)\n",
      "epoch:  50 loss:  tensor(1.4463, grad_fn=<DivBackward0>) ndcg:  tensor(0.3657)\n",
      "epoch:  60 loss:  tensor(1.4566, grad_fn=<DivBackward0>) ndcg:  tensor(0.3631)\n",
      "epoch:  70 loss:  tensor(1.4668, grad_fn=<DivBackward0>) ndcg:  tensor(0.3622)\n",
      "epoch:  80 loss:  tensor(1.4769, grad_fn=<DivBackward0>) ndcg:  tensor(0.3612)\n",
      "epoch:  90 loss:  tensor(1.4869, grad_fn=<DivBackward0>) ndcg:  tensor(0.3600)\n",
      "epoch:  100 loss:  tensor(1.4967, grad_fn=<DivBackward0>) ndcg:  tensor(0.3603)\n"
     ]
    }
   ],
   "source": [
    "training_loop(\n",
    "    n_epochs = 100,\n",
    "    optimizer = torch.optim.SGD(model.parameters(),lr = 0.01),\n",
    "    model = model,\n",
    "    data_list = data_list,\n",
    "    cutoff = 5\n",
    "    )"
   ]
  },
  {
   "cell_type": "code",
   "execution_count": 114,
   "metadata": {},
   "outputs": [
    {
     "name": "stdout",
     "output_type": "stream",
     "text": [
      "loss:  tensor(1.4923)\n",
      "ndcg:  tensor(0.4047)\n"
     ]
    }
   ],
   "source": [
    "# test\n",
    "with torch.no_grad():\n",
    "    loss_sum = 0\n",
    "    ndcg_sum = 0\n",
    "    for _,batch_ranking,label in test_data:\n",
    "        \n",
    "        # computes loss\n",
    "        batch_loss_mean = model.forward(batch_ranking=batch_ranking, label=label)\n",
    "        loss_sum += batch_loss_mean\n",
    "        \n",
    "        #computes ndcg\n",
    "        t = model.predict(batch_ranking)\n",
    "        r = torch.argsort(t,dim=1,descending = True)\n",
    "        ideal,_ = torch.sort(label,1,descending = True)\n",
    "        ideal = torch.unsqueeze(ideal,2).reshape(-1)\n",
    "        pred = torch.gather(label.unsqueeze(2),1,r).reshape(-1)\n",
    "        ndcg = torch.nan_to_num(nDCG(ideal,pred,5))\n",
    "        ndcg_sum += ndcg\n",
    "        \n",
    "    loss_sum /= len(test_data)    \n",
    "    ndcg_sum /= len(test_data)\n",
    "    print(\"loss: \", loss_sum)\n",
    "    print(\"ndcg: \", ndcg_sum)"
   ]
  },
  {
   "cell_type": "code",
   "execution_count": null,
   "metadata": {},
   "outputs": [],
   "source": []
  }
 ],
 "metadata": {
  "kernelspec": {
   "display_name": "Python 3",
   "language": "python",
   "name": "python3"
  },
  "language_info": {
   "codemirror_mode": {
    "name": "ipython",
    "version": 3
   },
   "file_extension": ".py",
   "mimetype": "text/x-python",
   "name": "python",
   "nbconvert_exporter": "python",
   "pygments_lexer": "ipython3",
   "version": "3.7.3"
  }
 },
 "nbformat": 4,
 "nbformat_minor": 4
}
